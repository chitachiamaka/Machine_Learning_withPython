{
 "cells": [
  {
   "cell_type": "code",
   "execution_count": 1,
   "id": "729ca815-6b70-4c38-9d87-8afee50ae737",
   "metadata": {},
   "outputs": [],
   "source": [
    "## !pip install pandas"
   ]
  },
  {
   "cell_type": "markdown",
   "id": "a6fce5aa-55f2-49bd-b617-2cfd46b208f1",
   "metadata": {},
   "source": [
    "# Pandas Basics"
   ]
  },
  {
   "cell_type": "markdown",
   "id": "6008a74c-c07f-4e12-9a59-27a7e84484b2",
   "metadata": {},
   "source": [
    "> Pandas is a widely-used Python library for data manipulation and analysis, centred around tabular data structures. It offers powerful and flexible data structures, such as `DataFrame`s and `Series`, to enable efficient data wrangling, cleaning, and analysis.\n",
    "\n",
    "### Key Features of Pandas\n",
    "\n",
    "Pandas has a wide range of features for viewing and manipulating tabular data:\n",
    "\n",
    "- **Data Exploration and Analysis**: It provides functions for calculating descriptive statistics, summarising data, and identifying trends or patterns\n",
    "- **Graphing and Visualization**: It has integrations with libraries like Matplotlib for creating informative plots and charts directly from `DataFrame`s\n",
    "- **Data Cleaning and Preparation**: Tools for handling missing data, detecting outliers, and preparing datasets for analysis or machine learning models\n",
    "- **Data Transformation**: Capabilities for reshaping, pivoting, and transforming datasets to suit specific analysis needs\n",
    "- **File Compatibility and I/O**: Efficiently reads and writes to a variety of file formats, such as CSV, Excel, and SQL databases, facilitating easy data import and export\n",
    "\n",
    "## Practical Applications\n",
    "\n",
    "Pandas is used in various applications within data science and related fields:\n",
    "\n",
    "- **Data Cleaning and Preparation**: It streamlines the process of cleaning raw data, handling missing values, and preparing datasets for analysis\n",
    "- **Exploratory Data Analysis (EDA)**: Offers tools for deep-diving into datasets, uncovering insights, and informing subsequent analysis or modelling decisions\n",
    "- **Data Transformation and Aggregation**: Essential for reshaping data, creating summary tables, and performing group-wise operations for data analysis\n",
    "- **Data Visualisation**: Aids in creating meaningful visual representations of data, crucial for reporting and storytelling in data science\n",
    "\n",
    "Pandas' functionality is not only robust but also relatively user-friendly, making it a go-to tool for data professionals seeking to perform efficient and effective data analysis."
   ]
  },
  {
   "cell_type": "markdown",
   "id": "ee84527c-8c2a-4daa-bc66-fca5b0cdb635",
   "metadata": {},
   "source": [
    "## Installation\n",
    "\n",
    "Pandas can be installed directly via `pip` using the `pip install pandas` command. Alternatively you can create a Conda environment and then use `conda install pandas` inside the activated environment.\n",
    "\n",
    "You can check that Pandas is installed correctly using the following command in your CLI:\n",
    "\n",
    "`python -c \"import pandas as pd; print(pd.__version__)\"`\n",
    "\n",
    "This should return the version of Pandas that you have installed."
   ]
  },
  {
   "cell_type": "markdown",
   "id": "2dc3e593-a4f1-446e-be4f-16a58dd649ef",
   "metadata": {},
   "source": [
    "## Pandas Data Structures\n",
    "\n",
    "> Pandas introduces two primary data structures: `Series` and `DataFrame`. A `Series` is a one-dimensional array-like object, akin to a column in a spreadsheet, while a `DataFrame` is a two-dimensional table with rows and columns, similar to a whole spreadsheet. Both are built on top of `array` objects from the NumPy library, which are multidimensional arrays intended for numerical data. Pandas extends their capabilities with more functionality and a focus on using a wider variety of data types. Pandas `Series` objects are ideal for single-dimensional data representation, whereas `DataFrames` are more suited for complex, multi-dimensional data analysis.  \n",
    "\n",
    "Each of these data structures have a wide range of powerful built-in methods that allow you to perform all sorts of data tasks quickly and efficiently.\n",
    "\n",
    "\n",
    "###  Pandas `DataFrame`\n",
    "\n",
    "\n",
    ">A `DataFrame` (often abbreviated to `df`) is like a table or an Excel spreadsheet. It's a 2-dimensional array used to store and work with data. It has rows and columns, where each column can have a different type of data, like numbers or text. It's great for analysing and organizing tabular data. Like other Python data structures, a `DataFrame` is an object with a range of associated methods, and it is these methods that make the `DataFrame` a powerful tool for analysis.\n",
    "\n",
    "Let's take a look at an example `DataFrame`. We will define a simple Python dictionary and then convert it into a `DataFrame` using the `pd.Dataframe()` function. You can then view the first few rows using the `DataFrame`'s `.head()` method, optionally passing a number of rows as an argument:\n",
    "\n",
    "\n",
    "\n",
    "\n",
    "\n",
    "\n",
    "\n",
    "\n",
    "\n"
   ]
  },
  {
   "cell_type": "code",
   "execution_count": 2,
   "id": "ac58c003-a0ea-4594-a15f-bb34d9aba3e5",
   "metadata": {},
   "outputs": [
    {
     "name": "stderr",
     "output_type": "stream",
     "text": [
      "\n",
      "A module that was compiled using NumPy 1.x cannot be run in\n",
      "NumPy 2.1.1 as it may crash. To support both 1.x and 2.x\n",
      "versions of NumPy, modules must be compiled with NumPy 2.0.\n",
      "Some module may need to rebuild instead e.g. with 'pybind11>=2.12'.\n",
      "\n",
      "If you are a user of the module, the easiest solution will be to\n",
      "downgrade to 'numpy<2' or try to upgrade the affected module.\n",
      "We expect that some modules will need time to support NumPy 2.\n",
      "\n",
      "Traceback (most recent call last):  File \"<frozen runpy>\", line 198, in _run_module_as_main\n",
      "  File \"<frozen runpy>\", line 88, in _run_code\n",
      "  File \"/Users/adebayoolaonipekun/anaconda3/lib/python3.11/site-packages/ipykernel_launcher.py\", line 17, in <module>\n",
      "    app.launch_new_instance()\n",
      "  File \"/Users/adebayoolaonipekun/anaconda3/lib/python3.11/site-packages/traitlets/config/application.py\", line 992, in launch_instance\n",
      "    app.start()\n",
      "  File \"/Users/adebayoolaonipekun/anaconda3/lib/python3.11/site-packages/ipykernel/kernelapp.py\", line 701, in start\n",
      "    self.io_loop.start()\n",
      "  File \"/Users/adebayoolaonipekun/anaconda3/lib/python3.11/site-packages/tornado/platform/asyncio.py\", line 195, in start\n",
      "    self.asyncio_loop.run_forever()\n",
      "  File \"/Users/adebayoolaonipekun/anaconda3/lib/python3.11/asyncio/base_events.py\", line 607, in run_forever\n",
      "    self._run_once()\n",
      "  File \"/Users/adebayoolaonipekun/anaconda3/lib/python3.11/asyncio/base_events.py\", line 1922, in _run_once\n",
      "    handle._run()\n",
      "  File \"/Users/adebayoolaonipekun/anaconda3/lib/python3.11/asyncio/events.py\", line 80, in _run\n",
      "    self._context.run(self._callback, *self._args)\n",
      "  File \"/Users/adebayoolaonipekun/anaconda3/lib/python3.11/site-packages/ipykernel/kernelbase.py\", line 534, in dispatch_queue\n",
      "    await self.process_one()\n",
      "  File \"/Users/adebayoolaonipekun/anaconda3/lib/python3.11/site-packages/ipykernel/kernelbase.py\", line 523, in process_one\n",
      "    await dispatch(*args)\n",
      "  File \"/Users/adebayoolaonipekun/anaconda3/lib/python3.11/site-packages/ipykernel/kernelbase.py\", line 429, in dispatch_shell\n",
      "    await result\n",
      "  File \"/Users/adebayoolaonipekun/anaconda3/lib/python3.11/site-packages/ipykernel/kernelbase.py\", line 767, in execute_request\n",
      "    reply_content = await reply_content\n",
      "  File \"/Users/adebayoolaonipekun/anaconda3/lib/python3.11/site-packages/ipykernel/ipkernel.py\", line 429, in do_execute\n",
      "    res = shell.run_cell(\n",
      "  File \"/Users/adebayoolaonipekun/anaconda3/lib/python3.11/site-packages/ipykernel/zmqshell.py\", line 549, in run_cell\n",
      "    return super().run_cell(*args, **kwargs)\n",
      "  File \"/Users/adebayoolaonipekun/anaconda3/lib/python3.11/site-packages/IPython/core/interactiveshell.py\", line 3051, in run_cell\n",
      "    result = self._run_cell(\n",
      "  File \"/Users/adebayoolaonipekun/anaconda3/lib/python3.11/site-packages/IPython/core/interactiveshell.py\", line 3106, in _run_cell\n",
      "    result = runner(coro)\n",
      "  File \"/Users/adebayoolaonipekun/anaconda3/lib/python3.11/site-packages/IPython/core/async_helpers.py\", line 129, in _pseudo_sync_runner\n",
      "    coro.send(None)\n",
      "  File \"/Users/adebayoolaonipekun/anaconda3/lib/python3.11/site-packages/IPython/core/interactiveshell.py\", line 3311, in run_cell_async\n",
      "    has_raised = await self.run_ast_nodes(code_ast.body, cell_name,\n",
      "  File \"/Users/adebayoolaonipekun/anaconda3/lib/python3.11/site-packages/IPython/core/interactiveshell.py\", line 3493, in run_ast_nodes\n",
      "    if await self.run_code(code, result, async_=asy):\n",
      "  File \"/Users/adebayoolaonipekun/anaconda3/lib/python3.11/site-packages/IPython/core/interactiveshell.py\", line 3553, in run_code\n",
      "    exec(code_obj, self.user_global_ns, self.user_ns)\n",
      "  File \"/var/folders/m8/w9zyx7t94ss382j4l7ybndwh0000gn/T/ipykernel_48773/4080736814.py\", line 1, in <module>\n",
      "    import pandas as pd\n",
      "  File \"/Users/adebayoolaonipekun/anaconda3/lib/python3.11/site-packages/pandas/__init__.py\", line 26, in <module>\n",
      "    from pandas.compat import (\n",
      "  File \"/Users/adebayoolaonipekun/anaconda3/lib/python3.11/site-packages/pandas/compat/__init__.py\", line 27, in <module>\n",
      "    from pandas.compat.pyarrow import (\n",
      "  File \"/Users/adebayoolaonipekun/anaconda3/lib/python3.11/site-packages/pandas/compat/pyarrow.py\", line 8, in <module>\n",
      "    import pyarrow as pa\n",
      "  File \"/Users/adebayoolaonipekun/anaconda3/lib/python3.11/site-packages/pyarrow/__init__.py\", line 65, in <module>\n",
      "    import pyarrow.lib as _lib\n"
     ]
    },
    {
     "ename": "AttributeError",
     "evalue": "_ARRAY_API not found",
     "output_type": "error",
     "traceback": [
      "\u001b[0;31m---------------------------------------------------------------------------\u001b[0m",
      "\u001b[0;31mAttributeError\u001b[0m                            Traceback (most recent call last)",
      "\u001b[0;31mAttributeError\u001b[0m: _ARRAY_API not found"
     ]
    },
    {
     "name": "stderr",
     "output_type": "stream",
     "text": [
      "\n",
      "A module that was compiled using NumPy 1.x cannot be run in\n",
      "NumPy 2.1.1 as it may crash. To support both 1.x and 2.x\n",
      "versions of NumPy, modules must be compiled with NumPy 2.0.\n",
      "Some module may need to rebuild instead e.g. with 'pybind11>=2.12'.\n",
      "\n",
      "If you are a user of the module, the easiest solution will be to\n",
      "downgrade to 'numpy<2' or try to upgrade the affected module.\n",
      "We expect that some modules will need time to support NumPy 2.\n",
      "\n",
      "Traceback (most recent call last):  File \"<frozen runpy>\", line 198, in _run_module_as_main\n",
      "  File \"<frozen runpy>\", line 88, in _run_code\n",
      "  File \"/Users/adebayoolaonipekun/anaconda3/lib/python3.11/site-packages/ipykernel_launcher.py\", line 17, in <module>\n",
      "    app.launch_new_instance()\n",
      "  File \"/Users/adebayoolaonipekun/anaconda3/lib/python3.11/site-packages/traitlets/config/application.py\", line 992, in launch_instance\n",
      "    app.start()\n",
      "  File \"/Users/adebayoolaonipekun/anaconda3/lib/python3.11/site-packages/ipykernel/kernelapp.py\", line 701, in start\n",
      "    self.io_loop.start()\n",
      "  File \"/Users/adebayoolaonipekun/anaconda3/lib/python3.11/site-packages/tornado/platform/asyncio.py\", line 195, in start\n",
      "    self.asyncio_loop.run_forever()\n",
      "  File \"/Users/adebayoolaonipekun/anaconda3/lib/python3.11/asyncio/base_events.py\", line 607, in run_forever\n",
      "    self._run_once()\n",
      "  File \"/Users/adebayoolaonipekun/anaconda3/lib/python3.11/asyncio/base_events.py\", line 1922, in _run_once\n",
      "    handle._run()\n",
      "  File \"/Users/adebayoolaonipekun/anaconda3/lib/python3.11/asyncio/events.py\", line 80, in _run\n",
      "    self._context.run(self._callback, *self._args)\n",
      "  File \"/Users/adebayoolaonipekun/anaconda3/lib/python3.11/site-packages/ipykernel/kernelbase.py\", line 534, in dispatch_queue\n",
      "    await self.process_one()\n",
      "  File \"/Users/adebayoolaonipekun/anaconda3/lib/python3.11/site-packages/ipykernel/kernelbase.py\", line 523, in process_one\n",
      "    await dispatch(*args)\n",
      "  File \"/Users/adebayoolaonipekun/anaconda3/lib/python3.11/site-packages/ipykernel/kernelbase.py\", line 429, in dispatch_shell\n",
      "    await result\n",
      "  File \"/Users/adebayoolaonipekun/anaconda3/lib/python3.11/site-packages/ipykernel/kernelbase.py\", line 767, in execute_request\n",
      "    reply_content = await reply_content\n",
      "  File \"/Users/adebayoolaonipekun/anaconda3/lib/python3.11/site-packages/ipykernel/ipkernel.py\", line 429, in do_execute\n",
      "    res = shell.run_cell(\n",
      "  File \"/Users/adebayoolaonipekun/anaconda3/lib/python3.11/site-packages/ipykernel/zmqshell.py\", line 549, in run_cell\n",
      "    return super().run_cell(*args, **kwargs)\n",
      "  File \"/Users/adebayoolaonipekun/anaconda3/lib/python3.11/site-packages/IPython/core/interactiveshell.py\", line 3051, in run_cell\n",
      "    result = self._run_cell(\n",
      "  File \"/Users/adebayoolaonipekun/anaconda3/lib/python3.11/site-packages/IPython/core/interactiveshell.py\", line 3106, in _run_cell\n",
      "    result = runner(coro)\n",
      "  File \"/Users/adebayoolaonipekun/anaconda3/lib/python3.11/site-packages/IPython/core/async_helpers.py\", line 129, in _pseudo_sync_runner\n",
      "    coro.send(None)\n",
      "  File \"/Users/adebayoolaonipekun/anaconda3/lib/python3.11/site-packages/IPython/core/interactiveshell.py\", line 3311, in run_cell_async\n",
      "    has_raised = await self.run_ast_nodes(code_ast.body, cell_name,\n",
      "  File \"/Users/adebayoolaonipekun/anaconda3/lib/python3.11/site-packages/IPython/core/interactiveshell.py\", line 3493, in run_ast_nodes\n",
      "    if await self.run_code(code, result, async_=asy):\n",
      "  File \"/Users/adebayoolaonipekun/anaconda3/lib/python3.11/site-packages/IPython/core/interactiveshell.py\", line 3553, in run_code\n",
      "    exec(code_obj, self.user_global_ns, self.user_ns)\n",
      "  File \"/var/folders/m8/w9zyx7t94ss382j4l7ybndwh0000gn/T/ipykernel_48773/4080736814.py\", line 1, in <module>\n",
      "    import pandas as pd\n",
      "  File \"/Users/adebayoolaonipekun/anaconda3/lib/python3.11/site-packages/pandas/__init__.py\", line 49, in <module>\n",
      "    from pandas.core.api import (\n",
      "  File \"/Users/adebayoolaonipekun/anaconda3/lib/python3.11/site-packages/pandas/core/api.py\", line 9, in <module>\n",
      "    from pandas.core.dtypes.dtypes import (\n",
      "  File \"/Users/adebayoolaonipekun/anaconda3/lib/python3.11/site-packages/pandas/core/dtypes/dtypes.py\", line 24, in <module>\n",
      "    from pandas._libs import (\n",
      "  File \"/Users/adebayoolaonipekun/anaconda3/lib/python3.11/site-packages/pyarrow/__init__.py\", line 65, in <module>\n",
      "    import pyarrow.lib as _lib\n"
     ]
    },
    {
     "ename": "AttributeError",
     "evalue": "_ARRAY_API not found",
     "output_type": "error",
     "traceback": [
      "\u001b[0;31m---------------------------------------------------------------------------\u001b[0m",
      "\u001b[0;31mAttributeError\u001b[0m                            Traceback (most recent call last)",
      "\u001b[0;31mAttributeError\u001b[0m: _ARRAY_API not found"
     ]
    },
    {
     "name": "stderr",
     "output_type": "stream",
     "text": [
      "\n",
      "A module that was compiled using NumPy 1.x cannot be run in\n",
      "NumPy 2.1.1 as it may crash. To support both 1.x and 2.x\n",
      "versions of NumPy, modules must be compiled with NumPy 2.0.\n",
      "Some module may need to rebuild instead e.g. with 'pybind11>=2.12'.\n",
      "\n",
      "If you are a user of the module, the easiest solution will be to\n",
      "downgrade to 'numpy<2' or try to upgrade the affected module.\n",
      "We expect that some modules will need time to support NumPy 2.\n",
      "\n",
      "Traceback (most recent call last):  File \"<frozen runpy>\", line 198, in _run_module_as_main\n",
      "  File \"<frozen runpy>\", line 88, in _run_code\n",
      "  File \"/Users/adebayoolaonipekun/anaconda3/lib/python3.11/site-packages/ipykernel_launcher.py\", line 17, in <module>\n",
      "    app.launch_new_instance()\n",
      "  File \"/Users/adebayoolaonipekun/anaconda3/lib/python3.11/site-packages/traitlets/config/application.py\", line 992, in launch_instance\n",
      "    app.start()\n",
      "  File \"/Users/adebayoolaonipekun/anaconda3/lib/python3.11/site-packages/ipykernel/kernelapp.py\", line 701, in start\n",
      "    self.io_loop.start()\n",
      "  File \"/Users/adebayoolaonipekun/anaconda3/lib/python3.11/site-packages/tornado/platform/asyncio.py\", line 195, in start\n",
      "    self.asyncio_loop.run_forever()\n",
      "  File \"/Users/adebayoolaonipekun/anaconda3/lib/python3.11/asyncio/base_events.py\", line 607, in run_forever\n",
      "    self._run_once()\n",
      "  File \"/Users/adebayoolaonipekun/anaconda3/lib/python3.11/asyncio/base_events.py\", line 1922, in _run_once\n",
      "    handle._run()\n",
      "  File \"/Users/adebayoolaonipekun/anaconda3/lib/python3.11/asyncio/events.py\", line 80, in _run\n",
      "    self._context.run(self._callback, *self._args)\n",
      "  File \"/Users/adebayoolaonipekun/anaconda3/lib/python3.11/site-packages/ipykernel/kernelbase.py\", line 534, in dispatch_queue\n",
      "    await self.process_one()\n",
      "  File \"/Users/adebayoolaonipekun/anaconda3/lib/python3.11/site-packages/ipykernel/kernelbase.py\", line 523, in process_one\n",
      "    await dispatch(*args)\n",
      "  File \"/Users/adebayoolaonipekun/anaconda3/lib/python3.11/site-packages/ipykernel/kernelbase.py\", line 429, in dispatch_shell\n",
      "    await result\n",
      "  File \"/Users/adebayoolaonipekun/anaconda3/lib/python3.11/site-packages/ipykernel/kernelbase.py\", line 767, in execute_request\n",
      "    reply_content = await reply_content\n",
      "  File \"/Users/adebayoolaonipekun/anaconda3/lib/python3.11/site-packages/ipykernel/ipkernel.py\", line 429, in do_execute\n",
      "    res = shell.run_cell(\n",
      "  File \"/Users/adebayoolaonipekun/anaconda3/lib/python3.11/site-packages/ipykernel/zmqshell.py\", line 549, in run_cell\n",
      "    return super().run_cell(*args, **kwargs)\n",
      "  File \"/Users/adebayoolaonipekun/anaconda3/lib/python3.11/site-packages/IPython/core/interactiveshell.py\", line 3051, in run_cell\n",
      "    result = self._run_cell(\n",
      "  File \"/Users/adebayoolaonipekun/anaconda3/lib/python3.11/site-packages/IPython/core/interactiveshell.py\", line 3106, in _run_cell\n",
      "    result = runner(coro)\n",
      "  File \"/Users/adebayoolaonipekun/anaconda3/lib/python3.11/site-packages/IPython/core/async_helpers.py\", line 129, in _pseudo_sync_runner\n",
      "    coro.send(None)\n",
      "  File \"/Users/adebayoolaonipekun/anaconda3/lib/python3.11/site-packages/IPython/core/interactiveshell.py\", line 3311, in run_cell_async\n",
      "    has_raised = await self.run_ast_nodes(code_ast.body, cell_name,\n",
      "  File \"/Users/adebayoolaonipekun/anaconda3/lib/python3.11/site-packages/IPython/core/interactiveshell.py\", line 3493, in run_ast_nodes\n",
      "    if await self.run_code(code, result, async_=asy):\n",
      "  File \"/Users/adebayoolaonipekun/anaconda3/lib/python3.11/site-packages/IPython/core/interactiveshell.py\", line 3553, in run_code\n",
      "    exec(code_obj, self.user_global_ns, self.user_ns)\n",
      "  File \"/var/folders/m8/w9zyx7t94ss382j4l7ybndwh0000gn/T/ipykernel_48773/4080736814.py\", line 1, in <module>\n",
      "    import pandas as pd\n",
      "  File \"/Users/adebayoolaonipekun/anaconda3/lib/python3.11/site-packages/pandas/__init__.py\", line 49, in <module>\n",
      "    from pandas.core.api import (\n",
      "  File \"/Users/adebayoolaonipekun/anaconda3/lib/python3.11/site-packages/pandas/core/api.py\", line 28, in <module>\n",
      "    from pandas.core.arrays import Categorical\n",
      "  File \"/Users/adebayoolaonipekun/anaconda3/lib/python3.11/site-packages/pandas/core/arrays/__init__.py\", line 1, in <module>\n",
      "    from pandas.core.arrays.arrow import ArrowExtensionArray\n",
      "  File \"/Users/adebayoolaonipekun/anaconda3/lib/python3.11/site-packages/pandas/core/arrays/arrow/__init__.py\", line 5, in <module>\n",
      "    from pandas.core.arrays.arrow.array import ArrowExtensionArray\n",
      "  File \"/Users/adebayoolaonipekun/anaconda3/lib/python3.11/site-packages/pandas/core/arrays/arrow/array.py\", line 50, in <module>\n",
      "    from pandas.core import (\n",
      "  File \"/Users/adebayoolaonipekun/anaconda3/lib/python3.11/site-packages/pandas/core/ops/__init__.py\", line 8, in <module>\n",
      "    from pandas.core.ops.array_ops import (\n",
      "  File \"/Users/adebayoolaonipekun/anaconda3/lib/python3.11/site-packages/pandas/core/ops/array_ops.py\", line 56, in <module>\n",
      "    from pandas.core.computation import expressions\n",
      "  File \"/Users/adebayoolaonipekun/anaconda3/lib/python3.11/site-packages/pandas/core/computation/expressions.py\", line 21, in <module>\n",
      "    from pandas.core.computation.check import NUMEXPR_INSTALLED\n",
      "  File \"/Users/adebayoolaonipekun/anaconda3/lib/python3.11/site-packages/pandas/core/computation/check.py\", line 5, in <module>\n",
      "    ne = import_optional_dependency(\"numexpr\", errors=\"warn\")\n",
      "  File \"/Users/adebayoolaonipekun/anaconda3/lib/python3.11/site-packages/pandas/compat/_optional.py\", line 135, in import_optional_dependency\n",
      "    module = importlib.import_module(name)\n",
      "  File \"/Users/adebayoolaonipekun/anaconda3/lib/python3.11/importlib/__init__.py\", line 126, in import_module\n",
      "    return _bootstrap._gcd_import(name[level:], package, level)\n",
      "  File \"/Users/adebayoolaonipekun/anaconda3/lib/python3.11/site-packages/numexpr/__init__.py\", line 24, in <module>\n",
      "    from numexpr.interpreter import MAX_THREADS, use_vml, __BLOCK_SIZE1__\n"
     ]
    },
    {
     "ename": "AttributeError",
     "evalue": "_ARRAY_API not found",
     "output_type": "error",
     "traceback": [
      "\u001b[0;31m---------------------------------------------------------------------------\u001b[0m",
      "\u001b[0;31mAttributeError\u001b[0m                            Traceback (most recent call last)",
      "\u001b[0;31mAttributeError\u001b[0m: _ARRAY_API not found"
     ]
    }
   ],
   "source": [
    "import pandas as pd"
   ]
  },
  {
   "cell_type": "code",
   "execution_count": 3,
   "id": "49eeddac-40d5-4794-a685-be9f354aa2ed",
   "metadata": {},
   "outputs": [],
   "source": [
    "data =  {\n",
    "    'name': ['Gabriel', 'Angela', 'Daniel'],\n",
    "    'age': [25, 40, 28],\n",
    "    'location': ['London', 'Gboko', 'Yaounde']\n",
    "}"
   ]
  },
  {
   "cell_type": "code",
   "execution_count": 4,
   "id": "3117487d-6d89-4f6c-9cfd-852d153d667f",
   "metadata": {},
   "outputs": [
    {
     "name": "stdout",
     "output_type": "stream",
     "text": [
      "{'name': ['Gabriel', 'Angela', 'Daniel'], 'age': [25, 40, 28], 'location': ['London', 'Gboko', 'Yaounde']}\n"
     ]
    }
   ],
   "source": [
    "print(data)"
   ]
  },
  {
   "cell_type": "code",
   "execution_count": 5,
   "id": "85d6b9d7-81c2-45c7-ae35-9619c9bbc99a",
   "metadata": {},
   "outputs": [],
   "source": [
    "example_df = pd.DataFrame(data)"
   ]
  },
  {
   "cell_type": "code",
   "execution_count": 6,
   "id": "6450cd46-d57c-4f20-a175-c87c76a0c7de",
   "metadata": {},
   "outputs": [
    {
     "data": {
      "text/html": [
       "<div>\n",
       "<style scoped>\n",
       "    .dataframe tbody tr th:only-of-type {\n",
       "        vertical-align: middle;\n",
       "    }\n",
       "\n",
       "    .dataframe tbody tr th {\n",
       "        vertical-align: top;\n",
       "    }\n",
       "\n",
       "    .dataframe thead th {\n",
       "        text-align: right;\n",
       "    }\n",
       "</style>\n",
       "<table border=\"1\" class=\"dataframe\">\n",
       "  <thead>\n",
       "    <tr style=\"text-align: right;\">\n",
       "      <th></th>\n",
       "      <th>name</th>\n",
       "      <th>age</th>\n",
       "      <th>location</th>\n",
       "    </tr>\n",
       "  </thead>\n",
       "  <tbody>\n",
       "    <tr>\n",
       "      <th>0</th>\n",
       "      <td>Gabriel</td>\n",
       "      <td>25</td>\n",
       "      <td>London</td>\n",
       "    </tr>\n",
       "    <tr>\n",
       "      <th>1</th>\n",
       "      <td>Angela</td>\n",
       "      <td>40</td>\n",
       "      <td>Gboko</td>\n",
       "    </tr>\n",
       "    <tr>\n",
       "      <th>2</th>\n",
       "      <td>Daniel</td>\n",
       "      <td>28</td>\n",
       "      <td>Yaounde</td>\n",
       "    </tr>\n",
       "  </tbody>\n",
       "</table>\n",
       "</div>"
      ],
      "text/plain": [
       "      name  age location\n",
       "0  Gabriel   25   London\n",
       "1   Angela   40    Gboko\n",
       "2   Daniel   28  Yaounde"
      ]
     },
     "execution_count": 6,
     "metadata": {},
     "output_type": "execute_result"
    }
   ],
   "source": [
    "example_df"
   ]
  },
  {
   "cell_type": "markdown",
   "id": "e9a5df00-24a4-485b-bb91-c571df515488",
   "metadata": {},
   "source": [
    "We can see that the `pd.DataFrame` constructor has taken our dictionary and produced a table with the keys as column names and the value lists as the data for each column. It has also added an extra column on the left. This is known as the `index` and is used to identify a specific row.\n",
    "### Pandas `Series`\n",
    "> A `Series` is like a single column of a `DataFrame`, a 1-dimensional array that can hold data of any type. \n",
    "\n",
    " We can create a `Series` from a list as follows:"
   ]
  },
  {
   "cell_type": "code",
   "execution_count": 7,
   "id": "36f65d54-443f-4fef-93b8-eee7b417eb8b",
   "metadata": {},
   "outputs": [],
   "source": [
    "my_list = [1, 2, 3]"
   ]
  },
  {
   "cell_type": "code",
   "execution_count": 8,
   "id": "4aa90a13-c8b9-430e-9b2d-842720037965",
   "metadata": {},
   "outputs": [],
   "source": [
    "example_series = pd.Series(my_list)"
   ]
  },
  {
   "cell_type": "code",
   "execution_count": 9,
   "id": "63bbe986-de74-459d-a7f1-bc85a477cf06",
   "metadata": {},
   "outputs": [
    {
     "data": {
      "text/plain": [
       "0    1\n",
       "1    2\n",
       "2    3\n",
       "dtype: int64"
      ]
     },
     "execution_count": 9,
     "metadata": {},
     "output_type": "execute_result"
    }
   ],
   "source": [
    "example_series"
   ]
  },
  {
   "cell_type": "code",
   "execution_count": 10,
   "id": "785155dc-ad65-43bf-85b6-9421de70bd62",
   "metadata": {},
   "outputs": [],
   "source": [
    "my_list2 = ['Ade', 'George', 'Charles']"
   ]
  },
  {
   "cell_type": "code",
   "execution_count": 11,
   "id": "e7df1254-8026-427a-b812-77d09078b9e7",
   "metadata": {},
   "outputs": [],
   "source": [
    "example_series2 = pd.Series(my_list2)"
   ]
  },
  {
   "cell_type": "code",
   "execution_count": 12,
   "id": "aaf45dcd-ea3d-4164-8562-66abf11335a6",
   "metadata": {},
   "outputs": [
    {
     "data": {
      "text/plain": [
       "0        Ade\n",
       "1     George\n",
       "2    Charles\n",
       "dtype: object"
      ]
     },
     "execution_count": 12,
     "metadata": {},
     "output_type": "execute_result"
    }
   ],
   "source": [
    "example_series2"
   ]
  },
  {
   "cell_type": "markdown",
   "id": "079d1c04-ceaf-4661-90f0-d9c6890b99ec",
   "metadata": {},
   "source": [
    "## Indexing and Slicing Pandas Data Structures\n",
    "\n",
    ">In Pandas, indexing and slicing enable precise data selection and manipulation within `Series` and `DataFrame`s. This functionality is akin to accessing elements in Python lists or arrays, but with enhanced capabilities. Indexing allows for selecting specific rows or columns using labels or positions, while slicing facilitates retrieving subsets of data. \n",
    "\n",
    "A `Series` can be indexed exactly like a Python list:\n",
    "\n"
   ]
  },
  {
   "cell_type": "code",
   "execution_count": 13,
   "id": "b500219b-2d61-46c4-b03d-1e7bbe0aaa9e",
   "metadata": {},
   "outputs": [
    {
     "data": {
      "text/plain": [
       "'Ade'"
      ]
     },
     "execution_count": 13,
     "metadata": {},
     "output_type": "execute_result"
    }
   ],
   "source": [
    "example_series2[0]"
   ]
  },
  {
   "cell_type": "code",
   "execution_count": 14,
   "id": "1a583ec7-a57a-4ea1-8ba1-bfaa29c8bbbc",
   "metadata": {},
   "outputs": [
    {
     "name": "stdout",
     "output_type": "stream",
     "text": [
      "0    Gabriel\n",
      "1     Angela\n",
      "2     Daniel\n",
      "Name: name, dtype: object\n"
     ]
    }
   ],
   "source": [
    "col_1 = example_df['name']\n",
    "print(col_1)"
   ]
  },
  {
   "cell_type": "code",
   "execution_count": 15,
   "id": "3f088f6c-4ae1-4551-b138-9a0d2f2f9e8e",
   "metadata": {},
   "outputs": [
    {
     "name": "stdout",
     "output_type": "stream",
     "text": [
      "<class 'pandas.core.series.Series'>\n"
     ]
    }
   ],
   "source": [
    "print(type(col_1))"
   ]
  },
  {
   "cell_type": "code",
   "execution_count": 16,
   "id": "ed017b73-98b2-43a6-b261-ef183fde4552",
   "metadata": {},
   "outputs": [
    {
     "name": "stdout",
     "output_type": "stream",
     "text": [
      "      name\n",
      "0  Gabriel\n",
      "1   Angela\n",
      "2   Daniel\n"
     ]
    }
   ],
   "source": [
    "col_2 = example_df[['name']]\n",
    "print(col_2)"
   ]
  },
  {
   "cell_type": "code",
   "execution_count": 17,
   "id": "c049b517-d05a-4846-9141-11d6df0f395a",
   "metadata": {},
   "outputs": [
    {
     "name": "stdout",
     "output_type": "stream",
     "text": [
      "<class 'pandas.core.frame.DataFrame'>\n"
     ]
    }
   ],
   "source": [
    "print(type(col_2))"
   ]
  },
  {
   "cell_type": "markdown",
   "id": "b5ba8ea0-3aae-4367-8e39-db63f3751fb7",
   "metadata": {},
   "source": [
    "### The `.loc` Attribute\n",
    "We can index a specific row of a `DataFrame` using the locate row (`.loc`) attribute. This selects rows based on the values in the index column. Note the syntax: just use the row index in square brackets `[]`, no parentheses `()`."
   ]
  },
  {
   "cell_type": "code",
   "execution_count": 18,
   "id": "16c5d7d1-ef43-4df8-92b2-d5406b0ca0b1",
   "metadata": {},
   "outputs": [
    {
     "data": {
      "text/html": [
       "<div>\n",
       "<style scoped>\n",
       "    .dataframe tbody tr th:only-of-type {\n",
       "        vertical-align: middle;\n",
       "    }\n",
       "\n",
       "    .dataframe tbody tr th {\n",
       "        vertical-align: top;\n",
       "    }\n",
       "\n",
       "    .dataframe thead th {\n",
       "        text-align: right;\n",
       "    }\n",
       "</style>\n",
       "<table border=\"1\" class=\"dataframe\">\n",
       "  <thead>\n",
       "    <tr style=\"text-align: right;\">\n",
       "      <th></th>\n",
       "      <th>name</th>\n",
       "      <th>age</th>\n",
       "      <th>location</th>\n",
       "    </tr>\n",
       "  </thead>\n",
       "  <tbody>\n",
       "    <tr>\n",
       "      <th>0</th>\n",
       "      <td>Gabriel</td>\n",
       "      <td>25</td>\n",
       "      <td>London</td>\n",
       "    </tr>\n",
       "    <tr>\n",
       "      <th>1</th>\n",
       "      <td>Angela</td>\n",
       "      <td>40</td>\n",
       "      <td>Gboko</td>\n",
       "    </tr>\n",
       "    <tr>\n",
       "      <th>2</th>\n",
       "      <td>Daniel</td>\n",
       "      <td>28</td>\n",
       "      <td>Yaounde</td>\n",
       "    </tr>\n",
       "  </tbody>\n",
       "</table>\n",
       "</div>"
      ],
      "text/plain": [
       "      name  age location\n",
       "0  Gabriel   25   London\n",
       "1   Angela   40    Gboko\n",
       "2   Daniel   28  Yaounde"
      ]
     },
     "execution_count": 18,
     "metadata": {},
     "output_type": "execute_result"
    }
   ],
   "source": [
    "example_df.head()"
   ]
  },
  {
   "cell_type": "code",
   "execution_count": 19,
   "id": "9cc975ba-7fc7-46cb-bf4d-0251ff13f9f9",
   "metadata": {},
   "outputs": [
    {
     "data": {
      "text/plain": [
       "name        Gabriel\n",
       "age              25\n",
       "location     London\n",
       "Name: 0, dtype: object"
      ]
     },
     "execution_count": 19,
     "metadata": {},
     "output_type": "execute_result"
    }
   ],
   "source": [
    "example_df.loc[0]"
   ]
  },
  {
   "cell_type": "code",
   "execution_count": 20,
   "id": "5c19c392-4c6e-43af-85a0-51d5c685f7aa",
   "metadata": {},
   "outputs": [
    {
     "name": "stdout",
     "output_type": "stream",
     "text": [
      "<class 'pandas.core.series.Series'>\n"
     ]
    }
   ],
   "source": [
    "print(type(example_df.loc[0]))"
   ]
  },
  {
   "cell_type": "code",
   "execution_count": 21,
   "id": "8674decd-e911-4314-8ead-8cdeb70fdf02",
   "metadata": {},
   "outputs": [
    {
     "data": {
      "text/html": [
       "<div>\n",
       "<style scoped>\n",
       "    .dataframe tbody tr th:only-of-type {\n",
       "        vertical-align: middle;\n",
       "    }\n",
       "\n",
       "    .dataframe tbody tr th {\n",
       "        vertical-align: top;\n",
       "    }\n",
       "\n",
       "    .dataframe thead th {\n",
       "        text-align: right;\n",
       "    }\n",
       "</style>\n",
       "<table border=\"1\" class=\"dataframe\">\n",
       "  <thead>\n",
       "    <tr style=\"text-align: right;\">\n",
       "      <th></th>\n",
       "      <th>name</th>\n",
       "      <th>age</th>\n",
       "      <th>location</th>\n",
       "    </tr>\n",
       "  </thead>\n",
       "  <tbody>\n",
       "    <tr>\n",
       "      <th>0</th>\n",
       "      <td>Gabriel</td>\n",
       "      <td>25</td>\n",
       "      <td>London</td>\n",
       "    </tr>\n",
       "    <tr>\n",
       "      <th>2</th>\n",
       "      <td>Daniel</td>\n",
       "      <td>28</td>\n",
       "      <td>Yaounde</td>\n",
       "    </tr>\n",
       "  </tbody>\n",
       "</table>\n",
       "</div>"
      ],
      "text/plain": [
       "      name  age location\n",
       "0  Gabriel   25   London\n",
       "2   Daniel   28  Yaounde"
      ]
     },
     "execution_count": 21,
     "metadata": {},
     "output_type": "execute_result"
    }
   ],
   "source": [
    "example_df.loc[[0, 2]]"
   ]
  },
  {
   "cell_type": "code",
   "execution_count": 22,
   "id": "5baed4be-6022-4862-8448-663534164960",
   "metadata": {},
   "outputs": [
    {
     "data": {
      "text/html": [
       "<div>\n",
       "<style scoped>\n",
       "    .dataframe tbody tr th:only-of-type {\n",
       "        vertical-align: middle;\n",
       "    }\n",
       "\n",
       "    .dataframe tbody tr th {\n",
       "        vertical-align: top;\n",
       "    }\n",
       "\n",
       "    .dataframe thead th {\n",
       "        text-align: right;\n",
       "    }\n",
       "</style>\n",
       "<table border=\"1\" class=\"dataframe\">\n",
       "  <thead>\n",
       "    <tr style=\"text-align: right;\">\n",
       "      <th></th>\n",
       "      <th>name</th>\n",
       "      <th>age</th>\n",
       "      <th>location</th>\n",
       "    </tr>\n",
       "  </thead>\n",
       "  <tbody>\n",
       "    <tr>\n",
       "      <th>2</th>\n",
       "      <td>Daniel</td>\n",
       "      <td>28</td>\n",
       "      <td>Yaounde</td>\n",
       "    </tr>\n",
       "    <tr>\n",
       "      <th>1</th>\n",
       "      <td>Angela</td>\n",
       "      <td>40</td>\n",
       "      <td>Gboko</td>\n",
       "    </tr>\n",
       "  </tbody>\n",
       "</table>\n",
       "</div>"
      ],
      "text/plain": [
       "     name  age location\n",
       "2  Daniel   28  Yaounde\n",
       "1  Angela   40    Gboko"
      ]
     },
     "execution_count": 22,
     "metadata": {},
     "output_type": "execute_result"
    }
   ],
   "source": [
    "example_df.loc[[2, 1]]"
   ]
  },
  {
   "cell_type": "markdown",
   "id": "50be279d-4fa3-406e-bc01-f44cdabbfa2d",
   "metadata": {},
   "source": [
    "### The `iloc` Attribute\n",
    "Currently our index column values are the integers [`0`, `1`, `2`...], as per Python. However we can also use any other list of unique values as our index:"
   ]
  },
  {
   "cell_type": "code",
   "execution_count": 23,
   "id": "95d38a27-621e-42a6-aa06-52c5a900a451",
   "metadata": {},
   "outputs": [
    {
     "data": {
      "text/html": [
       "<div>\n",
       "<style scoped>\n",
       "    .dataframe tbody tr th:only-of-type {\n",
       "        vertical-align: middle;\n",
       "    }\n",
       "\n",
       "    .dataframe tbody tr th {\n",
       "        vertical-align: top;\n",
       "    }\n",
       "\n",
       "    .dataframe thead th {\n",
       "        text-align: right;\n",
       "    }\n",
       "</style>\n",
       "<table border=\"1\" class=\"dataframe\">\n",
       "  <thead>\n",
       "    <tr style=\"text-align: right;\">\n",
       "      <th></th>\n",
       "      <th>name</th>\n",
       "      <th>age</th>\n",
       "      <th>location</th>\n",
       "    </tr>\n",
       "  </thead>\n",
       "  <tbody>\n",
       "    <tr>\n",
       "      <th>0</th>\n",
       "      <td>Gabriel</td>\n",
       "      <td>25</td>\n",
       "      <td>London</td>\n",
       "    </tr>\n",
       "    <tr>\n",
       "      <th>1</th>\n",
       "      <td>Angela</td>\n",
       "      <td>40</td>\n",
       "      <td>Gboko</td>\n",
       "    </tr>\n",
       "    <tr>\n",
       "      <th>2</th>\n",
       "      <td>Daniel</td>\n",
       "      <td>28</td>\n",
       "      <td>Yaounde</td>\n",
       "    </tr>\n",
       "  </tbody>\n",
       "</table>\n",
       "</div>"
      ],
      "text/plain": [
       "      name  age location\n",
       "0  Gabriel   25   London\n",
       "1   Angela   40    Gboko\n",
       "2   Daniel   28  Yaounde"
      ]
     },
     "execution_count": 23,
     "metadata": {},
     "output_type": "execute_result"
    }
   ],
   "source": [
    "example_df"
   ]
  },
  {
   "cell_type": "code",
   "execution_count": 24,
   "id": "fe33d043-7aaf-4a5a-8e0b-f88b51655e6a",
   "metadata": {},
   "outputs": [],
   "source": [
    "example_df.index = ['i', 'ii', 'iii']"
   ]
  },
  {
   "cell_type": "code",
   "execution_count": 25,
   "id": "d73295ba-d5d8-4709-88a2-454632899a2b",
   "metadata": {},
   "outputs": [
    {
     "data": {
      "text/html": [
       "<div>\n",
       "<style scoped>\n",
       "    .dataframe tbody tr th:only-of-type {\n",
       "        vertical-align: middle;\n",
       "    }\n",
       "\n",
       "    .dataframe tbody tr th {\n",
       "        vertical-align: top;\n",
       "    }\n",
       "\n",
       "    .dataframe thead th {\n",
       "        text-align: right;\n",
       "    }\n",
       "</style>\n",
       "<table border=\"1\" class=\"dataframe\">\n",
       "  <thead>\n",
       "    <tr style=\"text-align: right;\">\n",
       "      <th></th>\n",
       "      <th>name</th>\n",
       "      <th>age</th>\n",
       "      <th>location</th>\n",
       "    </tr>\n",
       "  </thead>\n",
       "  <tbody>\n",
       "    <tr>\n",
       "      <th>i</th>\n",
       "      <td>Gabriel</td>\n",
       "      <td>25</td>\n",
       "      <td>London</td>\n",
       "    </tr>\n",
       "    <tr>\n",
       "      <th>ii</th>\n",
       "      <td>Angela</td>\n",
       "      <td>40</td>\n",
       "      <td>Gboko</td>\n",
       "    </tr>\n",
       "    <tr>\n",
       "      <th>iii</th>\n",
       "      <td>Daniel</td>\n",
       "      <td>28</td>\n",
       "      <td>Yaounde</td>\n",
       "    </tr>\n",
       "  </tbody>\n",
       "</table>\n",
       "</div>"
      ],
      "text/plain": [
       "        name  age location\n",
       "i    Gabriel   25   London\n",
       "ii    Angela   40    Gboko\n",
       "iii   Daniel   28  Yaounde"
      ]
     },
     "execution_count": 25,
     "metadata": {},
     "output_type": "execute_result"
    }
   ],
   "source": [
    "example_df"
   ]
  },
  {
   "cell_type": "markdown",
   "id": "0e021e0d-a703-443b-8482-5aaa5a6465bd",
   "metadata": {},
   "source": [
    "The `loc` attribute is for **label-based indexing**. Using `loc` will work as before with the new index values:"
   ]
  },
  {
   "cell_type": "code",
   "execution_count": 26,
   "id": "62012a56-fe41-4f8b-96e5-f72e94a943a1",
   "metadata": {},
   "outputs": [
    {
     "data": {
      "text/plain": [
       "name        Gabriel\n",
       "age              25\n",
       "location     London\n",
       "Name: i, dtype: object"
      ]
     },
     "execution_count": 26,
     "metadata": {},
     "output_type": "execute_result"
    }
   ],
   "source": [
    "example_df.loc['i']"
   ]
  },
  {
   "cell_type": "markdown",
   "id": "48238cde-f8d1-4f95-8bdb-be748eec3fdb",
   "metadata": {},
   "source": [
    "But we now have a mismatch between the Pythonic indexing and our index column. Under these circumstances we can choose to use the `iloc` attribute to use **position based indexing** instead:"
   ]
  },
  {
   "cell_type": "code",
   "execution_count": 27,
   "id": "9275954a-8b67-4e99-b18e-9cf54c2a8cc7",
   "metadata": {},
   "outputs": [
    {
     "data": {
      "text/plain": [
       "name        Gabriel\n",
       "age              25\n",
       "location     London\n",
       "Name: i, dtype: object"
      ]
     },
     "execution_count": 27,
     "metadata": {},
     "output_type": "execute_result"
    }
   ],
   "source": [
    "example_df.iloc[0]"
   ]
  },
  {
   "cell_type": "markdown",
   "id": "eae0a0f1-8a09-40d7-b659-208d1dae441a",
   "metadata": {},
   "source": [
    "### Slicing Rows and Columns Together\n",
    "\n",
    "As well as selecting individual rows and columns, we can index or slice by both at once:\n",
    "\n",
    "\n",
    "#### Using `loc`:"
   ]
  },
  {
   "cell_type": "code",
   "execution_count": 28,
   "id": "d9e5ad78-827f-4ce6-9921-3201dead6c31",
   "metadata": {},
   "outputs": [
    {
     "data": {
      "text/html": [
       "<div>\n",
       "<style scoped>\n",
       "    .dataframe tbody tr th:only-of-type {\n",
       "        vertical-align: middle;\n",
       "    }\n",
       "\n",
       "    .dataframe tbody tr th {\n",
       "        vertical-align: top;\n",
       "    }\n",
       "\n",
       "    .dataframe thead th {\n",
       "        text-align: right;\n",
       "    }\n",
       "</style>\n",
       "<table border=\"1\" class=\"dataframe\">\n",
       "  <thead>\n",
       "    <tr style=\"text-align: right;\">\n",
       "      <th></th>\n",
       "      <th>name</th>\n",
       "      <th>age</th>\n",
       "      <th>location</th>\n",
       "    </tr>\n",
       "  </thead>\n",
       "  <tbody>\n",
       "    <tr>\n",
       "      <th>i</th>\n",
       "      <td>Gabriel</td>\n",
       "      <td>25</td>\n",
       "      <td>London</td>\n",
       "    </tr>\n",
       "    <tr>\n",
       "      <th>ii</th>\n",
       "      <td>Angela</td>\n",
       "      <td>40</td>\n",
       "      <td>Gboko</td>\n",
       "    </tr>\n",
       "    <tr>\n",
       "      <th>iii</th>\n",
       "      <td>Daniel</td>\n",
       "      <td>28</td>\n",
       "      <td>Yaounde</td>\n",
       "    </tr>\n",
       "  </tbody>\n",
       "</table>\n",
       "</div>"
      ],
      "text/plain": [
       "        name  age location\n",
       "i    Gabriel   25   London\n",
       "ii    Angela   40    Gboko\n",
       "iii   Daniel   28  Yaounde"
      ]
     },
     "execution_count": 28,
     "metadata": {},
     "output_type": "execute_result"
    }
   ],
   "source": [
    "example_df"
   ]
  },
  {
   "cell_type": "code",
   "execution_count": 29,
   "id": "1be42d31-263b-4d01-bd0b-13944c3467f3",
   "metadata": {},
   "outputs": [
    {
     "data": {
      "text/plain": [
       "name    Gabriel\n",
       "age          25\n",
       "Name: i, dtype: object"
      ]
     },
     "execution_count": 29,
     "metadata": {},
     "output_type": "execute_result"
    }
   ],
   "source": [
    "example_df.loc['i', ['name', 'age']]"
   ]
  },
  {
   "cell_type": "markdown",
   "id": "a28dc04c-79a4-4c48-a970-089d3a7d183d",
   "metadata": {},
   "source": [
    "#### Using `iloc`:"
   ]
  },
  {
   "cell_type": "code",
   "execution_count": 30,
   "id": "4cfe94f0-0dbd-45bf-bd23-55a10920c0fd",
   "metadata": {},
   "outputs": [
    {
     "data": {
      "text/html": [
       "<div>\n",
       "<style scoped>\n",
       "    .dataframe tbody tr th:only-of-type {\n",
       "        vertical-align: middle;\n",
       "    }\n",
       "\n",
       "    .dataframe tbody tr th {\n",
       "        vertical-align: top;\n",
       "    }\n",
       "\n",
       "    .dataframe thead th {\n",
       "        text-align: right;\n",
       "    }\n",
       "</style>\n",
       "<table border=\"1\" class=\"dataframe\">\n",
       "  <thead>\n",
       "    <tr style=\"text-align: right;\">\n",
       "      <th></th>\n",
       "      <th>name</th>\n",
       "      <th>age</th>\n",
       "      <th>location</th>\n",
       "    </tr>\n",
       "  </thead>\n",
       "  <tbody>\n",
       "    <tr>\n",
       "      <th>i</th>\n",
       "      <td>Gabriel</td>\n",
       "      <td>25</td>\n",
       "      <td>London</td>\n",
       "    </tr>\n",
       "    <tr>\n",
       "      <th>ii</th>\n",
       "      <td>Angela</td>\n",
       "      <td>40</td>\n",
       "      <td>Gboko</td>\n",
       "    </tr>\n",
       "    <tr>\n",
       "      <th>iii</th>\n",
       "      <td>Daniel</td>\n",
       "      <td>28</td>\n",
       "      <td>Yaounde</td>\n",
       "    </tr>\n",
       "  </tbody>\n",
       "</table>\n",
       "</div>"
      ],
      "text/plain": [
       "        name  age location\n",
       "i    Gabriel   25   London\n",
       "ii    Angela   40    Gboko\n",
       "iii   Daniel   28  Yaounde"
      ]
     },
     "execution_count": 30,
     "metadata": {},
     "output_type": "execute_result"
    }
   ],
   "source": [
    "example_df"
   ]
  },
  {
   "cell_type": "code",
   "execution_count": 31,
   "id": "e52392ba-b79e-48c8-9a3d-dae645abccd9",
   "metadata": {},
   "outputs": [
    {
     "data": {
      "text/plain": [
       "name    Gabriel\n",
       "age          25\n",
       "Name: i, dtype: object"
      ]
     },
     "execution_count": 31,
     "metadata": {},
     "output_type": "execute_result"
    }
   ],
   "source": [
    "example_df.iloc[0, [0, 1]]"
   ]
  },
  {
   "cell_type": "code",
   "execution_count": 32,
   "id": "9134ca63-8fd1-4c75-943b-c9aa11275915",
   "metadata": {},
   "outputs": [
    {
     "data": {
      "text/plain": [
       "location    Yaounde\n",
       "name         Daniel\n",
       "Name: iii, dtype: object"
      ]
     },
     "execution_count": 32,
     "metadata": {},
     "output_type": "execute_result"
    }
   ],
   "source": [
    "example_df.iloc[2, [2, 0]]"
   ]
  },
  {
   "cell_type": "markdown",
   "id": "0d2620c1-1c1a-4e3e-bd73-302b29f18196",
   "metadata": {},
   "source": [
    "## Resetting the Index"
   ]
  },
  {
   "cell_type": "markdown",
   "id": "30167b91-81a1-4dd8-9b7b-b9ecdc805b84",
   "metadata": {},
   "source": [
    "> Resetting the index of a Pandas `DataFrame` is often used after performing data manipulations like slicing or filtering, which can leave the `DataFrame` with an index that is non-sequential or not aligned with the data's current state. \n",
    "\n",
    "### Why Reset the Index?\n",
    "\n",
    "- **Non-Sequential Indices:** After slicing or filtering a `DataFrame`, the resulting index might be non-sequential or non-contiguous, which can be confusing and may cause issues with data alignment or further data manipulation\n",
    "- **Alignment and Consistency:** Resetting the index ensures that the `DataFrame` maintains a consistent structure, with a sequential numeric index starting from 0\n",
    "- **Ease of Merging and Joining:** A standard, sequential index is often easier to work with when performing database-style join or merge operations\n"
   ]
  },
  {
   "cell_type": "code",
   "execution_count": 33,
   "id": "d9472972-3e92-4f4e-a0c8-81fe90bdde07",
   "metadata": {},
   "outputs": [
    {
     "data": {
      "text/html": [
       "<div>\n",
       "<style scoped>\n",
       "    .dataframe tbody tr th:only-of-type {\n",
       "        vertical-align: middle;\n",
       "    }\n",
       "\n",
       "    .dataframe tbody tr th {\n",
       "        vertical-align: top;\n",
       "    }\n",
       "\n",
       "    .dataframe thead th {\n",
       "        text-align: right;\n",
       "    }\n",
       "</style>\n",
       "<table border=\"1\" class=\"dataframe\">\n",
       "  <thead>\n",
       "    <tr style=\"text-align: right;\">\n",
       "      <th></th>\n",
       "      <th>name</th>\n",
       "      <th>age</th>\n",
       "    </tr>\n",
       "  </thead>\n",
       "  <tbody>\n",
       "    <tr>\n",
       "      <th>0</th>\n",
       "      <td>George</td>\n",
       "      <td>40</td>\n",
       "    </tr>\n",
       "    <tr>\n",
       "      <th>1</th>\n",
       "      <td>Akindoyin</td>\n",
       "      <td>30</td>\n",
       "    </tr>\n",
       "    <tr>\n",
       "      <th>2</th>\n",
       "      <td>Esther</td>\n",
       "      <td>60</td>\n",
       "    </tr>\n",
       "    <tr>\n",
       "      <th>3</th>\n",
       "      <td>Michael</td>\n",
       "      <td>80</td>\n",
       "    </tr>\n",
       "  </tbody>\n",
       "</table>\n",
       "</div>"
      ],
      "text/plain": [
       "        name  age\n",
       "0     George   40\n",
       "1  Akindoyin   30\n",
       "2     Esther   60\n",
       "3    Michael   80"
      ]
     },
     "execution_count": 33,
     "metadata": {},
     "output_type": "execute_result"
    }
   ],
   "source": [
    "data = {\n",
    "    'name': ['George', 'Akindoyin', 'Esther','Michael'],\n",
    "    'age': [40, 30, 60, 80]\n",
    "}\n",
    "df = pd.DataFrame(data)\n",
    "df"
   ]
  },
  {
   "cell_type": "code",
   "execution_count": 34,
   "id": "fa18c9c7-4aea-40ff-9ed4-7d2cf5701b81",
   "metadata": {},
   "outputs": [
    {
     "data": {
      "text/html": [
       "<div>\n",
       "<style scoped>\n",
       "    .dataframe tbody tr th:only-of-type {\n",
       "        vertical-align: middle;\n",
       "    }\n",
       "\n",
       "    .dataframe tbody tr th {\n",
       "        vertical-align: top;\n",
       "    }\n",
       "\n",
       "    .dataframe thead th {\n",
       "        text-align: right;\n",
       "    }\n",
       "</style>\n",
       "<table border=\"1\" class=\"dataframe\">\n",
       "  <thead>\n",
       "    <tr style=\"text-align: right;\">\n",
       "      <th></th>\n",
       "      <th>name</th>\n",
       "      <th>age</th>\n",
       "    </tr>\n",
       "  </thead>\n",
       "  <tbody>\n",
       "    <tr>\n",
       "      <th>0</th>\n",
       "      <td>George</td>\n",
       "      <td>40</td>\n",
       "    </tr>\n",
       "    <tr>\n",
       "      <th>2</th>\n",
       "      <td>Esther</td>\n",
       "      <td>60</td>\n",
       "    </tr>\n",
       "    <tr>\n",
       "      <th>3</th>\n",
       "      <td>Michael</td>\n",
       "      <td>80</td>\n",
       "    </tr>\n",
       "  </tbody>\n",
       "</table>\n",
       "</div>"
      ],
      "text/plain": [
       "      name  age\n",
       "0   George   40\n",
       "2   Esther   60\n",
       "3  Michael   80"
      ]
     },
     "execution_count": 34,
     "metadata": {},
     "output_type": "execute_result"
    }
   ],
   "source": [
    "# where age is greater than 30\n",
    "slice_df = df[df['age'] > 30]\n",
    "slice_df"
   ]
  },
  {
   "cell_type": "code",
   "execution_count": 35,
   "id": "f8a244ec-04bb-4e07-bb15-1e3df8639bbe",
   "metadata": {},
   "outputs": [
    {
     "data": {
      "text/html": [
       "<div>\n",
       "<style scoped>\n",
       "    .dataframe tbody tr th:only-of-type {\n",
       "        vertical-align: middle;\n",
       "    }\n",
       "\n",
       "    .dataframe tbody tr th {\n",
       "        vertical-align: top;\n",
       "    }\n",
       "\n",
       "    .dataframe thead th {\n",
       "        text-align: right;\n",
       "    }\n",
       "</style>\n",
       "<table border=\"1\" class=\"dataframe\">\n",
       "  <thead>\n",
       "    <tr style=\"text-align: right;\">\n",
       "      <th></th>\n",
       "      <th>name</th>\n",
       "      <th>age</th>\n",
       "    </tr>\n",
       "  </thead>\n",
       "  <tbody>\n",
       "    <tr>\n",
       "      <th>0</th>\n",
       "      <td>George</td>\n",
       "      <td>40</td>\n",
       "    </tr>\n",
       "    <tr>\n",
       "      <th>1</th>\n",
       "      <td>Esther</td>\n",
       "      <td>60</td>\n",
       "    </tr>\n",
       "    <tr>\n",
       "      <th>2</th>\n",
       "      <td>Michael</td>\n",
       "      <td>80</td>\n",
       "    </tr>\n",
       "  </tbody>\n",
       "</table>\n",
       "</div>"
      ],
      "text/plain": [
       "      name  age\n",
       "0   George   40\n",
       "1   Esther   60\n",
       "2  Michael   80"
      ]
     },
     "execution_count": 35,
     "metadata": {},
     "output_type": "execute_result"
    }
   ],
   "source": [
    "reset_df = slice_df.reset_index(drop=True)\n",
    "reset_df"
   ]
  },
  {
   "cell_type": "markdown",
   "id": "de3334eb-6cd2-48fc-8f8c-f3963b291017",
   "metadata": {},
   "source": [
    "## Importing Data into Pandas \n",
    "\n",
    "> Pandas provides methods for importing various data types and loading them into a `DataFrame`. There are methods to read data from sources like `CSV`, Excel, `JSON`, and relational databases like SQL tables.\n",
    "### Creating a `DataFrame` from Python Objects\n",
    "\n",
    "As we saw earlier in the lesson, a `DataFrame` can be created from a dictionary of lists, where the keys are the column headings and the values are `lists` of column values.\n"
   ]
  },
  {
   "cell_type": "code",
   "execution_count": 36,
   "id": "4163d4e6-4fbd-4d80-9b8a-0d86eea5dd73",
   "metadata": {},
   "outputs": [
    {
     "data": {
      "text/html": [
       "<div>\n",
       "<style scoped>\n",
       "    .dataframe tbody tr th:only-of-type {\n",
       "        vertical-align: middle;\n",
       "    }\n",
       "\n",
       "    .dataframe tbody tr th {\n",
       "        vertical-align: top;\n",
       "    }\n",
       "\n",
       "    .dataframe thead th {\n",
       "        text-align: right;\n",
       "    }\n",
       "</style>\n",
       "<table border=\"1\" class=\"dataframe\">\n",
       "  <thead>\n",
       "    <tr style=\"text-align: right;\">\n",
       "      <th></th>\n",
       "      <th>name</th>\n",
       "      <th>age</th>\n",
       "    </tr>\n",
       "  </thead>\n",
       "  <tbody>\n",
       "    <tr>\n",
       "      <th>0</th>\n",
       "      <td>George</td>\n",
       "      <td>40</td>\n",
       "    </tr>\n",
       "    <tr>\n",
       "      <th>1</th>\n",
       "      <td>Akindoyin</td>\n",
       "      <td>30</td>\n",
       "    </tr>\n",
       "    <tr>\n",
       "      <th>2</th>\n",
       "      <td>Esther</td>\n",
       "      <td>60</td>\n",
       "    </tr>\n",
       "    <tr>\n",
       "      <th>3</th>\n",
       "      <td>Michael</td>\n",
       "      <td>80</td>\n",
       "    </tr>\n",
       "  </tbody>\n",
       "</table>\n",
       "</div>"
      ],
      "text/plain": [
       "        name  age\n",
       "0     George   40\n",
       "1  Akindoyin   30\n",
       "2     Esther   60\n",
       "3    Michael   80"
      ]
     },
     "execution_count": 36,
     "metadata": {},
     "output_type": "execute_result"
    }
   ],
   "source": [
    "data = {\n",
    "    'name': ['George', 'Akindoyin', 'Esther','Michael'],\n",
    "    'age': [40, 30, 60, 80]\n",
    "}\n",
    "df = pd.DataFrame(data)\n",
    "df"
   ]
  },
  {
   "cell_type": "markdown",
   "id": "804be075-83db-4e89-b46e-71ea26ddd5ec",
   "metadata": {},
   "source": [
    "You can also make a `DataFrame` from a list of lists, in which case you should supply the column names using the `columns` parameter.\n",
    "\n",
    "By default, each list will represent a row of the `DataFrame`:"
   ]
  },
  {
   "cell_type": "code",
   "execution_count": 37,
   "id": "75dd40be-738b-4e29-897b-3e34b7c3793c",
   "metadata": {},
   "outputs": [],
   "source": [
    "list_1 = [1, \"Ikeja\"]\n",
    "list_2 = [2, \"Gbagada\"]\n",
    "list_3 = [3, \"Magodo\"]\n",
    "\n",
    "lagos_location_df = pd.DataFrame([list_1, list_2, list_3], columns=[\"sn\", \"locations\"])"
   ]
  },
  {
   "cell_type": "code",
   "execution_count": 38,
   "id": "7433915a-af35-4b4e-9d7d-3bf6bd916310",
   "metadata": {},
   "outputs": [
    {
     "data": {
      "text/html": [
       "<div>\n",
       "<style scoped>\n",
       "    .dataframe tbody tr th:only-of-type {\n",
       "        vertical-align: middle;\n",
       "    }\n",
       "\n",
       "    .dataframe tbody tr th {\n",
       "        vertical-align: top;\n",
       "    }\n",
       "\n",
       "    .dataframe thead th {\n",
       "        text-align: right;\n",
       "    }\n",
       "</style>\n",
       "<table border=\"1\" class=\"dataframe\">\n",
       "  <thead>\n",
       "    <tr style=\"text-align: right;\">\n",
       "      <th></th>\n",
       "      <th>sn</th>\n",
       "      <th>locations</th>\n",
       "    </tr>\n",
       "  </thead>\n",
       "  <tbody>\n",
       "    <tr>\n",
       "      <th>0</th>\n",
       "      <td>1</td>\n",
       "      <td>Ikeja</td>\n",
       "    </tr>\n",
       "    <tr>\n",
       "      <th>1</th>\n",
       "      <td>2</td>\n",
       "      <td>Gbagada</td>\n",
       "    </tr>\n",
       "    <tr>\n",
       "      <th>2</th>\n",
       "      <td>3</td>\n",
       "      <td>Magodo</td>\n",
       "    </tr>\n",
       "  </tbody>\n",
       "</table>\n",
       "</div>"
      ],
      "text/plain": [
       "   sn locations\n",
       "0   1     Ikeja\n",
       "1   2   Gbagada\n",
       "2   3    Magodo"
      ]
     },
     "execution_count": 38,
     "metadata": {},
     "output_type": "execute_result"
    }
   ],
   "source": [
    "lagos_location_df"
   ]
  },
  {
   "cell_type": "markdown",
   "id": "a176e736-90f9-43d8-bcd8-8c562a9f8304",
   "metadata": {},
   "source": [
    "To create from a list of lists where each list is a column, you can use Python's `zip` function:"
   ]
  },
  {
   "cell_type": "code",
   "execution_count": 39,
   "id": "1997025b-097e-4738-9835-e4131dbfccf0",
   "metadata": {},
   "outputs": [
    {
     "data": {
      "text/html": [
       "<div>\n",
       "<style scoped>\n",
       "    .dataframe tbody tr th:only-of-type {\n",
       "        vertical-align: middle;\n",
       "    }\n",
       "\n",
       "    .dataframe tbody tr th {\n",
       "        vertical-align: top;\n",
       "    }\n",
       "\n",
       "    .dataframe thead th {\n",
       "        text-align: right;\n",
       "    }\n",
       "</style>\n",
       "<table border=\"1\" class=\"dataframe\">\n",
       "  <thead>\n",
       "    <tr style=\"text-align: right;\">\n",
       "      <th></th>\n",
       "      <th>id</th>\n",
       "      <th>location</th>\n",
       "      <th>population</th>\n",
       "    </tr>\n",
       "  </thead>\n",
       "  <tbody>\n",
       "    <tr>\n",
       "      <th>0</th>\n",
       "      <td>1</td>\n",
       "      <td>Ikeja</td>\n",
       "      <td>23000</td>\n",
       "    </tr>\n",
       "    <tr>\n",
       "      <th>1</th>\n",
       "      <td>2</td>\n",
       "      <td>Gbagada</td>\n",
       "      <td>40000</td>\n",
       "    </tr>\n",
       "    <tr>\n",
       "      <th>2</th>\n",
       "      <td>3</td>\n",
       "      <td>Magodo</td>\n",
       "      <td>15000</td>\n",
       "    </tr>\n",
       "  </tbody>\n",
       "</table>\n",
       "</div>"
      ],
      "text/plain": [
       "   id location  population\n",
       "0   1    Ikeja       23000\n",
       "1   2  Gbagada       40000\n",
       "2   3   Magodo       15000"
      ]
     },
     "execution_count": 39,
     "metadata": {},
     "output_type": "execute_result"
    }
   ],
   "source": [
    "data = [\n",
    "    [1, 2, 3],\n",
    "    [\"Ikeja\", \"Gbagada\", \"Magodo\"],\n",
    "    [23000, 40000, 15000]\n",
    "]\n",
    "\n",
    "location_census = pd.DataFrame(list(zip(*data)), columns=[\"id\", \"location\", \"population\"])\n",
    "location_census"
   ]
  },
  {
   "cell_type": "markdown",
   "id": "973c2a2e-19ab-4dc8-8823-81eed31a4490",
   "metadata": {},
   "source": [
    "### Importing from `CSV`\n",
    "\n",
    "One of the most common file types to read into Pandas is comma separated values (`CSV`). You can import data from a `CSV` file using the `pd.read_csv` function:"
   ]
  },
  {
   "cell_type": "code",
   "execution_count": 40,
   "id": "3326af16-3d26-44a6-b3f0-4b5fb7ec7013",
   "metadata": {},
   "outputs": [],
   "source": [
    "salaries = pd.read_csv('Salaries.csv')"
   ]
  },
  {
   "cell_type": "code",
   "execution_count": 41,
   "id": "0c3887d6-74bc-49f9-9731-600251669178",
   "metadata": {},
   "outputs": [
    {
     "name": "stdout",
     "output_type": "stream",
     "text": [
      "<class 'pandas.core.frame.DataFrame'>\n"
     ]
    }
   ],
   "source": [
    "print(type(salaries))"
   ]
  },
  {
   "cell_type": "code",
   "execution_count": 42,
   "id": "560fa46e-96d6-453a-9762-5b5b79bce7ee",
   "metadata": {},
   "outputs": [
    {
     "data": {
      "text/html": [
       "<div>\n",
       "<style scoped>\n",
       "    .dataframe tbody tr th:only-of-type {\n",
       "        vertical-align: middle;\n",
       "    }\n",
       "\n",
       "    .dataframe tbody tr th {\n",
       "        vertical-align: top;\n",
       "    }\n",
       "\n",
       "    .dataframe thead th {\n",
       "        text-align: right;\n",
       "    }\n",
       "</style>\n",
       "<table border=\"1\" class=\"dataframe\">\n",
       "  <thead>\n",
       "    <tr style=\"text-align: right;\">\n",
       "      <th></th>\n",
       "      <th>Id</th>\n",
       "      <th>EmployeeName</th>\n",
       "      <th>JobTitle</th>\n",
       "      <th>BasePay</th>\n",
       "      <th>OvertimePay</th>\n",
       "      <th>OtherPay</th>\n",
       "      <th>Benefits</th>\n",
       "      <th>TotalPay</th>\n",
       "      <th>TotalPayBenefits</th>\n",
       "      <th>Year</th>\n",
       "      <th>Notes</th>\n",
       "      <th>Agency</th>\n",
       "      <th>Status</th>\n",
       "    </tr>\n",
       "  </thead>\n",
       "  <tbody>\n",
       "    <tr>\n",
       "      <th>0</th>\n",
       "      <td>AA</td>\n",
       "      <td>NATHANIEL FORD</td>\n",
       "      <td>GENERAL MANAGER-METROPOLITAN TRANSIT AUTHORITY</td>\n",
       "      <td>167411.18</td>\n",
       "      <td>0.00</td>\n",
       "      <td>400184.25</td>\n",
       "      <td>NaN</td>\n",
       "      <td>567595.43</td>\n",
       "      <td>567595.43</td>\n",
       "      <td>2011</td>\n",
       "      <td>NaN</td>\n",
       "      <td>San Francisco</td>\n",
       "      <td>NaN</td>\n",
       "    </tr>\n",
       "    <tr>\n",
       "      <th>1</th>\n",
       "      <td>AB</td>\n",
       "      <td>GARY JIMENEZ</td>\n",
       "      <td>CAPTAIN III (POLICE DEPARTMENT)</td>\n",
       "      <td>155966.02</td>\n",
       "      <td>245131.88</td>\n",
       "      <td>137811.38</td>\n",
       "      <td>NaN</td>\n",
       "      <td>538909.28</td>\n",
       "      <td>538909.28</td>\n",
       "      <td>2011</td>\n",
       "      <td>NaN</td>\n",
       "      <td>San Francisco</td>\n",
       "      <td>NaN</td>\n",
       "    </tr>\n",
       "    <tr>\n",
       "      <th>2</th>\n",
       "      <td>AC</td>\n",
       "      <td>ALBERT PARDINI</td>\n",
       "      <td>CAPTAIN III (POLICE DEPARTMENT)</td>\n",
       "      <td>212739.13</td>\n",
       "      <td>106088.18</td>\n",
       "      <td>16452.60</td>\n",
       "      <td>NaN</td>\n",
       "      <td>335279.91</td>\n",
       "      <td>335279.91</td>\n",
       "      <td>2011</td>\n",
       "      <td>NaN</td>\n",
       "      <td>San Francisco</td>\n",
       "      <td>NaN</td>\n",
       "    </tr>\n",
       "    <tr>\n",
       "      <th>3</th>\n",
       "      <td>AD</td>\n",
       "      <td>CHRISTOPHER CHONG</td>\n",
       "      <td>WIRE ROPE CABLE MAINTENANCE MECHANIC</td>\n",
       "      <td>77916.00</td>\n",
       "      <td>56120.71</td>\n",
       "      <td>198306.90</td>\n",
       "      <td>NaN</td>\n",
       "      <td>332343.61</td>\n",
       "      <td>332343.61</td>\n",
       "      <td>2011</td>\n",
       "      <td>NaN</td>\n",
       "      <td>San Francisco</td>\n",
       "      <td>NaN</td>\n",
       "    </tr>\n",
       "    <tr>\n",
       "      <th>4</th>\n",
       "      <td>AE</td>\n",
       "      <td>PATRICK GARDNER</td>\n",
       "      <td>DEPUTY CHIEF OF DEPARTMENT,(FIRE DEPARTMENT)</td>\n",
       "      <td>134401.60</td>\n",
       "      <td>9737.00</td>\n",
       "      <td>182234.59</td>\n",
       "      <td>NaN</td>\n",
       "      <td>326373.19</td>\n",
       "      <td>326373.19</td>\n",
       "      <td>2011</td>\n",
       "      <td>NaN</td>\n",
       "      <td>San Francisco</td>\n",
       "      <td>NaN</td>\n",
       "    </tr>\n",
       "    <tr>\n",
       "      <th>...</th>\n",
       "      <td>...</td>\n",
       "      <td>...</td>\n",
       "      <td>...</td>\n",
       "      <td>...</td>\n",
       "      <td>...</td>\n",
       "      <td>...</td>\n",
       "      <td>...</td>\n",
       "      <td>...</td>\n",
       "      <td>...</td>\n",
       "      <td>...</td>\n",
       "      <td>...</td>\n",
       "      <td>...</td>\n",
       "      <td>...</td>\n",
       "    </tr>\n",
       "    <tr>\n",
       "      <th>671</th>\n",
       "      <td>ZV</td>\n",
       "      <td>CHERYL ADAMS</td>\n",
       "      <td>HEAD ATTORNEY, CIVIL AND CRIMINAL</td>\n",
       "      <td>176856.18</td>\n",
       "      <td>0.00</td>\n",
       "      <td>3537.89</td>\n",
       "      <td>NaN</td>\n",
       "      <td>180394.07</td>\n",
       "      <td>180394.07</td>\n",
       "      <td>2011</td>\n",
       "      <td>NaN</td>\n",
       "      <td>San Francisco</td>\n",
       "      <td>NaN</td>\n",
       "    </tr>\n",
       "    <tr>\n",
       "      <th>672</th>\n",
       "      <td>ZW</td>\n",
       "      <td>LOUISE SIMPSON</td>\n",
       "      <td>HEAD ATTORNEY, CIVIL AND CRIMINAL</td>\n",
       "      <td>176856.18</td>\n",
       "      <td>0.00</td>\n",
       "      <td>3537.80</td>\n",
       "      <td>NaN</td>\n",
       "      <td>180393.98</td>\n",
       "      <td>180393.98</td>\n",
       "      <td>2011</td>\n",
       "      <td>NaN</td>\n",
       "      <td>San Francisco</td>\n",
       "      <td>NaN</td>\n",
       "    </tr>\n",
       "    <tr>\n",
       "      <th>673</th>\n",
       "      <td>ZX</td>\n",
       "      <td>BLAKE LOEBS</td>\n",
       "      <td>HEAD ATTORNEY, CIVIL AND CRIMINAL</td>\n",
       "      <td>176856.19</td>\n",
       "      <td>0.00</td>\n",
       "      <td>3537.75</td>\n",
       "      <td>NaN</td>\n",
       "      <td>180393.94</td>\n",
       "      <td>180393.94</td>\n",
       "      <td>2011</td>\n",
       "      <td>NaN</td>\n",
       "      <td>San Francisco</td>\n",
       "      <td>NaN</td>\n",
       "    </tr>\n",
       "    <tr>\n",
       "      <th>674</th>\n",
       "      <td>ZY</td>\n",
       "      <td>ELIZABETH AGUILAR-TARCHI</td>\n",
       "      <td>HEAD ATTORNEY, CIVIL AND CRIMINAL</td>\n",
       "      <td>176856.17</td>\n",
       "      <td>0.00</td>\n",
       "      <td>3537.11</td>\n",
       "      <td>NaN</td>\n",
       "      <td>180393.28</td>\n",
       "      <td>180393.28</td>\n",
       "      <td>2011</td>\n",
       "      <td>NaN</td>\n",
       "      <td>San Francisco</td>\n",
       "      <td>NaN</td>\n",
       "    </tr>\n",
       "    <tr>\n",
       "      <th>675</th>\n",
       "      <td>ZZ</td>\n",
       "      <td>JULIAN NG</td>\n",
       "      <td>SERGEANT III (POLICE DEPARTMENT)</td>\n",
       "      <td>130457.76</td>\n",
       "      <td>43793.11</td>\n",
       "      <td>6061.80</td>\n",
       "      <td>NaN</td>\n",
       "      <td>180312.67</td>\n",
       "      <td>180312.67</td>\n",
       "      <td>2011</td>\n",
       "      <td>NaN</td>\n",
       "      <td>San Francisco</td>\n",
       "      <td>NaN</td>\n",
       "    </tr>\n",
       "  </tbody>\n",
       "</table>\n",
       "<p>676 rows × 13 columns</p>\n",
       "</div>"
      ],
      "text/plain": [
       "     Id              EmployeeName  \\\n",
       "0    AA            NATHANIEL FORD   \n",
       "1    AB              GARY JIMENEZ   \n",
       "2    AC            ALBERT PARDINI   \n",
       "3    AD         CHRISTOPHER CHONG   \n",
       "4    AE           PATRICK GARDNER   \n",
       "..   ..                       ...   \n",
       "671  ZV              CHERYL ADAMS   \n",
       "672  ZW            LOUISE SIMPSON   \n",
       "673  ZX               BLAKE LOEBS   \n",
       "674  ZY  ELIZABETH AGUILAR-TARCHI   \n",
       "675  ZZ                 JULIAN NG   \n",
       "\n",
       "                                           JobTitle    BasePay  OvertimePay  \\\n",
       "0    GENERAL MANAGER-METROPOLITAN TRANSIT AUTHORITY  167411.18         0.00   \n",
       "1                   CAPTAIN III (POLICE DEPARTMENT)  155966.02    245131.88   \n",
       "2                   CAPTAIN III (POLICE DEPARTMENT)  212739.13    106088.18   \n",
       "3              WIRE ROPE CABLE MAINTENANCE MECHANIC   77916.00     56120.71   \n",
       "4      DEPUTY CHIEF OF DEPARTMENT,(FIRE DEPARTMENT)  134401.60      9737.00   \n",
       "..                                              ...        ...          ...   \n",
       "671               HEAD ATTORNEY, CIVIL AND CRIMINAL  176856.18         0.00   \n",
       "672               HEAD ATTORNEY, CIVIL AND CRIMINAL  176856.18         0.00   \n",
       "673               HEAD ATTORNEY, CIVIL AND CRIMINAL  176856.19         0.00   \n",
       "674               HEAD ATTORNEY, CIVIL AND CRIMINAL  176856.17         0.00   \n",
       "675                SERGEANT III (POLICE DEPARTMENT)  130457.76     43793.11   \n",
       "\n",
       "      OtherPay  Benefits   TotalPay  TotalPayBenefits  Year  Notes  \\\n",
       "0    400184.25       NaN  567595.43         567595.43  2011    NaN   \n",
       "1    137811.38       NaN  538909.28         538909.28  2011    NaN   \n",
       "2     16452.60       NaN  335279.91         335279.91  2011    NaN   \n",
       "3    198306.90       NaN  332343.61         332343.61  2011    NaN   \n",
       "4    182234.59       NaN  326373.19         326373.19  2011    NaN   \n",
       "..         ...       ...        ...               ...   ...    ...   \n",
       "671    3537.89       NaN  180394.07         180394.07  2011    NaN   \n",
       "672    3537.80       NaN  180393.98         180393.98  2011    NaN   \n",
       "673    3537.75       NaN  180393.94         180393.94  2011    NaN   \n",
       "674    3537.11       NaN  180393.28         180393.28  2011    NaN   \n",
       "675    6061.80       NaN  180312.67         180312.67  2011    NaN   \n",
       "\n",
       "            Agency  Status  \n",
       "0    San Francisco     NaN  \n",
       "1    San Francisco     NaN  \n",
       "2    San Francisco     NaN  \n",
       "3    San Francisco     NaN  \n",
       "4    San Francisco     NaN  \n",
       "..             ...     ...  \n",
       "671  San Francisco     NaN  \n",
       "672  San Francisco     NaN  \n",
       "673  San Francisco     NaN  \n",
       "674  San Francisco     NaN  \n",
       "675  San Francisco     NaN  \n",
       "\n",
       "[676 rows x 13 columns]"
      ]
     },
     "execution_count": 42,
     "metadata": {},
     "output_type": "execute_result"
    }
   ],
   "source": [
    "salaries"
   ]
  },
  {
   "cell_type": "code",
   "execution_count": 43,
   "id": "2179db50-ba94-4541-bb47-8d3065a4d1c5",
   "metadata": {},
   "outputs": [
    {
     "data": {
      "text/html": [
       "<div>\n",
       "<style scoped>\n",
       "    .dataframe tbody tr th:only-of-type {\n",
       "        vertical-align: middle;\n",
       "    }\n",
       "\n",
       "    .dataframe tbody tr th {\n",
       "        vertical-align: top;\n",
       "    }\n",
       "\n",
       "    .dataframe thead th {\n",
       "        text-align: right;\n",
       "    }\n",
       "</style>\n",
       "<table border=\"1\" class=\"dataframe\">\n",
       "  <thead>\n",
       "    <tr style=\"text-align: right;\">\n",
       "      <th></th>\n",
       "      <th>Id</th>\n",
       "      <th>EmployeeName</th>\n",
       "      <th>JobTitle</th>\n",
       "      <th>BasePay</th>\n",
       "      <th>OvertimePay</th>\n",
       "      <th>OtherPay</th>\n",
       "      <th>Benefits</th>\n",
       "      <th>TotalPay</th>\n",
       "      <th>TotalPayBenefits</th>\n",
       "      <th>Year</th>\n",
       "      <th>Notes</th>\n",
       "      <th>Agency</th>\n",
       "      <th>Status</th>\n",
       "    </tr>\n",
       "  </thead>\n",
       "  <tbody>\n",
       "    <tr>\n",
       "      <th>0</th>\n",
       "      <td>AA</td>\n",
       "      <td>NATHANIEL FORD</td>\n",
       "      <td>GENERAL MANAGER-METROPOLITAN TRANSIT AUTHORITY</td>\n",
       "      <td>167411.18</td>\n",
       "      <td>0.00</td>\n",
       "      <td>400184.25</td>\n",
       "      <td>NaN</td>\n",
       "      <td>567595.43</td>\n",
       "      <td>567595.43</td>\n",
       "      <td>2011</td>\n",
       "      <td>NaN</td>\n",
       "      <td>San Francisco</td>\n",
       "      <td>NaN</td>\n",
       "    </tr>\n",
       "    <tr>\n",
       "      <th>1</th>\n",
       "      <td>AB</td>\n",
       "      <td>GARY JIMENEZ</td>\n",
       "      <td>CAPTAIN III (POLICE DEPARTMENT)</td>\n",
       "      <td>155966.02</td>\n",
       "      <td>245131.88</td>\n",
       "      <td>137811.38</td>\n",
       "      <td>NaN</td>\n",
       "      <td>538909.28</td>\n",
       "      <td>538909.28</td>\n",
       "      <td>2011</td>\n",
       "      <td>NaN</td>\n",
       "      <td>San Francisco</td>\n",
       "      <td>NaN</td>\n",
       "    </tr>\n",
       "    <tr>\n",
       "      <th>2</th>\n",
       "      <td>AC</td>\n",
       "      <td>ALBERT PARDINI</td>\n",
       "      <td>CAPTAIN III (POLICE DEPARTMENT)</td>\n",
       "      <td>212739.13</td>\n",
       "      <td>106088.18</td>\n",
       "      <td>16452.60</td>\n",
       "      <td>NaN</td>\n",
       "      <td>335279.91</td>\n",
       "      <td>335279.91</td>\n",
       "      <td>2011</td>\n",
       "      <td>NaN</td>\n",
       "      <td>San Francisco</td>\n",
       "      <td>NaN</td>\n",
       "    </tr>\n",
       "    <tr>\n",
       "      <th>3</th>\n",
       "      <td>AD</td>\n",
       "      <td>CHRISTOPHER CHONG</td>\n",
       "      <td>WIRE ROPE CABLE MAINTENANCE MECHANIC</td>\n",
       "      <td>77916.00</td>\n",
       "      <td>56120.71</td>\n",
       "      <td>198306.90</td>\n",
       "      <td>NaN</td>\n",
       "      <td>332343.61</td>\n",
       "      <td>332343.61</td>\n",
       "      <td>2011</td>\n",
       "      <td>NaN</td>\n",
       "      <td>San Francisco</td>\n",
       "      <td>NaN</td>\n",
       "    </tr>\n",
       "    <tr>\n",
       "      <th>4</th>\n",
       "      <td>AE</td>\n",
       "      <td>PATRICK GARDNER</td>\n",
       "      <td>DEPUTY CHIEF OF DEPARTMENT,(FIRE DEPARTMENT)</td>\n",
       "      <td>134401.60</td>\n",
       "      <td>9737.00</td>\n",
       "      <td>182234.59</td>\n",
       "      <td>NaN</td>\n",
       "      <td>326373.19</td>\n",
       "      <td>326373.19</td>\n",
       "      <td>2011</td>\n",
       "      <td>NaN</td>\n",
       "      <td>San Francisco</td>\n",
       "      <td>NaN</td>\n",
       "    </tr>\n",
       "  </tbody>\n",
       "</table>\n",
       "</div>"
      ],
      "text/plain": [
       "   Id       EmployeeName                                        JobTitle  \\\n",
       "0  AA     NATHANIEL FORD  GENERAL MANAGER-METROPOLITAN TRANSIT AUTHORITY   \n",
       "1  AB       GARY JIMENEZ                 CAPTAIN III (POLICE DEPARTMENT)   \n",
       "2  AC     ALBERT PARDINI                 CAPTAIN III (POLICE DEPARTMENT)   \n",
       "3  AD  CHRISTOPHER CHONG            WIRE ROPE CABLE MAINTENANCE MECHANIC   \n",
       "4  AE    PATRICK GARDNER    DEPUTY CHIEF OF DEPARTMENT,(FIRE DEPARTMENT)   \n",
       "\n",
       "     BasePay  OvertimePay   OtherPay  Benefits   TotalPay  TotalPayBenefits  \\\n",
       "0  167411.18         0.00  400184.25       NaN  567595.43         567595.43   \n",
       "1  155966.02    245131.88  137811.38       NaN  538909.28         538909.28   \n",
       "2  212739.13    106088.18   16452.60       NaN  335279.91         335279.91   \n",
       "3   77916.00     56120.71  198306.90       NaN  332343.61         332343.61   \n",
       "4  134401.60      9737.00  182234.59       NaN  326373.19         326373.19   \n",
       "\n",
       "   Year  Notes         Agency  Status  \n",
       "0  2011    NaN  San Francisco     NaN  \n",
       "1  2011    NaN  San Francisco     NaN  \n",
       "2  2011    NaN  San Francisco     NaN  \n",
       "3  2011    NaN  San Francisco     NaN  \n",
       "4  2011    NaN  San Francisco     NaN  "
      ]
     },
     "execution_count": 43,
     "metadata": {},
     "output_type": "execute_result"
    }
   ],
   "source": [
    "salaries.head()"
   ]
  },
  {
   "cell_type": "markdown",
   "id": "493b0669-d44e-4c0a-af81-3c71d9d16322",
   "metadata": {},
   "source": [
    "salaries.tail()"
   ]
  },
  {
   "cell_type": "markdown",
   "id": "6b984b1e-548e-48e2-8101-56ecdf0bf556",
   "metadata": {},
   "source": [
    "####Optional Parameters\n",
    "\n",
    "- **`sep`**: Defines the delimiter to use. The default is `,`, and you can check your `CSV` file to see which should be used \n",
    "  \n",
    "- **`header`**: Indicates the row number to use as column names (0-indexed). Default is `0` (first line), but can be set to `None`, in case you have no column names in your first row.\n",
    "  \n",
    "- **`index_col`**: This parameter is used to specify which column should be used as the row index. It can be an integer (column position) or a string (column label).\n",
    "  \n",
    "- **`usecols`**: Useful when you want to load only specific columns. Pass a list of column names or numbers.\n",
    "  \n",
    "- **`dtype`**: Dictates the data type for each column, and should be a list of the same length as the number of columns\n",
    "#### Handling Common `CSV` Loading Issues\n",
    "\n",
    "A number of factors can affect the proper reading of `CSV` files. Here are some example issues and how to solve them:\n",
    "\n",
    "\n",
    "- **Different Delimiters:** `CSV` files may use delimiters other than commas (like tabs or semicolons). This will cause the DataFrame to be formatted incorrectly, or to throw an error during loading. Use the `sep` parameter to specify the delimiter, e.g. `pd.read_csv('file.csv', sep='\\t')` for tab-delimited files.\n",
    "  \n",
    "- **Missing Headers:** If a `CSV` file doesn’t have a header row, set `header=None` to prevent the first row from being treated as column names. You can then assign column names using the `names` parameter.\n",
    "  \n",
    "- **Encoding Issues:** `CSV` files can have different encodings (like `UTF-8`, `Latin1`). If you encounter encoding errors, use the `encoding` parameter, e.g., `pd.read_csv('file.csv', encoding='latin1')`.\n",
    "  \n",
    "### Importing from Excel\n",
    "\n",
    "Pandas provides the `pd.read_excel()` function to read Excel files. Here is an example load statement, using the first column as the index:\n",
    "\n",
    "\n"
   ]
  },
  {
   "cell_type": "code",
   "execution_count": 44,
   "id": "aab1f49d-a8ff-4376-b34a-829693e7bebf",
   "metadata": {},
   "outputs": [
    {
     "data": {
      "text/html": [
       "<div>\n",
       "<style scoped>\n",
       "    .dataframe tbody tr th:only-of-type {\n",
       "        vertical-align: middle;\n",
       "    }\n",
       "\n",
       "    .dataframe tbody tr th {\n",
       "        vertical-align: top;\n",
       "    }\n",
       "\n",
       "    .dataframe thead th {\n",
       "        text-align: right;\n",
       "    }\n",
       "</style>\n",
       "<table border=\"1\" class=\"dataframe\">\n",
       "  <thead>\n",
       "    <tr style=\"text-align: right;\">\n",
       "      <th></th>\n",
       "      <th>Id</th>\n",
       "      <th>EmployeeName</th>\n",
       "      <th>JobTitle</th>\n",
       "      <th>BasePay</th>\n",
       "      <th>OvertimePay</th>\n",
       "      <th>OtherPay</th>\n",
       "      <th>Benefits</th>\n",
       "      <th>TotalPay</th>\n",
       "      <th>TotalPayBenefits</th>\n",
       "      <th>Year</th>\n",
       "      <th>Notes</th>\n",
       "      <th>Agency</th>\n",
       "      <th>Status</th>\n",
       "    </tr>\n",
       "  </thead>\n",
       "  <tbody>\n",
       "    <tr>\n",
       "      <th>0</th>\n",
       "      <td>AA</td>\n",
       "      <td>NATHANIEL FORD</td>\n",
       "      <td>GENERAL MANAGER-METROPOLITAN TRANSIT AUTHORITY</td>\n",
       "      <td>167411.18</td>\n",
       "      <td>0.00</td>\n",
       "      <td>400184.25</td>\n",
       "      <td>NaN</td>\n",
       "      <td>567595.43</td>\n",
       "      <td>567595.43</td>\n",
       "      <td>2011</td>\n",
       "      <td>NaN</td>\n",
       "      <td>San Francisco</td>\n",
       "      <td>NaN</td>\n",
       "    </tr>\n",
       "    <tr>\n",
       "      <th>1</th>\n",
       "      <td>AB</td>\n",
       "      <td>GARY JIMENEZ</td>\n",
       "      <td>CAPTAIN III (POLICE DEPARTMENT)</td>\n",
       "      <td>155966.02</td>\n",
       "      <td>245131.88</td>\n",
       "      <td>137811.38</td>\n",
       "      <td>NaN</td>\n",
       "      <td>538909.28</td>\n",
       "      <td>538909.28</td>\n",
       "      <td>2011</td>\n",
       "      <td>NaN</td>\n",
       "      <td>San Francisco</td>\n",
       "      <td>NaN</td>\n",
       "    </tr>\n",
       "    <tr>\n",
       "      <th>2</th>\n",
       "      <td>AC</td>\n",
       "      <td>ALBERT PARDINI</td>\n",
       "      <td>CAPTAIN III (POLICE DEPARTMENT)</td>\n",
       "      <td>212739.13</td>\n",
       "      <td>106088.18</td>\n",
       "      <td>16452.60</td>\n",
       "      <td>NaN</td>\n",
       "      <td>335279.91</td>\n",
       "      <td>335279.91</td>\n",
       "      <td>2011</td>\n",
       "      <td>NaN</td>\n",
       "      <td>San Francisco</td>\n",
       "      <td>NaN</td>\n",
       "    </tr>\n",
       "    <tr>\n",
       "      <th>3</th>\n",
       "      <td>AD</td>\n",
       "      <td>CHRISTOPHER CHONG</td>\n",
       "      <td>WIRE ROPE CABLE MAINTENANCE MECHANIC</td>\n",
       "      <td>77916.00</td>\n",
       "      <td>56120.71</td>\n",
       "      <td>198306.90</td>\n",
       "      <td>NaN</td>\n",
       "      <td>332343.61</td>\n",
       "      <td>332343.61</td>\n",
       "      <td>2011</td>\n",
       "      <td>NaN</td>\n",
       "      <td>San Francisco</td>\n",
       "      <td>NaN</td>\n",
       "    </tr>\n",
       "    <tr>\n",
       "      <th>4</th>\n",
       "      <td>AE</td>\n",
       "      <td>PATRICK GARDNER</td>\n",
       "      <td>DEPUTY CHIEF OF DEPARTMENT,(FIRE DEPARTMENT)</td>\n",
       "      <td>134401.60</td>\n",
       "      <td>9737.00</td>\n",
       "      <td>182234.59</td>\n",
       "      <td>NaN</td>\n",
       "      <td>326373.19</td>\n",
       "      <td>326373.19</td>\n",
       "      <td>2011</td>\n",
       "      <td>NaN</td>\n",
       "      <td>San Francisco</td>\n",
       "      <td>NaN</td>\n",
       "    </tr>\n",
       "  </tbody>\n",
       "</table>\n",
       "</div>"
      ],
      "text/plain": [
       "   Id       EmployeeName                                        JobTitle  \\\n",
       "0  AA     NATHANIEL FORD  GENERAL MANAGER-METROPOLITAN TRANSIT AUTHORITY   \n",
       "1  AB       GARY JIMENEZ                 CAPTAIN III (POLICE DEPARTMENT)   \n",
       "2  AC     ALBERT PARDINI                 CAPTAIN III (POLICE DEPARTMENT)   \n",
       "3  AD  CHRISTOPHER CHONG            WIRE ROPE CABLE MAINTENANCE MECHANIC   \n",
       "4  AE    PATRICK GARDNER    DEPUTY CHIEF OF DEPARTMENT,(FIRE DEPARTMENT)   \n",
       "\n",
       "     BasePay  OvertimePay   OtherPay  Benefits   TotalPay  TotalPayBenefits  \\\n",
       "0  167411.18         0.00  400184.25       NaN  567595.43         567595.43   \n",
       "1  155966.02    245131.88  137811.38       NaN  538909.28         538909.28   \n",
       "2  212739.13    106088.18   16452.60       NaN  335279.91         335279.91   \n",
       "3   77916.00     56120.71  198306.90       NaN  332343.61         332343.61   \n",
       "4  134401.60      9737.00  182234.59       NaN  326373.19         326373.19   \n",
       "\n",
       "   Year  Notes         Agency  Status  \n",
       "0  2011    NaN  San Francisco     NaN  \n",
       "1  2011    NaN  San Francisco     NaN  \n",
       "2  2011    NaN  San Francisco     NaN  \n",
       "3  2011    NaN  San Francisco     NaN  \n",
       "4  2011    NaN  San Francisco     NaN  "
      ]
     },
     "execution_count": 44,
     "metadata": {},
     "output_type": "execute_result"
    }
   ],
   "source": [
    "salaries2 = pd.read_excel('Salaries.xlsx')\n",
    "salaries2.head()"
   ]
  },
  {
   "cell_type": "code",
   "execution_count": 47,
   "id": "1c51bc2c-5cab-4647-919a-2d5b070c0ee1",
   "metadata": {},
   "outputs": [
    {
     "data": {
      "text/html": [
       "<div>\n",
       "<style scoped>\n",
       "    .dataframe tbody tr th:only-of-type {\n",
       "        vertical-align: middle;\n",
       "    }\n",
       "\n",
       "    .dataframe tbody tr th {\n",
       "        vertical-align: top;\n",
       "    }\n",
       "\n",
       "    .dataframe thead th {\n",
       "        text-align: right;\n",
       "    }\n",
       "</style>\n",
       "<table border=\"1\" class=\"dataframe\">\n",
       "  <thead>\n",
       "    <tr style=\"text-align: right;\">\n",
       "      <th></th>\n",
       "      <th>EmployeeName</th>\n",
       "      <th>JobTitle</th>\n",
       "      <th>BasePay</th>\n",
       "      <th>OvertimePay</th>\n",
       "      <th>OtherPay</th>\n",
       "      <th>Benefits</th>\n",
       "      <th>TotalPay</th>\n",
       "      <th>TotalPayBenefits</th>\n",
       "      <th>Year</th>\n",
       "      <th>Notes</th>\n",
       "      <th>Agency</th>\n",
       "      <th>Status</th>\n",
       "    </tr>\n",
       "    <tr>\n",
       "      <th>Id</th>\n",
       "      <th></th>\n",
       "      <th></th>\n",
       "      <th></th>\n",
       "      <th></th>\n",
       "      <th></th>\n",
       "      <th></th>\n",
       "      <th></th>\n",
       "      <th></th>\n",
       "      <th></th>\n",
       "      <th></th>\n",
       "      <th></th>\n",
       "      <th></th>\n",
       "    </tr>\n",
       "  </thead>\n",
       "  <tbody>\n",
       "    <tr>\n",
       "      <th>AA</th>\n",
       "      <td>NATHANIEL FORD</td>\n",
       "      <td>GENERAL MANAGER-METROPOLITAN TRANSIT AUTHORITY</td>\n",
       "      <td>167411.18</td>\n",
       "      <td>0.00</td>\n",
       "      <td>400184.25</td>\n",
       "      <td>NaN</td>\n",
       "      <td>567595.43</td>\n",
       "      <td>567595.43</td>\n",
       "      <td>2011</td>\n",
       "      <td>NaN</td>\n",
       "      <td>San Francisco</td>\n",
       "      <td>NaN</td>\n",
       "    </tr>\n",
       "    <tr>\n",
       "      <th>AB</th>\n",
       "      <td>GARY JIMENEZ</td>\n",
       "      <td>CAPTAIN III (POLICE DEPARTMENT)</td>\n",
       "      <td>155966.02</td>\n",
       "      <td>245131.88</td>\n",
       "      <td>137811.38</td>\n",
       "      <td>NaN</td>\n",
       "      <td>538909.28</td>\n",
       "      <td>538909.28</td>\n",
       "      <td>2011</td>\n",
       "      <td>NaN</td>\n",
       "      <td>San Francisco</td>\n",
       "      <td>NaN</td>\n",
       "    </tr>\n",
       "    <tr>\n",
       "      <th>AC</th>\n",
       "      <td>ALBERT PARDINI</td>\n",
       "      <td>CAPTAIN III (POLICE DEPARTMENT)</td>\n",
       "      <td>212739.13</td>\n",
       "      <td>106088.18</td>\n",
       "      <td>16452.60</td>\n",
       "      <td>NaN</td>\n",
       "      <td>335279.91</td>\n",
       "      <td>335279.91</td>\n",
       "      <td>2011</td>\n",
       "      <td>NaN</td>\n",
       "      <td>San Francisco</td>\n",
       "      <td>NaN</td>\n",
       "    </tr>\n",
       "    <tr>\n",
       "      <th>AD</th>\n",
       "      <td>CHRISTOPHER CHONG</td>\n",
       "      <td>WIRE ROPE CABLE MAINTENANCE MECHANIC</td>\n",
       "      <td>77916.00</td>\n",
       "      <td>56120.71</td>\n",
       "      <td>198306.90</td>\n",
       "      <td>NaN</td>\n",
       "      <td>332343.61</td>\n",
       "      <td>332343.61</td>\n",
       "      <td>2011</td>\n",
       "      <td>NaN</td>\n",
       "      <td>San Francisco</td>\n",
       "      <td>NaN</td>\n",
       "    </tr>\n",
       "    <tr>\n",
       "      <th>AE</th>\n",
       "      <td>PATRICK GARDNER</td>\n",
       "      <td>DEPUTY CHIEF OF DEPARTMENT,(FIRE DEPARTMENT)</td>\n",
       "      <td>134401.60</td>\n",
       "      <td>9737.00</td>\n",
       "      <td>182234.59</td>\n",
       "      <td>NaN</td>\n",
       "      <td>326373.19</td>\n",
       "      <td>326373.19</td>\n",
       "      <td>2011</td>\n",
       "      <td>NaN</td>\n",
       "      <td>San Francisco</td>\n",
       "      <td>NaN</td>\n",
       "    </tr>\n",
       "  </tbody>\n",
       "</table>\n",
       "</div>"
      ],
      "text/plain": [
       "         EmployeeName                                        JobTitle  \\\n",
       "Id                                                                      \n",
       "AA     NATHANIEL FORD  GENERAL MANAGER-METROPOLITAN TRANSIT AUTHORITY   \n",
       "AB       GARY JIMENEZ                 CAPTAIN III (POLICE DEPARTMENT)   \n",
       "AC     ALBERT PARDINI                 CAPTAIN III (POLICE DEPARTMENT)   \n",
       "AD  CHRISTOPHER CHONG            WIRE ROPE CABLE MAINTENANCE MECHANIC   \n",
       "AE    PATRICK GARDNER    DEPUTY CHIEF OF DEPARTMENT,(FIRE DEPARTMENT)   \n",
       "\n",
       "      BasePay  OvertimePay   OtherPay  Benefits   TotalPay  TotalPayBenefits  \\\n",
       "Id                                                                             \n",
       "AA  167411.18         0.00  400184.25       NaN  567595.43         567595.43   \n",
       "AB  155966.02    245131.88  137811.38       NaN  538909.28         538909.28   \n",
       "AC  212739.13    106088.18   16452.60       NaN  335279.91         335279.91   \n",
       "AD   77916.00     56120.71  198306.90       NaN  332343.61         332343.61   \n",
       "AE  134401.60      9737.00  182234.59       NaN  326373.19         326373.19   \n",
       "\n",
       "    Year  Notes         Agency  Status  \n",
       "Id                                      \n",
       "AA  2011    NaN  San Francisco     NaN  \n",
       "AB  2011    NaN  San Francisco     NaN  \n",
       "AC  2011    NaN  San Francisco     NaN  \n",
       "AD  2011    NaN  San Francisco     NaN  \n",
       "AE  2011    NaN  San Francisco     NaN  "
      ]
     },
     "execution_count": 47,
     "metadata": {},
     "output_type": "execute_result"
    }
   ],
   "source": [
    "salaries3 = pd.read_excel('Salaries.xlsx', index_col=0)\n",
    "salaries3.head()"
   ]
  },
  {
   "cell_type": "code",
   "execution_count": 50,
   "id": "0bd595c7-cc12-41f5-8af0-78f404dca0ea",
   "metadata": {},
   "outputs": [
    {
     "data": {
      "text/html": [
       "<div>\n",
       "<style scoped>\n",
       "    .dataframe tbody tr th:only-of-type {\n",
       "        vertical-align: middle;\n",
       "    }\n",
       "\n",
       "    .dataframe tbody tr th {\n",
       "        vertical-align: top;\n",
       "    }\n",
       "\n",
       "    .dataframe thead th {\n",
       "        text-align: right;\n",
       "    }\n",
       "</style>\n",
       "<table border=\"1\" class=\"dataframe\">\n",
       "  <thead>\n",
       "    <tr style=\"text-align: right;\">\n",
       "      <th></th>\n",
       "      <th>Id</th>\n",
       "      <th>EmployeeName</th>\n",
       "      <th>JobTitle</th>\n",
       "      <th>BasePay</th>\n",
       "      <th>OvertimePay</th>\n",
       "      <th>OtherPay</th>\n",
       "      <th>Benefits</th>\n",
       "      <th>TotalPay</th>\n",
       "      <th>TotalPayBenefits</th>\n",
       "      <th>Year</th>\n",
       "      <th>Notes</th>\n",
       "      <th>Agency</th>\n",
       "      <th>Status</th>\n",
       "    </tr>\n",
       "  </thead>\n",
       "  <tbody>\n",
       "    <tr>\n",
       "      <th>0</th>\n",
       "      <td>AA</td>\n",
       "      <td>Sunday</td>\n",
       "      <td>GENERAL MANAGER-METROPOLITAN TRANSIT AUTHORITY</td>\n",
       "      <td>167411.18</td>\n",
       "      <td>0.00</td>\n",
       "      <td>400184.25</td>\n",
       "      <td>NaN</td>\n",
       "      <td>567595.43</td>\n",
       "      <td>567595.43</td>\n",
       "      <td>2011</td>\n",
       "      <td>NaN</td>\n",
       "      <td>San Francisco</td>\n",
       "      <td>NaN</td>\n",
       "    </tr>\n",
       "    <tr>\n",
       "      <th>1</th>\n",
       "      <td>AB</td>\n",
       "      <td>Akindoyin</td>\n",
       "      <td>CAPTAIN III (POLICE DEPARTMENT)</td>\n",
       "      <td>155966.02</td>\n",
       "      <td>245131.88</td>\n",
       "      <td>137811.38</td>\n",
       "      <td>NaN</td>\n",
       "      <td>538909.28</td>\n",
       "      <td>538909.28</td>\n",
       "      <td>2011</td>\n",
       "      <td>NaN</td>\n",
       "      <td>San Francisco</td>\n",
       "      <td>NaN</td>\n",
       "    </tr>\n",
       "    <tr>\n",
       "      <th>2</th>\n",
       "      <td>AC</td>\n",
       "      <td>Anthony</td>\n",
       "      <td>CAPTAIN III (POLICE DEPARTMENT)</td>\n",
       "      <td>212739.13</td>\n",
       "      <td>106088.18</td>\n",
       "      <td>16452.60</td>\n",
       "      <td>NaN</td>\n",
       "      <td>335279.91</td>\n",
       "      <td>335279.91</td>\n",
       "      <td>2011</td>\n",
       "      <td>NaN</td>\n",
       "      <td>San Francisco</td>\n",
       "      <td>NaN</td>\n",
       "    </tr>\n",
       "    <tr>\n",
       "      <th>3</th>\n",
       "      <td>AD</td>\n",
       "      <td>Blessing</td>\n",
       "      <td>WIRE ROPE CABLE MAINTENANCE MECHANIC</td>\n",
       "      <td>77916.00</td>\n",
       "      <td>56120.71</td>\n",
       "      <td>198306.90</td>\n",
       "      <td>NaN</td>\n",
       "      <td>332343.61</td>\n",
       "      <td>332343.61</td>\n",
       "      <td>2011</td>\n",
       "      <td>NaN</td>\n",
       "      <td>San Francisco</td>\n",
       "      <td>NaN</td>\n",
       "    </tr>\n",
       "    <tr>\n",
       "      <th>4</th>\n",
       "      <td>AE</td>\n",
       "      <td>PATRICK GARDNER</td>\n",
       "      <td>DEPUTY CHIEF OF DEPARTMENT,(FIRE DEPARTMENT)</td>\n",
       "      <td>134401.60</td>\n",
       "      <td>9737.00</td>\n",
       "      <td>182234.59</td>\n",
       "      <td>NaN</td>\n",
       "      <td>326373.19</td>\n",
       "      <td>326373.19</td>\n",
       "      <td>2011</td>\n",
       "      <td>NaN</td>\n",
       "      <td>San Francisco</td>\n",
       "      <td>NaN</td>\n",
       "    </tr>\n",
       "  </tbody>\n",
       "</table>\n",
       "</div>"
      ],
      "text/plain": [
       "   Id     EmployeeName                                        JobTitle  \\\n",
       "0  AA           Sunday  GENERAL MANAGER-METROPOLITAN TRANSIT AUTHORITY   \n",
       "1  AB        Akindoyin                 CAPTAIN III (POLICE DEPARTMENT)   \n",
       "2  AC          Anthony                 CAPTAIN III (POLICE DEPARTMENT)   \n",
       "3  AD         Blessing            WIRE ROPE CABLE MAINTENANCE MECHANIC   \n",
       "4  AE  PATRICK GARDNER    DEPUTY CHIEF OF DEPARTMENT,(FIRE DEPARTMENT)   \n",
       "\n",
       "     BasePay  OvertimePay   OtherPay  Benefits   TotalPay  TotalPayBenefits  \\\n",
       "0  167411.18         0.00  400184.25       NaN  567595.43         567595.43   \n",
       "1  155966.02    245131.88  137811.38       NaN  538909.28         538909.28   \n",
       "2  212739.13    106088.18   16452.60       NaN  335279.91         335279.91   \n",
       "3   77916.00     56120.71  198306.90       NaN  332343.61         332343.61   \n",
       "4  134401.60      9737.00  182234.59       NaN  326373.19         326373.19   \n",
       "\n",
       "   Year  Notes         Agency  Status  \n",
       "0  2011    NaN  San Francisco     NaN  \n",
       "1  2011    NaN  San Francisco     NaN  \n",
       "2  2011    NaN  San Francisco     NaN  \n",
       "3  2011    NaN  San Francisco     NaN  \n",
       "4  2011    NaN  San Francisco     NaN  "
      ]
     },
     "execution_count": 50,
     "metadata": {},
     "output_type": "execute_result"
    }
   ],
   "source": [
    "salaries4 = pd.read_excel('Salaries.xlsx', sheet_name=\"Pora_Staff\")\n",
    "salaries4.head()"
   ]
  },
  {
   "cell_type": "markdown",
   "id": "23f86782-6291-4743-939b-0ea0d975961b",
   "metadata": {},
   "source": [
    "#### Optional Parameters"
   ]
  },
  {
   "cell_type": "markdown",
   "id": "0147d2bc-1d42-4f8b-8708-769413581e2c",
   "metadata": {},
   "source": [
    "- `sheet_name`: Specifies which sheet to read. By default, it's set to `0`, meaning the first sheet. You can set it to the sheet's name or index.\n",
    "  \n",
    "- `header`: Identifies the row to use as column names\n",
    "  \n",
    "- `index_col`: Selects a column to use as the row index\n",
    "  \n",
    "- `usecols`: Limits the import to a list of specific columns\n",
    "### Outputting `DataFrame` Data to a File\n",
    "Pandas `DataFrame` objects have various methods for writing data from different file types. \n",
    "\n",
    "For example, to write data to a `CSV` file, you can use the `to_csv` method:\n"
   ]
  },
  {
   "cell_type": "code",
   "execution_count": 51,
   "id": "ebc53ff7-b9d1-42df-a32f-724353545a89",
   "metadata": {},
   "outputs": [],
   "source": [
    "salaries4.to_csv('pora_staff.csv')"
   ]
  },
  {
   "cell_type": "code",
   "execution_count": 52,
   "id": "7f8cb4c6-8f13-4014-943b-e1a315c5105c",
   "metadata": {},
   "outputs": [],
   "source": [
    "salaries4.to_csv('pora_staff_1.csv', index=False)"
   ]
  },
  {
   "cell_type": "markdown",
   "id": "9d9a12ad-fb63-49ea-85df-a3fef87a35ad",
   "metadata": {},
   "source": [
    "##  `DataFrame` Copies and Aliases\n",
    "\n",
    "> It is important to understand that in Pandas, when you assign a `DataFrame` to a new variable, you are creating an **alias**, not a **copy**. This means both variables refer to the same underlying data.\n",
    "\n",
    "In the code block below, you can see that if you assign a new variable name to a `DataFrame` and then change something in the new variable, you are changing the same underlying `DataFrame` as if you ran the manipulation on the old variable name. This is because both are **aliases** of the same object."
   ]
  },
  {
   "cell_type": "code",
   "execution_count": 53,
   "id": "b7ae2a8a-42bc-4a08-a267-c0d4010dc0e9",
   "metadata": {},
   "outputs": [],
   "source": [
    "my_dict = {'Animal': ['Dog', 'Cat', 'Bird'], 'Age': [2, 4, 1]}\n",
    "my_df = pd.DataFrame(my_dict)"
   ]
  },
  {
   "cell_type": "code",
   "execution_count": 54,
   "id": "1dbb8ff2-2943-46ea-82a7-19589fc21f48",
   "metadata": {},
   "outputs": [
    {
     "data": {
      "text/html": [
       "<div>\n",
       "<style scoped>\n",
       "    .dataframe tbody tr th:only-of-type {\n",
       "        vertical-align: middle;\n",
       "    }\n",
       "\n",
       "    .dataframe tbody tr th {\n",
       "        vertical-align: top;\n",
       "    }\n",
       "\n",
       "    .dataframe thead th {\n",
       "        text-align: right;\n",
       "    }\n",
       "</style>\n",
       "<table border=\"1\" class=\"dataframe\">\n",
       "  <thead>\n",
       "    <tr style=\"text-align: right;\">\n",
       "      <th></th>\n",
       "      <th>Animal</th>\n",
       "      <th>Age</th>\n",
       "    </tr>\n",
       "  </thead>\n",
       "  <tbody>\n",
       "    <tr>\n",
       "      <th>0</th>\n",
       "      <td>Dog</td>\n",
       "      <td>2</td>\n",
       "    </tr>\n",
       "    <tr>\n",
       "      <th>1</th>\n",
       "      <td>Cat</td>\n",
       "      <td>4</td>\n",
       "    </tr>\n",
       "    <tr>\n",
       "      <th>2</th>\n",
       "      <td>Bird</td>\n",
       "      <td>1</td>\n",
       "    </tr>\n",
       "  </tbody>\n",
       "</table>\n",
       "</div>"
      ],
      "text/plain": [
       "  Animal  Age\n",
       "0    Dog    2\n",
       "1    Cat    4\n",
       "2   Bird    1"
      ]
     },
     "execution_count": 54,
     "metadata": {},
     "output_type": "execute_result"
    }
   ],
   "source": [
    "my_df"
   ]
  },
  {
   "cell_type": "code",
   "execution_count": 55,
   "id": "8381e353-9606-405d-a114-c9a13c64c739",
   "metadata": {},
   "outputs": [],
   "source": [
    "new_df = my_df"
   ]
  },
  {
   "cell_type": "code",
   "execution_count": 56,
   "id": "15a95f08-3151-4971-8231-1589a55e2605",
   "metadata": {},
   "outputs": [
    {
     "data": {
      "text/html": [
       "<div>\n",
       "<style scoped>\n",
       "    .dataframe tbody tr th:only-of-type {\n",
       "        vertical-align: middle;\n",
       "    }\n",
       "\n",
       "    .dataframe tbody tr th {\n",
       "        vertical-align: top;\n",
       "    }\n",
       "\n",
       "    .dataframe thead th {\n",
       "        text-align: right;\n",
       "    }\n",
       "</style>\n",
       "<table border=\"1\" class=\"dataframe\">\n",
       "  <thead>\n",
       "    <tr style=\"text-align: right;\">\n",
       "      <th></th>\n",
       "      <th>Animal</th>\n",
       "      <th>Age</th>\n",
       "    </tr>\n",
       "  </thead>\n",
       "  <tbody>\n",
       "    <tr>\n",
       "      <th>0</th>\n",
       "      <td>Dog</td>\n",
       "      <td>2</td>\n",
       "    </tr>\n",
       "    <tr>\n",
       "      <th>1</th>\n",
       "      <td>Cat</td>\n",
       "      <td>4</td>\n",
       "    </tr>\n",
       "    <tr>\n",
       "      <th>2</th>\n",
       "      <td>Bird</td>\n",
       "      <td>1</td>\n",
       "    </tr>\n",
       "  </tbody>\n",
       "</table>\n",
       "</div>"
      ],
      "text/plain": [
       "  Animal  Age\n",
       "0    Dog    2\n",
       "1    Cat    4\n",
       "2   Bird    1"
      ]
     },
     "execution_count": 56,
     "metadata": {},
     "output_type": "execute_result"
    }
   ],
   "source": [
    "new_df"
   ]
  },
  {
   "cell_type": "code",
   "execution_count": 57,
   "id": "e92de50d-4b98-47a5-b532-3da2c8866e2c",
   "metadata": {},
   "outputs": [],
   "source": [
    "new_df.iloc[0, 0] = 'Pig'"
   ]
  },
  {
   "cell_type": "code",
   "execution_count": 58,
   "id": "0b7c42ac-d12e-42e6-9685-f5c4ad46297e",
   "metadata": {},
   "outputs": [
    {
     "data": {
      "text/html": [
       "<div>\n",
       "<style scoped>\n",
       "    .dataframe tbody tr th:only-of-type {\n",
       "        vertical-align: middle;\n",
       "    }\n",
       "\n",
       "    .dataframe tbody tr th {\n",
       "        vertical-align: top;\n",
       "    }\n",
       "\n",
       "    .dataframe thead th {\n",
       "        text-align: right;\n",
       "    }\n",
       "</style>\n",
       "<table border=\"1\" class=\"dataframe\">\n",
       "  <thead>\n",
       "    <tr style=\"text-align: right;\">\n",
       "      <th></th>\n",
       "      <th>Animal</th>\n",
       "      <th>Age</th>\n",
       "    </tr>\n",
       "  </thead>\n",
       "  <tbody>\n",
       "    <tr>\n",
       "      <th>0</th>\n",
       "      <td>Pig</td>\n",
       "      <td>2</td>\n",
       "    </tr>\n",
       "    <tr>\n",
       "      <th>1</th>\n",
       "      <td>Cat</td>\n",
       "      <td>4</td>\n",
       "    </tr>\n",
       "    <tr>\n",
       "      <th>2</th>\n",
       "      <td>Bird</td>\n",
       "      <td>1</td>\n",
       "    </tr>\n",
       "  </tbody>\n",
       "</table>\n",
       "</div>"
      ],
      "text/plain": [
       "  Animal  Age\n",
       "0    Pig    2\n",
       "1    Cat    4\n",
       "2   Bird    1"
      ]
     },
     "execution_count": 58,
     "metadata": {},
     "output_type": "execute_result"
    }
   ],
   "source": [
    "new_df"
   ]
  },
  {
   "cell_type": "code",
   "execution_count": 59,
   "id": "696ac2c0-e452-400d-8460-0b1775145ffe",
   "metadata": {},
   "outputs": [
    {
     "data": {
      "text/html": [
       "<div>\n",
       "<style scoped>\n",
       "    .dataframe tbody tr th:only-of-type {\n",
       "        vertical-align: middle;\n",
       "    }\n",
       "\n",
       "    .dataframe tbody tr th {\n",
       "        vertical-align: top;\n",
       "    }\n",
       "\n",
       "    .dataframe thead th {\n",
       "        text-align: right;\n",
       "    }\n",
       "</style>\n",
       "<table border=\"1\" class=\"dataframe\">\n",
       "  <thead>\n",
       "    <tr style=\"text-align: right;\">\n",
       "      <th></th>\n",
       "      <th>Animal</th>\n",
       "      <th>Age</th>\n",
       "    </tr>\n",
       "  </thead>\n",
       "  <tbody>\n",
       "    <tr>\n",
       "      <th>0</th>\n",
       "      <td>Pig</td>\n",
       "      <td>2</td>\n",
       "    </tr>\n",
       "    <tr>\n",
       "      <th>1</th>\n",
       "      <td>Cat</td>\n",
       "      <td>4</td>\n",
       "    </tr>\n",
       "    <tr>\n",
       "      <th>2</th>\n",
       "      <td>Bird</td>\n",
       "      <td>1</td>\n",
       "    </tr>\n",
       "  </tbody>\n",
       "</table>\n",
       "</div>"
      ],
      "text/plain": [
       "  Animal  Age\n",
       "0    Pig    2\n",
       "1    Cat    4\n",
       "2   Bird    1"
      ]
     },
     "execution_count": 59,
     "metadata": {},
     "output_type": "execute_result"
    }
   ],
   "source": [
    "my_df"
   ]
  },
  {
   "cell_type": "markdown",
   "id": "2d2ef1c8-06fd-4f8e-9394-307e7c296ebd",
   "metadata": {},
   "source": [
    "### Creating a Copy\n",
    "\n",
    "A new `DataFrame` is generated as the output to most operations you perform on your original `df` however. For example:"
   ]
  },
  {
   "cell_type": "markdown",
   "id": "9d470080-d8eb-4d53-acf6-12466e7c6692",
   "metadata": {},
   "source": [
    "my_new_df = my_df.sort_values(by='Age', ascending=False)\n",
    "my_new_df.head() # The new DataFrame has been re-sorted"
   ]
  },
  {
   "cell_type": "code",
   "execution_count": 61,
   "id": "04bc84c9-fa97-4f89-b967-96bef382222b",
   "metadata": {},
   "outputs": [
    {
     "data": {
      "text/html": [
       "<div>\n",
       "<style scoped>\n",
       "    .dataframe tbody tr th:only-of-type {\n",
       "        vertical-align: middle;\n",
       "    }\n",
       "\n",
       "    .dataframe tbody tr th {\n",
       "        vertical-align: top;\n",
       "    }\n",
       "\n",
       "    .dataframe thead th {\n",
       "        text-align: right;\n",
       "    }\n",
       "</style>\n",
       "<table border=\"1\" class=\"dataframe\">\n",
       "  <thead>\n",
       "    <tr style=\"text-align: right;\">\n",
       "      <th></th>\n",
       "      <th>Animal</th>\n",
       "      <th>Age</th>\n",
       "    </tr>\n",
       "  </thead>\n",
       "  <tbody>\n",
       "    <tr>\n",
       "      <th>0</th>\n",
       "      <td>Pig</td>\n",
       "      <td>2</td>\n",
       "    </tr>\n",
       "    <tr>\n",
       "      <th>1</th>\n",
       "      <td>Cat</td>\n",
       "      <td>4</td>\n",
       "    </tr>\n",
       "    <tr>\n",
       "      <th>2</th>\n",
       "      <td>Bird</td>\n",
       "      <td>1</td>\n",
       "    </tr>\n",
       "  </tbody>\n",
       "</table>\n",
       "</div>"
      ],
      "text/plain": [
       "  Animal  Age\n",
       "0    Pig    2\n",
       "1    Cat    4\n",
       "2   Bird    1"
      ]
     },
     "execution_count": 61,
     "metadata": {},
     "output_type": "execute_result"
    }
   ],
   "source": [
    "my_df.head() # The original DataFrame has not been changed"
   ]
  },
  {
   "cell_type": "markdown",
   "id": "2f5fecff-2e69-4ad3-910a-10b8d2bd0730",
   "metadata": {},
   "source": [
    "You can also make an unchanged copy of the `DataFrame` using the `.copy()` method:"
   ]
  },
  {
   "cell_type": "code",
   "execution_count": 62,
   "id": "9873343e-70c5-457e-b63c-8076d2130311",
   "metadata": {},
   "outputs": [],
   "source": [
    "my_new_df = my_df.copy()"
   ]
  },
  {
   "cell_type": "markdown",
   "id": "76750193-c3a7-4c31-baed-16bbbfaf0965",
   "metadata": {},
   "source": [
    "### The `inplace` Parameter\n",
    "\n",
    "> For some `DataFrame` operations, it is possible to perform the change on the existing `DataFrame` without making an explicit assignment, by using the argument `inplace = True`. The parameter causes the associated method to modify the original `DataFrame` directly, rather than returning a new `DataFrame` with the applied changes. When set to True, the operation occurs in place and the original `DataFrame` is altered, thereby eliminating the need to assign the result to a new variable.\n",
    "\n",
    "Unfortunately, the implementation of this parameter is somewhat inconsistent across the library, so you might need to experiment, or refer to the documentation, to learn which methods will allow you to do this."
   ]
  },
  {
   "cell_type": "code",
   "execution_count": 63,
   "id": "d73ebf3d-d63f-4400-a082-fec15df408fe",
   "metadata": {},
   "outputs": [
    {
     "data": {
      "text/html": [
       "<div>\n",
       "<style scoped>\n",
       "    .dataframe tbody tr th:only-of-type {\n",
       "        vertical-align: middle;\n",
       "    }\n",
       "\n",
       "    .dataframe tbody tr th {\n",
       "        vertical-align: top;\n",
       "    }\n",
       "\n",
       "    .dataframe thead th {\n",
       "        text-align: right;\n",
       "    }\n",
       "</style>\n",
       "<table border=\"1\" class=\"dataframe\">\n",
       "  <thead>\n",
       "    <tr style=\"text-align: right;\">\n",
       "      <th></th>\n",
       "      <th>Animal</th>\n",
       "    </tr>\n",
       "  </thead>\n",
       "  <tbody>\n",
       "    <tr>\n",
       "      <th>0</th>\n",
       "      <td>Pig</td>\n",
       "    </tr>\n",
       "    <tr>\n",
       "      <th>1</th>\n",
       "      <td>Cat</td>\n",
       "    </tr>\n",
       "    <tr>\n",
       "      <th>2</th>\n",
       "      <td>Bird</td>\n",
       "    </tr>\n",
       "  </tbody>\n",
       "</table>\n",
       "</div>"
      ],
      "text/plain": [
       "  Animal\n",
       "0    Pig\n",
       "1    Cat\n",
       "2   Bird"
      ]
     },
     "execution_count": 63,
     "metadata": {},
     "output_type": "execute_result"
    }
   ],
   "source": [
    "my_new_df.drop('Age', axis=1, inplace=True) # Drops the 'Age' column in-place\n",
    "my_new_df.head()"
   ]
  },
  {
   "cell_type": "markdown",
   "id": "2c83994a-7c66-439e-bf02-f60aef881830",
   "metadata": {},
   "source": [
    "## Key Takeaways\n",
    "\n",
    "- Pandas is a Python library for analysing and manipulating large tabular datasets\n",
    "- Use Pandas inside a Jupyter Notebook for EDA and data cleaning\n",
    "- A `DataFrame` is a 2D array-like table data structure\n",
    "- A `Series` is a 1-dimensional array in pandas that can hold any type of data\n",
    "- `Series` in pandas can be indexed like Python lists\n",
    "- Use `loc` for label-based indexing and `iloc` for position-based indexing\n",
    "- Pandas allows indexing or slicing of both rows and columns simultaneously using `loc` and `iloc`\n",
    "- Resetting the index of a `DataFrame` is useful after data manipulations like slicing or filtering\n",
    "- Pandas allows importing data from various sources like `CSV`, Excel, `JSON`, and SQL into a `DataFrame`\n",
    "- Pandas can read `CSV` files using pd.read_csv, with optional parameters to handle issues like different delimiters, missing headers, and encoding issues\n",
    "- The `pd.read_excel()` function reads Excel files, with options to specify sheet, header, index column, and specific columns\n",
    "- The `to_csv()`, `to_json()` and `to_dict()` methods can be used to export data from a `DataFrame`"
   ]
  },
  {
   "cell_type": "code",
   "execution_count": null,
   "id": "a3c116ef-41c5-43c4-9b11-88a9a861563c",
   "metadata": {},
   "outputs": [],
   "source": []
  }
 ],
 "metadata": {
  "kernelspec": {
   "display_name": "Python 3 (ipykernel)",
   "language": "python",
   "name": "python3"
  },
  "language_info": {
   "codemirror_mode": {
    "name": "ipython",
    "version": 3
   },
   "file_extension": ".py",
   "mimetype": "text/x-python",
   "name": "python",
   "nbconvert_exporter": "python",
   "pygments_lexer": "ipython3",
   "version": "3.11.5"
  }
 },
 "nbformat": 4,
 "nbformat_minor": 5
}
