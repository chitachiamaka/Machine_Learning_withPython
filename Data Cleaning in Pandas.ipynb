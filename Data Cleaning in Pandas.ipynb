{
 "cells": [
  {
   "cell_type": "markdown",
   "id": "d4cb04ba-4340-4403-a648-ab6b80d0d597",
   "metadata": {},
   "source": [
    "# Data Cleaning in Pandas"
   ]
  },
  {
   "cell_type": "markdown",
   "id": "a91e05dd-fa59-4e1d-bfa0-351e2eecb881",
   "metadata": {},
   "source": [
    "## Cleaning Text Data\n",
    "\n",
    "### Common Text Operations\n",
    "\n",
    "> In data cleaning, one often deals with text data that requires standardisation and formatting. Pandas offers several built-in methods that make these tasks straightforward. \n",
    "\n",
    "#### 1. String Trimming \n",
    "The `.str.strip()` method is used to remove whitespace from the beginning and end of a string. It's particularly useful when your dataset contains extra spaces that may affect data quality or analysis. \n"
   ]
  },
  {
   "cell_type": "code",
   "execution_count": 1,
   "id": "bf745016-534a-4b53-bc0f-6efb2ace6b10",
   "metadata": {},
   "outputs": [],
   "source": [
    "import pandas as pd"
   ]
  },
  {
   "cell_type": "code",
   "execution_count": 2,
   "id": "05038cd7-454d-42b9-b345-89454f8d2ab4",
   "metadata": {},
   "outputs": [
    {
     "data": {
      "text/plain": [
       "0       Adebayo\n",
       "1      Adebayo \n",
       "2       Adebayo\n",
       "3     Adebayo  \n",
       "4       Ad@bayo\n",
       "dtype: object"
      ]
     },
     "execution_count": 2,
     "metadata": {},
     "output_type": "execute_result"
    }
   ],
   "source": [
    "example_series = pd.Series([' Adebayo', 'Adebayo ', '   Adebayo', 'Adebayo  ', 'Ad@bayo'])\n",
    "example_series.head()"
   ]
  },
  {
   "cell_type": "code",
   "execution_count": 3,
   "id": "592d09ca-442a-4db0-bdc6-75c8ef9d6243",
   "metadata": {},
   "outputs": [
    {
     "data": {
      "text/plain": [
       "0    Adebayo\n",
       "1    Adebayo\n",
       "2    Adebayo\n",
       "3    Adebayo\n",
       "4    Ad@bayo\n",
       "dtype: object"
      ]
     },
     "execution_count": 3,
     "metadata": {},
     "output_type": "execute_result"
    }
   ],
   "source": [
    "example_series = example_series.str.strip()\n",
    "example_series.head()"
   ]
  },
  {
   "cell_type": "markdown",
   "id": "f1f85494-2f86-4be6-bd0a-d628ad753a11",
   "metadata": {},
   "source": [
    "\n",
    "### 2. Converting Case\n",
    "\n",
    ">When handling categorical variables it is often necessary to standardise the case of your text data. In such instances, it's not uncommon to find the same category represented in varying cases - some in uppercase, others in lowercase, or even a mix. A common solution is to force the text into either upper or lower case, and this can be achieved with the `.str.lower()` and `.str.upper()` methods:\n"
   ]
  },
  {
   "cell_type": "code",
   "execution_count": 4,
   "id": "43ad7369-3518-451e-b466-0e556e86ec13",
   "metadata": {},
   "outputs": [
    {
     "data": {
      "text/plain": [
       "0    ADEBAYO\n",
       "1    ADEBAYO\n",
       "2    ADEBAYO\n",
       "3    ADEBAYO\n",
       "4    AD@BAYO\n",
       "dtype: object"
      ]
     },
     "execution_count": 4,
     "metadata": {},
     "output_type": "execute_result"
    }
   ],
   "source": [
    "example_series = example_series.str.upper()\n",
    "example_series.head()"
   ]
  },
  {
   "cell_type": "code",
   "execution_count": 5,
   "id": "ca58b6b8-20b6-404b-8980-7aca9003b283",
   "metadata": {},
   "outputs": [
    {
     "data": {
      "text/plain": [
       "0    adebayo\n",
       "1    adebayo\n",
       "2    adebayo\n",
       "3    adebayo\n",
       "4    ad@bayo\n",
       "dtype: object"
      ]
     },
     "execution_count": 5,
     "metadata": {},
     "output_type": "execute_result"
    }
   ],
   "source": [
    "example_series = example_series.str.lower()\n",
    "example_series.head()"
   ]
  },
  {
   "cell_type": "markdown",
   "id": "a68fd149-1076-44b0-9ebd-2b244fa4711f",
   "metadata": {},
   "source": [
    "### 3. Fixing Incorrect Values with the `replace()` Method\n",
    "> Another common scenario is a column containing values that are systematically incorrect in some way, for example a word that is often mis-spelled. This is heavily data dependent, and will require an understanding of what the column is supposed to contain. \n",
    "\n",
    "The simplest usage of `replace()` is to simply replace one character string with another:\n"
   ]
  },
  {
   "cell_type": "code",
   "execution_count": 6,
   "id": "2f769c34-be1b-44b0-857e-761ca68af932",
   "metadata": {},
   "outputs": [
    {
     "data": {
      "text/plain": [
       "0    adebayo\n",
       "1    adebayo\n",
       "2    adebayo\n",
       "3    adebayo\n",
       "4    adebayo\n",
       "dtype: object"
      ]
     },
     "execution_count": 6,
     "metadata": {},
     "output_type": "execute_result"
    }
   ],
   "source": [
    "example_series = example_series.str.replace('@', 'e')\n",
    "example_series.head()"
   ]
  },
  {
   "cell_type": "code",
   "execution_count": 10,
   "id": "2ee58f02-b70e-401c-991a-206deaa2c314",
   "metadata": {},
   "outputs": [
    {
     "data": {
      "text/plain": [
       "0    Adebayo\n",
       "1    Adebayo\n",
       "2    Adebayo\n",
       "3    Adebayo\n",
       "4    Adebayo\n",
       "dtype: object"
      ]
     },
     "execution_count": 10,
     "metadata": {},
     "output_type": "execute_result"
    }
   ],
   "source": [
    "example_series = example_series.str.capitalize()\n",
    "example_series.head()"
   ]
  },
  {
   "cell_type": "code",
   "execution_count": 11,
   "id": "853a0ce8-53e2-41ac-9ddc-ce7b63a038d9",
   "metadata": {},
   "outputs": [
    {
     "data": {
      "text/plain": [
       "0    adebayo\n",
       "1    adebayo\n",
       "2    adebayo\n",
       "3    adebayo\n",
       "4    adebayo\n",
       "dtype: object"
      ]
     },
     "execution_count": 11,
     "metadata": {},
     "output_type": "execute_result"
    }
   ],
   "source": [
    "example_series = example_series.str.lower()\n",
    "example_series.head()"
   ]
  },
  {
   "cell_type": "code",
   "execution_count": 12,
   "id": "fdbc6d8f-c524-4466-af19-b97dfd9ab8f5",
   "metadata": {},
   "outputs": [
    {
     "data": {
      "text/plain": [
       "0    Adebayo\n",
       "1    Adebayo\n",
       "2    Adebayo\n",
       "3    Adebayo\n",
       "4    Adebayo\n",
       "dtype: object"
      ]
     },
     "execution_count": 12,
     "metadata": {},
     "output_type": "execute_result"
    }
   ],
   "source": [
    "example_series = example_series.str.title()\n",
    "example_series.head()"
   ]
  },
  {
   "cell_type": "markdown",
   "id": "539b764f-7775-40bc-8664-3304542d8c51",
   "metadata": {},
   "source": [
    "## Advanced String Manipulation\n",
    ">Aside from the simple examples described above, Pandas is capable of much more advanced string manipulations. Let's consider some situations and how they are handled.\n",
    "\n",
    "### Scenario: Cleaning a Boolean Column\n",
    "In this example, we will look at a column called `CANCELLED`, which is intended to be a Boolean column indicating whether a service or order has been cancelled:"
   ]
  },
  {
   "cell_type": "code",
   "execution_count": 13,
   "id": "a2ed81dd-60d4-497f-aa8a-9f6cfe4ce785",
   "metadata": {},
   "outputs": [],
   "source": [
    "cancelled_df = pd.read_csv('cancellations.csv')"
   ]
  },
  {
   "cell_type": "code",
   "execution_count": 14,
   "id": "2c29ca75-f532-4556-93cb-a096ef11406e",
   "metadata": {},
   "outputs": [
    {
     "data": {
      "text/html": [
       "<div>\n",
       "<style scoped>\n",
       "    .dataframe tbody tr th:only-of-type {\n",
       "        vertical-align: middle;\n",
       "    }\n",
       "\n",
       "    .dataframe tbody tr th {\n",
       "        vertical-align: top;\n",
       "    }\n",
       "\n",
       "    .dataframe thead th {\n",
       "        text-align: right;\n",
       "    }\n",
       "</style>\n",
       "<table border=\"1\" class=\"dataframe\">\n",
       "  <thead>\n",
       "    <tr style=\"text-align: right;\">\n",
       "      <th></th>\n",
       "      <th>CANCELLED</th>\n",
       "    </tr>\n",
       "  </thead>\n",
       "  <tbody>\n",
       "    <tr>\n",
       "      <th>0</th>\n",
       "      <td>F</td>\n",
       "    </tr>\n",
       "    <tr>\n",
       "      <th>1</th>\n",
       "      <td>False</td>\n",
       "    </tr>\n",
       "    <tr>\n",
       "      <th>2</th>\n",
       "      <td>F</td>\n",
       "    </tr>\n",
       "    <tr>\n",
       "      <th>3</th>\n",
       "      <td>False</td>\n",
       "    </tr>\n",
       "    <tr>\n",
       "      <th>4</th>\n",
       "      <td>0</td>\n",
       "    </tr>\n",
       "  </tbody>\n",
       "</table>\n",
       "</div>"
      ],
      "text/plain": [
       "  CANCELLED\n",
       "0         F\n",
       "1     False\n",
       "2         F\n",
       "3     False\n",
       "4         0"
      ]
     },
     "execution_count": 14,
     "metadata": {},
     "output_type": "execute_result"
    }
   ],
   "source": [
    "cancelled_df.head()"
   ]
  },
  {
   "cell_type": "code",
   "execution_count": 15,
   "id": "efb0beee-47c3-450c-bc31-308ed6105cc4",
   "metadata": {},
   "outputs": [
    {
     "data": {
      "text/html": [
       "<div>\n",
       "<style scoped>\n",
       "    .dataframe tbody tr th:only-of-type {\n",
       "        vertical-align: middle;\n",
       "    }\n",
       "\n",
       "    .dataframe tbody tr th {\n",
       "        vertical-align: top;\n",
       "    }\n",
       "\n",
       "    .dataframe thead th {\n",
       "        text-align: right;\n",
       "    }\n",
       "</style>\n",
       "<table border=\"1\" class=\"dataframe\">\n",
       "  <thead>\n",
       "    <tr style=\"text-align: right;\">\n",
       "      <th></th>\n",
       "      <th>CANCELLED</th>\n",
       "    </tr>\n",
       "  </thead>\n",
       "  <tbody>\n",
       "    <tr>\n",
       "      <th>0</th>\n",
       "      <td>F</td>\n",
       "    </tr>\n",
       "    <tr>\n",
       "      <th>1</th>\n",
       "      <td>False</td>\n",
       "    </tr>\n",
       "    <tr>\n",
       "      <th>2</th>\n",
       "      <td>F</td>\n",
       "    </tr>\n",
       "    <tr>\n",
       "      <th>3</th>\n",
       "      <td>False</td>\n",
       "    </tr>\n",
       "    <tr>\n",
       "      <th>4</th>\n",
       "      <td>0</td>\n",
       "    </tr>\n",
       "    <tr>\n",
       "      <th>5</th>\n",
       "      <td>F</td>\n",
       "    </tr>\n",
       "    <tr>\n",
       "      <th>6</th>\n",
       "      <td>T</td>\n",
       "    </tr>\n",
       "    <tr>\n",
       "      <th>7</th>\n",
       "      <td>F</td>\n",
       "    </tr>\n",
       "    <tr>\n",
       "      <th>8</th>\n",
       "      <td>F</td>\n",
       "    </tr>\n",
       "    <tr>\n",
       "      <th>9</th>\n",
       "      <td>F</td>\n",
       "    </tr>\n",
       "    <tr>\n",
       "      <th>10</th>\n",
       "      <td>False</td>\n",
       "    </tr>\n",
       "    <tr>\n",
       "      <th>11</th>\n",
       "      <td>0</td>\n",
       "    </tr>\n",
       "    <tr>\n",
       "      <th>12</th>\n",
       "      <td>False</td>\n",
       "    </tr>\n",
       "    <tr>\n",
       "      <th>13</th>\n",
       "      <td>False</td>\n",
       "    </tr>\n",
       "    <tr>\n",
       "      <th>14</th>\n",
       "      <td>False</td>\n",
       "    </tr>\n",
       "    <tr>\n",
       "      <th>15</th>\n",
       "      <td>False</td>\n",
       "    </tr>\n",
       "    <tr>\n",
       "      <th>16</th>\n",
       "      <td>0</td>\n",
       "    </tr>\n",
       "    <tr>\n",
       "      <th>17</th>\n",
       "      <td>0</td>\n",
       "    </tr>\n",
       "    <tr>\n",
       "      <th>18</th>\n",
       "      <td>1</td>\n",
       "    </tr>\n",
       "    <tr>\n",
       "      <th>19</th>\n",
       "      <td>False</td>\n",
       "    </tr>\n",
       "    <tr>\n",
       "      <th>20</th>\n",
       "      <td>0</td>\n",
       "    </tr>\n",
       "    <tr>\n",
       "      <th>21</th>\n",
       "      <td>True</td>\n",
       "    </tr>\n",
       "    <tr>\n",
       "      <th>22</th>\n",
       "      <td>F</td>\n",
       "    </tr>\n",
       "    <tr>\n",
       "      <th>23</th>\n",
       "      <td>False</td>\n",
       "    </tr>\n",
       "    <tr>\n",
       "      <th>24</th>\n",
       "      <td>False</td>\n",
       "    </tr>\n",
       "    <tr>\n",
       "      <th>25</th>\n",
       "      <td>False</td>\n",
       "    </tr>\n",
       "    <tr>\n",
       "      <th>26</th>\n",
       "      <td>False</td>\n",
       "    </tr>\n",
       "    <tr>\n",
       "      <th>27</th>\n",
       "      <td>0</td>\n",
       "    </tr>\n",
       "    <tr>\n",
       "      <th>28</th>\n",
       "      <td>0</td>\n",
       "    </tr>\n",
       "    <tr>\n",
       "      <th>29</th>\n",
       "      <td>False</td>\n",
       "    </tr>\n",
       "    <tr>\n",
       "      <th>30</th>\n",
       "      <td>False</td>\n",
       "    </tr>\n",
       "    <tr>\n",
       "      <th>31</th>\n",
       "      <td>False</td>\n",
       "    </tr>\n",
       "    <tr>\n",
       "      <th>32</th>\n",
       "      <td>F</td>\n",
       "    </tr>\n",
       "    <tr>\n",
       "      <th>33</th>\n",
       "      <td>False</td>\n",
       "    </tr>\n",
       "    <tr>\n",
       "      <th>34</th>\n",
       "      <td>0</td>\n",
       "    </tr>\n",
       "    <tr>\n",
       "      <th>35</th>\n",
       "      <td>F</td>\n",
       "    </tr>\n",
       "    <tr>\n",
       "      <th>36</th>\n",
       "      <td>0</td>\n",
       "    </tr>\n",
       "    <tr>\n",
       "      <th>37</th>\n",
       "      <td>True</td>\n",
       "    </tr>\n",
       "    <tr>\n",
       "      <th>38</th>\n",
       "      <td>False</td>\n",
       "    </tr>\n",
       "    <tr>\n",
       "      <th>39</th>\n",
       "      <td>False</td>\n",
       "    </tr>\n",
       "    <tr>\n",
       "      <th>40</th>\n",
       "      <td>True</td>\n",
       "    </tr>\n",
       "    <tr>\n",
       "      <th>41</th>\n",
       "      <td>0</td>\n",
       "    </tr>\n",
       "    <tr>\n",
       "      <th>42</th>\n",
       "      <td>False</td>\n",
       "    </tr>\n",
       "    <tr>\n",
       "      <th>43</th>\n",
       "      <td>F</td>\n",
       "    </tr>\n",
       "    <tr>\n",
       "      <th>44</th>\n",
       "      <td>0</td>\n",
       "    </tr>\n",
       "    <tr>\n",
       "      <th>45</th>\n",
       "      <td>F</td>\n",
       "    </tr>\n",
       "    <tr>\n",
       "      <th>46</th>\n",
       "      <td>F</td>\n",
       "    </tr>\n",
       "    <tr>\n",
       "      <th>47</th>\n",
       "      <td>0</td>\n",
       "    </tr>\n",
       "    <tr>\n",
       "      <th>48</th>\n",
       "      <td>0</td>\n",
       "    </tr>\n",
       "    <tr>\n",
       "      <th>49</th>\n",
       "      <td>F</td>\n",
       "    </tr>\n",
       "  </tbody>\n",
       "</table>\n",
       "</div>"
      ],
      "text/plain": [
       "   CANCELLED\n",
       "0          F\n",
       "1      False\n",
       "2          F\n",
       "3      False\n",
       "4          0\n",
       "5          F\n",
       "6          T\n",
       "7          F\n",
       "8          F\n",
       "9          F\n",
       "10     False\n",
       "11         0\n",
       "12     False\n",
       "13     False\n",
       "14     False\n",
       "15     False\n",
       "16         0\n",
       "17         0\n",
       "18         1\n",
       "19     False\n",
       "20         0\n",
       "21      True\n",
       "22         F\n",
       "23     False\n",
       "24     False\n",
       "25     False\n",
       "26     False\n",
       "27         0\n",
       "28         0\n",
       "29     False\n",
       "30     False\n",
       "31     False\n",
       "32         F\n",
       "33     False\n",
       "34         0\n",
       "35         F\n",
       "36         0\n",
       "37      True\n",
       "38     False\n",
       "39     False\n",
       "40      True\n",
       "41         0\n",
       "42     False\n",
       "43         F\n",
       "44         0\n",
       "45         F\n",
       "46         F\n",
       "47         0\n",
       "48         0\n",
       "49         F"
      ]
     },
     "execution_count": 15,
     "metadata": {},
     "output_type": "execute_result"
    }
   ],
   "source": [
    "cancelled_df"
   ]
  },
  {
   "cell_type": "code",
   "execution_count": 16,
   "id": "a1b29fd2-771e-421f-9355-5568e9a6ea08",
   "metadata": {},
   "outputs": [
    {
     "data": {
      "text/plain": [
       "CANCELLED\n",
       "False        19\n",
       "0            13\n",
       "F            13\n",
       "True          3\n",
       "1             1\n",
       "T             1\n",
       "Name: count, dtype: int64"
      ]
     },
     "execution_count": 16,
     "metadata": {},
     "output_type": "execute_result"
    }
   ],
   "source": [
    "cancelled_df.value_counts()"
   ]
  },
  {
   "cell_type": "code",
   "execution_count": 17,
   "id": "1ec02b3f-cb1c-4ba1-b4d8-2d4167232f75",
   "metadata": {},
   "outputs": [
    {
     "data": {
      "text/plain": [
       "CANCELLED\n",
       "False        19\n",
       "False        13\n",
       "F            13\n",
       "True          3\n",
       "1             1\n",
       "T             1\n",
       "Name: count, dtype: int64"
      ]
     },
     "execution_count": 17,
     "metadata": {},
     "output_type": "execute_result"
    }
   ],
   "source": [
    "cancelled_df.replace({'0': False}, inplace=True)\n",
    "cancelled_df.value_counts()"
   ]
  },
  {
   "cell_type": "markdown",
   "id": "265940bd-3283-4321-8478-66d989cfd432",
   "metadata": {},
   "source": [
    "Note that `False` appears twice in the `value_counts` result. This is because Pandas is distinguishing between the string  `\"False\"` and the Boolean value `False`. If we want to convert the column to a Boolean type, we will need to ensure that all values in it are of Boolean type.\n",
    "\n",
    "The `.replace()` method can also accept a dictionary, where the dictionary keys are the values to match, and the dictionary values are the replacement values, e.g. `df.replace({'0': False, '1' : True})` to replace all instances of `0` or `1` with `False` and `True` respectively. "
   ]
  },
  {
   "cell_type": "code",
   "execution_count": 19,
   "id": "1e0e43fe-a4c9-47b8-8f35-83389372f424",
   "metadata": {},
   "outputs": [
    {
     "name": "stderr",
     "output_type": "stream",
     "text": [
      "/var/folders/m8/w9zyx7t94ss382j4l7ybndwh0000gn/T/ipykernel_22418/3085251896.py:2: FutureWarning: Downcasting behavior in `replace` is deprecated and will be removed in a future version. To retain the old behavior, explicitly call `result.infer_objects(copy=False)`. To opt-in to the future behavior, set `pd.set_option('future.no_silent_downcasting', True)`\n",
      "  cancelled_df.replace(mapping_dictionary, inplace=True)\n"
     ]
    },
    {
     "data": {
      "text/plain": [
       "CANCELLED\n",
       "False        45\n",
       "True          5\n",
       "Name: count, dtype: int64"
      ]
     },
     "execution_count": 19,
     "metadata": {},
     "output_type": "execute_result"
    }
   ],
   "source": [
    "mapping_dictionary = {'0': False, '1': True, 'F': False, 'T': True, 'True': True, 'False': False}\n",
    "cancelled_df.replace(mapping_dictionary, inplace=True)\n",
    "cancelled_df = cancelled_df.astype('bool')\n",
    "cancelled_df.value_counts()"
   ]
  },
  {
   "cell_type": "markdown",
   "id": "10c77e30-7f61-4da9-bc22-455f19a2cb10",
   "metadata": {},
   "source": [
    "### Scenario: Forcing Values to Adhere to a Pattern\n",
    "\n",
    "In some cases, it might be clear from the data in a column that a particular pattern should be expected for all values, in which case it may make sense to remove or replace any values that do not adhere to this pattern. An example might be a column containing UK phone numbers. There are multiple ways to represent a UK phone number, for example `+44 7555 555 555` or `07555 555555`. To handle the situation where multiple possible formats exist, the solution is to apply a *regular expression* to handle as many cases as possible. \n",
    "\n",
    ">A **regular expression**, often abbreviated as *regex*, is a sequence of characters that defines a search pattern that can be used for matching, allowing for complex search, replace, and validation operations.\n",
    "\n",
    "**Regex** is an extensive topic, and the details of constructing **regex** patterns are beyond the scope of this lesson, but as with much in the world of data, the work has often already been done for you, and can be found on various internet websites such as [Stack Overflow](https://stackoverflow.com/), or in various searchable **regex** repositories such as [regexlib](https://regexlib.com/). Searching **regexlib** for `UK Phone Number` provides this option:\n",
    "\n",
    " `^((\\(?0\\d{4}\\)?\\s?\\d{3}\\s?\\d{3})|(\\(?0\\d{3}\\)?\\s?\\d{3}\\s?\\d{4})|(\\(?0\\d{2}\\)?\\s?\\d{4}\\s?\\d{4}))(\\s?\\#(\\d{4}|\\d{3}))?$`\n",
    "\n",
    "Which covers the majority of UK phone number variants, including area codes with brackets (e.g. `(020)`), and extensions following a `#` symbol. \n",
    "\n",
    "Let's try it out on an example column of phone numbers. In the code block below, we will create an example `DataFrame` of phone numbers, including some invalid numbers, and then write code to apply the **regex** to each row in the column, and replace any values that do not comply with `NaN`. We will use the `str.match()` method to apply the **regex** expression, and then use logical indexing to replace the non-matching values."
   ]
  },
  {
   "cell_type": "code",
   "execution_count": 20,
   "id": "93f8fab9-1eb8-4a6a-ab5c-c476b90003ed",
   "metadata": {},
   "outputs": [
    {
     "data": {
      "text/html": [
       "<div>\n",
       "<style scoped>\n",
       "    .dataframe tbody tr th:only-of-type {\n",
       "        vertical-align: middle;\n",
       "    }\n",
       "\n",
       "    .dataframe tbody tr th {\n",
       "        vertical-align: top;\n",
       "    }\n",
       "\n",
       "    .dataframe thead th {\n",
       "        text-align: right;\n",
       "    }\n",
       "</style>\n",
       "<table border=\"1\" class=\"dataframe\">\n",
       "  <thead>\n",
       "    <tr style=\"text-align: right;\">\n",
       "      <th></th>\n",
       "      <th>Name</th>\n",
       "      <th>Phone</th>\n",
       "    </tr>\n",
       "  </thead>\n",
       "  <tbody>\n",
       "    <tr>\n",
       "      <th>0</th>\n",
       "      <td>Alice</td>\n",
       "      <td>0123456789</td>\n",
       "    </tr>\n",
       "    <tr>\n",
       "      <th>1</th>\n",
       "      <td>Bob</td>\n",
       "      <td>01234 567890</td>\n",
       "    </tr>\n",
       "    <tr>\n",
       "      <th>2</th>\n",
       "      <td>Charlie</td>\n",
       "      <td>+441234567890</td>\n",
       "    </tr>\n",
       "    <tr>\n",
       "      <th>3</th>\n",
       "      <td>Diana</td>\n",
       "      <td>0123-456-789</td>\n",
       "    </tr>\n",
       "    <tr>\n",
       "      <th>4</th>\n",
       "      <td>Eva</td>\n",
       "      <td>(0123) 456789</td>\n",
       "    </tr>\n",
       "    <tr>\n",
       "      <th>5</th>\n",
       "      <td>Frank</td>\n",
       "      <td>1234567890</td>\n",
       "    </tr>\n",
       "    <tr>\n",
       "      <th>6</th>\n",
       "      <td>Grace</td>\n",
       "      <td>0123456789a</td>\n",
       "    </tr>\n",
       "    <tr>\n",
       "      <th>7</th>\n",
       "      <td>Hank</td>\n",
       "      <td>01234-567-890</td>\n",
       "    </tr>\n",
       "    <tr>\n",
       "      <th>8</th>\n",
       "      <td>Ivy</td>\n",
       "      <td>+44 1234 567890</td>\n",
       "    </tr>\n",
       "    <tr>\n",
       "      <th>9</th>\n",
       "      <td>Jack</td>\n",
       "      <td>01234</td>\n",
       "    </tr>\n",
       "  </tbody>\n",
       "</table>\n",
       "</div>"
      ],
      "text/plain": [
       "      Name            Phone\n",
       "0    Alice       0123456789\n",
       "1      Bob     01234 567890\n",
       "2  Charlie    +441234567890\n",
       "3    Diana     0123-456-789\n",
       "4      Eva    (0123) 456789\n",
       "5    Frank       1234567890\n",
       "6    Grace      0123456789a\n",
       "7     Hank    01234-567-890\n",
       "8      Ivy  +44 1234 567890\n",
       "9     Jack            01234"
      ]
     },
     "execution_count": 20,
     "metadata": {},
     "output_type": "execute_result"
    }
   ],
   "source": [
    "# Creating a sample dataframe\n",
    "data = {\n",
    "    'Name': ['Alice', 'Bob', 'Charlie', 'Diana', 'Eva', 'Frank', 'Grace', 'Hank', 'Ivy', 'Jack'],\n",
    "    'Phone': ['0123456789', '01234 567890', '+441234567890', '0123-456-789', \n",
    "              '(0123) 456789', '1234567890', '0123456789a', '01234-567-890', \n",
    "              '+44 1234 567890', '01234']\n",
    "}\n",
    "\n",
    "phone_df = pd.DataFrame(data)\n",
    "\n",
    "phone_df.head(10)"
   ]
  },
  {
   "cell_type": "code",
   "execution_count": 22,
   "id": "117e8695-cb39-4a6d-839e-b53e8661e9c5",
   "metadata": {},
   "outputs": [
    {
     "ename": "TypeError",
     "evalue": "bad operand type for unary ~: 'float'",
     "output_type": "error",
     "traceback": [
      "\u001b[0;31m---------------------------------------------------------------------------\u001b[0m",
      "\u001b[0;31mTypeError\u001b[0m                                 Traceback (most recent call last)",
      "Cell \u001b[0;32mIn[22], line 4\u001b[0m\n\u001b[1;32m      1\u001b[0m \u001b[38;5;28;01mimport\u001b[39;00m \u001b[38;5;21;01mnumpy\u001b[39;00m \u001b[38;5;28;01mas\u001b[39;00m \u001b[38;5;21;01mnp\u001b[39;00m \u001b[38;5;66;03m# We will need the `nan` constant from the numpy library to apply to missing values\u001b[39;00m\n\u001b[1;32m      3\u001b[0m regex_expression \u001b[38;5;241m=\u001b[39m \u001b[38;5;124m'\u001b[39m\u001b[38;5;124m^(?:(?:\u001b[39m\u001b[38;5;124m\\\u001b[39m\u001b[38;5;124m(?(?:0(?:0|11)\u001b[39m\u001b[38;5;124m\\\u001b[39m\u001b[38;5;124m)?[\u001b[39m\u001b[38;5;124m\\\u001b[39m\u001b[38;5;124ms-]?\u001b[39m\u001b[38;5;124m\\\u001b[39m\u001b[38;5;124m(?|\u001b[39m\u001b[38;5;124m\\\u001b[39m\u001b[38;5;124m+)44\u001b[39m\u001b[38;5;124m\\\u001b[39m\u001b[38;5;124m)?[\u001b[39m\u001b[38;5;124m\\\u001b[39m\u001b[38;5;124ms-]?(?:\u001b[39m\u001b[38;5;124m\\\u001b[39m\u001b[38;5;124m(?0\u001b[39m\u001b[38;5;124m\\\u001b[39m\u001b[38;5;124m)?[\u001b[39m\u001b[38;5;124m\\\u001b[39m\u001b[38;5;124ms-]?)?)|(?:\u001b[39m\u001b[38;5;124m\\\u001b[39m\u001b[38;5;124m(?0))(?:(?:\u001b[39m\u001b[38;5;124m\\\u001b[39m\u001b[38;5;124md\u001b[39m\u001b[38;5;132;01m{5}\u001b[39;00m\u001b[38;5;124m\\\u001b[39m\u001b[38;5;124m)?[\u001b[39m\u001b[38;5;124m\\\u001b[39m\u001b[38;5;124ms-]?\u001b[39m\u001b[38;5;124m\\\u001b[39m\u001b[38;5;124md\u001b[39m\u001b[38;5;124m{\u001b[39m\u001b[38;5;124m4,5})|(?:\u001b[39m\u001b[38;5;124m\\\u001b[39m\u001b[38;5;124md\u001b[39m\u001b[38;5;132;01m{4}\u001b[39;00m\u001b[38;5;124m\\\u001b[39m\u001b[38;5;124m)?[\u001b[39m\u001b[38;5;124m\\\u001b[39m\u001b[38;5;124ms-]?(?:\u001b[39m\u001b[38;5;124m\\\u001b[39m\u001b[38;5;124md\u001b[39m\u001b[38;5;132;01m{5}\u001b[39;00m\u001b[38;5;124m|\u001b[39m\u001b[38;5;124m\\\u001b[39m\u001b[38;5;124md\u001b[39m\u001b[38;5;132;01m{3}\u001b[39;00m\u001b[38;5;124m[\u001b[39m\u001b[38;5;124m\\\u001b[39m\u001b[38;5;124ms-]?\u001b[39m\u001b[38;5;124m\\\u001b[39m\u001b[38;5;124md\u001b[39m\u001b[38;5;132;01m{3}\u001b[39;00m\u001b[38;5;124m))|(?:\u001b[39m\u001b[38;5;124m\\\u001b[39m\u001b[38;5;124md\u001b[39m\u001b[38;5;132;01m{3}\u001b[39;00m\u001b[38;5;124m\\\u001b[39m\u001b[38;5;124m)?[\u001b[39m\u001b[38;5;124m\\\u001b[39m\u001b[38;5;124ms-]?\u001b[39m\u001b[38;5;124m\\\u001b[39m\u001b[38;5;124md\u001b[39m\u001b[38;5;132;01m{3}\u001b[39;00m\u001b[38;5;124m[\u001b[39m\u001b[38;5;124m\\\u001b[39m\u001b[38;5;124ms-]?\u001b[39m\u001b[38;5;124m\\\u001b[39m\u001b[38;5;124md\u001b[39m\u001b[38;5;124m{\u001b[39m\u001b[38;5;124m3,4})|(?:\u001b[39m\u001b[38;5;124m\\\u001b[39m\u001b[38;5;124md\u001b[39m\u001b[38;5;132;01m{2}\u001b[39;00m\u001b[38;5;124m\\\u001b[39m\u001b[38;5;124m)?[\u001b[39m\u001b[38;5;124m\\\u001b[39m\u001b[38;5;124ms-]?\u001b[39m\u001b[38;5;124m\\\u001b[39m\u001b[38;5;124md\u001b[39m\u001b[38;5;132;01m{4}\u001b[39;00m\u001b[38;5;124m[\u001b[39m\u001b[38;5;124m\\\u001b[39m\u001b[38;5;124ms-]?\u001b[39m\u001b[38;5;124m\\\u001b[39m\u001b[38;5;124md\u001b[39m\u001b[38;5;132;01m{4}\u001b[39;00m\u001b[38;5;124m))(?:[\u001b[39m\u001b[38;5;124m\\\u001b[39m\u001b[38;5;124ms-]?(?:x|ext\u001b[39m\u001b[38;5;124m\\\u001b[39m\u001b[38;5;124m.?|\u001b[39m\u001b[38;5;124m\\\u001b[39m\u001b[38;5;124m#)\u001b[39m\u001b[38;5;124m\\\u001b[39m\u001b[38;5;124md\u001b[39m\u001b[38;5;124m{\u001b[39m\u001b[38;5;124m3,4})?$\u001b[39m\u001b[38;5;124m'\u001b[39m \u001b[38;5;66;03m#Our regular expression to match\u001b[39;00m\n\u001b[0;32m----> 4\u001b[0m phone_df\u001b[38;5;241m.\u001b[39mloc[\u001b[38;5;241m~\u001b[39mphone_df[\u001b[38;5;124m'\u001b[39m\u001b[38;5;124mPhone\u001b[39m\u001b[38;5;124m'\u001b[39m]\u001b[38;5;241m.\u001b[39mstr\u001b[38;5;241m.\u001b[39mmatch(regex_expression), \u001b[38;5;124m'\u001b[39m\u001b[38;5;124mPhone\u001b[39m\u001b[38;5;124m'\u001b[39m] \u001b[38;5;241m=\u001b[39m np\u001b[38;5;241m.\u001b[39mnan \u001b[38;5;66;03m# For every row  where the Phone column does not match our regular expression, replace the value with NaN\u001b[39;00m\n\u001b[1;32m      5\u001b[0m phone_df\u001b[38;5;241m.\u001b[39mhead(\u001b[38;5;241m10\u001b[39m)\n",
      "File \u001b[0;32m~/anaconda3/lib/python3.11/site-packages/pandas/core/generic.py:1571\u001b[0m, in \u001b[0;36mNDFrame.__invert__\u001b[0;34m(self)\u001b[0m\n\u001b[1;32m   1567\u001b[0m \u001b[38;5;28;01mif\u001b[39;00m \u001b[38;5;129;01mnot\u001b[39;00m \u001b[38;5;28mself\u001b[39m\u001b[38;5;241m.\u001b[39msize:\n\u001b[1;32m   1568\u001b[0m     \u001b[38;5;66;03m# inv fails with 0 len\u001b[39;00m\n\u001b[1;32m   1569\u001b[0m     \u001b[38;5;28;01mreturn\u001b[39;00m \u001b[38;5;28mself\u001b[39m\u001b[38;5;241m.\u001b[39mcopy(deep\u001b[38;5;241m=\u001b[39m\u001b[38;5;28;01mFalse\u001b[39;00m)\n\u001b[0;32m-> 1571\u001b[0m new_data \u001b[38;5;241m=\u001b[39m \u001b[38;5;28mself\u001b[39m\u001b[38;5;241m.\u001b[39m_mgr\u001b[38;5;241m.\u001b[39mapply(operator\u001b[38;5;241m.\u001b[39minvert)\n\u001b[1;32m   1572\u001b[0m res \u001b[38;5;241m=\u001b[39m \u001b[38;5;28mself\u001b[39m\u001b[38;5;241m.\u001b[39m_constructor_from_mgr(new_data, axes\u001b[38;5;241m=\u001b[39mnew_data\u001b[38;5;241m.\u001b[39maxes)\n\u001b[1;32m   1573\u001b[0m \u001b[38;5;28;01mreturn\u001b[39;00m res\u001b[38;5;241m.\u001b[39m__finalize__(\u001b[38;5;28mself\u001b[39m, method\u001b[38;5;241m=\u001b[39m\u001b[38;5;124m\"\u001b[39m\u001b[38;5;124m__invert__\u001b[39m\u001b[38;5;124m\"\u001b[39m)\n",
      "File \u001b[0;32m~/anaconda3/lib/python3.11/site-packages/pandas/core/internals/managers.py:361\u001b[0m, in \u001b[0;36mBaseBlockManager.apply\u001b[0;34m(self, f, align_keys, **kwargs)\u001b[0m\n\u001b[1;32m    358\u001b[0m             kwargs[k] \u001b[38;5;241m=\u001b[39m obj[b\u001b[38;5;241m.\u001b[39mmgr_locs\u001b[38;5;241m.\u001b[39mindexer]\n\u001b[1;32m    360\u001b[0m \u001b[38;5;28;01mif\u001b[39;00m \u001b[38;5;28mcallable\u001b[39m(f):\n\u001b[0;32m--> 361\u001b[0m     applied \u001b[38;5;241m=\u001b[39m b\u001b[38;5;241m.\u001b[39mapply(f, \u001b[38;5;241m*\u001b[39m\u001b[38;5;241m*\u001b[39mkwargs)\n\u001b[1;32m    362\u001b[0m \u001b[38;5;28;01melse\u001b[39;00m:\n\u001b[1;32m    363\u001b[0m     applied \u001b[38;5;241m=\u001b[39m \u001b[38;5;28mgetattr\u001b[39m(b, f)(\u001b[38;5;241m*\u001b[39m\u001b[38;5;241m*\u001b[39mkwargs)\n",
      "File \u001b[0;32m~/anaconda3/lib/python3.11/site-packages/pandas/core/internals/blocks.py:393\u001b[0m, in \u001b[0;36mBlock.apply\u001b[0;34m(self, func, **kwargs)\u001b[0m\n\u001b[1;32m    387\u001b[0m \u001b[38;5;129m@final\u001b[39m\n\u001b[1;32m    388\u001b[0m \u001b[38;5;28;01mdef\u001b[39;00m \u001b[38;5;21mapply\u001b[39m(\u001b[38;5;28mself\u001b[39m, func, \u001b[38;5;241m*\u001b[39m\u001b[38;5;241m*\u001b[39mkwargs) \u001b[38;5;241m-\u001b[39m\u001b[38;5;241m>\u001b[39m \u001b[38;5;28mlist\u001b[39m[Block]:\n\u001b[1;32m    389\u001b[0m \u001b[38;5;250m    \u001b[39m\u001b[38;5;124;03m\"\"\"\u001b[39;00m\n\u001b[1;32m    390\u001b[0m \u001b[38;5;124;03m    apply the function to my values; return a block if we are not\u001b[39;00m\n\u001b[1;32m    391\u001b[0m \u001b[38;5;124;03m    one\u001b[39;00m\n\u001b[1;32m    392\u001b[0m \u001b[38;5;124;03m    \"\"\"\u001b[39;00m\n\u001b[0;32m--> 393\u001b[0m     result \u001b[38;5;241m=\u001b[39m func(\u001b[38;5;28mself\u001b[39m\u001b[38;5;241m.\u001b[39mvalues, \u001b[38;5;241m*\u001b[39m\u001b[38;5;241m*\u001b[39mkwargs)\n\u001b[1;32m    395\u001b[0m     result \u001b[38;5;241m=\u001b[39m maybe_coerce_values(result)\n\u001b[1;32m    396\u001b[0m     \u001b[38;5;28;01mreturn\u001b[39;00m \u001b[38;5;28mself\u001b[39m\u001b[38;5;241m.\u001b[39m_split_op_result(result)\n",
      "\u001b[0;31mTypeError\u001b[0m: bad operand type for unary ~: 'float'"
     ]
    }
   ],
   "source": [
    "import numpy as np # We will need the `nan` constant from the numpy library to apply to missing values\n",
    "\n",
    "regex_expression = '^(?:(?:\\(?(?:0(?:0|11)\\)?[\\s-]?\\(?|\\+)44\\)?[\\s-]?(?:\\(?0\\)?[\\s-]?)?)|(?:\\(?0))(?:(?:\\d{5}\\)?[\\s-]?\\d{4,5})|(?:\\d{4}\\)?[\\s-]?(?:\\d{5}|\\d{3}[\\s-]?\\d{3}))|(?:\\d{3}\\)?[\\s-]?\\d{3}[\\s-]?\\d{3,4})|(?:\\d{2}\\)?[\\s-]?\\d{4}[\\s-]?\\d{4}))(?:[\\s-]?(?:x|ext\\.?|\\#)\\d{3,4})?$' #Our regular expression to match\n",
    "phone_df.loc[~phone_df['Phone'].str.match(regex_expression), 'Phone'] = np.nan # For every row  where the Phone column does not match our regular expression, replace the value with NaN\n",
    "phone_df.head(10)"
   ]
  },
  {
   "cell_type": "markdown",
   "id": "c221ba87-052a-4138-b102-685162ccc568",
   "metadata": {},
   "source": [
    "### Scenario: Cleaning Numeric Columns with `.replace()`\n",
    "\n",
    "The `.replace()` method can also be used to clean up numeric data, for example if you have a column of prices that contain the `£` symbol, thereby preventing the column from being cast to a numeric data type. \n",
    "\n",
    "In the example of the phone numbers `DataFrame`, we still have a variety of non-numeric characters in the data which should be replaced in order to regularise the numbers. To rectify this the following actions are needed:\n",
    "\n",
    "- Replace any instances of `+44` with `0`, as this is how to write the number for calling within the UK\n",
    "- Replace the `(` and `-` characters with nothing (i.e. remove them)\n",
    "- Remove all spaces\n",
    "\n",
    "The code block below shows how to achieve this:"
   ]
  },
  {
   "cell_type": "code",
   "execution_count": 23,
   "id": "09181972-8e09-425d-b592-72ee43988470",
   "metadata": {},
   "outputs": [
    {
     "data": {
      "text/html": [
       "<div>\n",
       "<style scoped>\n",
       "    .dataframe tbody tr th:only-of-type {\n",
       "        vertical-align: middle;\n",
       "    }\n",
       "\n",
       "    .dataframe tbody tr th {\n",
       "        vertical-align: top;\n",
       "    }\n",
       "\n",
       "    .dataframe thead th {\n",
       "        text-align: right;\n",
       "    }\n",
       "</style>\n",
       "<table border=\"1\" class=\"dataframe\">\n",
       "  <thead>\n",
       "    <tr style=\"text-align: right;\">\n",
       "      <th></th>\n",
       "      <th>Name</th>\n",
       "      <th>Phone</th>\n",
       "    </tr>\n",
       "  </thead>\n",
       "  <tbody>\n",
       "    <tr>\n",
       "      <th>0</th>\n",
       "      <td>Alice</td>\n",
       "      <td>0123456789</td>\n",
       "    </tr>\n",
       "    <tr>\n",
       "      <th>1</th>\n",
       "      <td>Bob</td>\n",
       "      <td>01234567890</td>\n",
       "    </tr>\n",
       "    <tr>\n",
       "      <th>2</th>\n",
       "      <td>Charlie</td>\n",
       "      <td>01234567890</td>\n",
       "    </tr>\n",
       "    <tr>\n",
       "      <th>3</th>\n",
       "      <td>Diana</td>\n",
       "      <td>0123456789</td>\n",
       "    </tr>\n",
       "    <tr>\n",
       "      <th>4</th>\n",
       "      <td>Eva</td>\n",
       "      <td>0123456789</td>\n",
       "    </tr>\n",
       "    <tr>\n",
       "      <th>5</th>\n",
       "      <td>Frank</td>\n",
       "      <td>NaN</td>\n",
       "    </tr>\n",
       "    <tr>\n",
       "      <th>6</th>\n",
       "      <td>Grace</td>\n",
       "      <td>NaN</td>\n",
       "    </tr>\n",
       "    <tr>\n",
       "      <th>7</th>\n",
       "      <td>Hank</td>\n",
       "      <td>01234567890</td>\n",
       "    </tr>\n",
       "    <tr>\n",
       "      <th>8</th>\n",
       "      <td>Ivy</td>\n",
       "      <td>01234567890</td>\n",
       "    </tr>\n",
       "    <tr>\n",
       "      <th>9</th>\n",
       "      <td>Jack</td>\n",
       "      <td>NaN</td>\n",
       "    </tr>\n",
       "  </tbody>\n",
       "</table>\n",
       "</div>"
      ],
      "text/plain": [
       "      Name        Phone\n",
       "0    Alice   0123456789\n",
       "1      Bob  01234567890\n",
       "2  Charlie  01234567890\n",
       "3    Diana   0123456789\n",
       "4      Eva   0123456789\n",
       "5    Frank          NaN\n",
       "6    Grace          NaN\n",
       "7     Hank  01234567890\n",
       "8      Ivy  01234567890\n",
       "9     Jack          NaN"
      ]
     },
     "execution_count": 23,
     "metadata": {},
     "output_type": "execute_result"
    }
   ],
   "source": [
    "# You can do each step one by one, for example with the following syntax for the `+44`: 0 replacement:\n",
    "\n",
    "phone_df['Phone'] = phone_df['Phone'].str.replace('+44', '0', regex=False)\n",
    "phone_df\n",
    "\n",
    "# Or by setting `regex=True`, you can do it all in one step:\n",
    "\n",
    "phone_df['Phone'] = phone_df['Phone'].replace({r'\\+44': '0', r'\\(': '', r'\\)': '', r'-': '', r' ': ''}, regex=True)\n",
    "phone_df"
   ]
  },
  {
   "cell_type": "markdown",
   "id": "5277a0cb-809c-4835-a22b-b977fa17b07a",
   "metadata": {},
   "source": [
    "## Unique Values\n",
    "\n",
    "\n",
    "\n",
    "It is sometimes necessary to find the number of unique values in a column. For example, we might be working with a column of product IDs, where it would negatively affect our analysis to have multiple products with the same ID. To check whether an issue like this exists, we can use the methods `unique` and `nunique`.\n",
    "\n",
    "- The `unique` method returns all the unique (i.e. distinct) values in the data series. For example, given a series of `[ 1, 1, 2, 3, 4]` it would return `[1, 2, 3, 4]`.\n",
    "- The `nunique` method returns the **count** of unique values in the series. For example, from a series of `[ 1, 1, 2, 3, 4]` it would return `4`."
   ]
  },
  {
   "cell_type": "code",
   "execution_count": 24,
   "id": "605a0d39-49d7-4969-8b18-7fab26ac140b",
   "metadata": {},
   "outputs": [],
   "source": [
    "# Creating a sample dataframe with a column of product IDs\n",
    "data = {'product_ids': ['P001', 'P002', 'P003', 'P001', 'P004', 'P005', 'P003', 'P006', 'P002']}\n",
    "products_df = pd.DataFrame(data)"
   ]
  },
  {
   "cell_type": "code",
   "execution_count": 25,
   "id": "ef8a1ce5-9870-4ff8-88b6-c0ccca0c3fe8",
   "metadata": {},
   "outputs": [
    {
     "data": {
      "text/html": [
       "<div>\n",
       "<style scoped>\n",
       "    .dataframe tbody tr th:only-of-type {\n",
       "        vertical-align: middle;\n",
       "    }\n",
       "\n",
       "    .dataframe tbody tr th {\n",
       "        vertical-align: top;\n",
       "    }\n",
       "\n",
       "    .dataframe thead th {\n",
       "        text-align: right;\n",
       "    }\n",
       "</style>\n",
       "<table border=\"1\" class=\"dataframe\">\n",
       "  <thead>\n",
       "    <tr style=\"text-align: right;\">\n",
       "      <th></th>\n",
       "      <th>product_ids</th>\n",
       "    </tr>\n",
       "  </thead>\n",
       "  <tbody>\n",
       "    <tr>\n",
       "      <th>0</th>\n",
       "      <td>P001</td>\n",
       "    </tr>\n",
       "    <tr>\n",
       "      <th>1</th>\n",
       "      <td>P002</td>\n",
       "    </tr>\n",
       "    <tr>\n",
       "      <th>2</th>\n",
       "      <td>P003</td>\n",
       "    </tr>\n",
       "    <tr>\n",
       "      <th>3</th>\n",
       "      <td>P001</td>\n",
       "    </tr>\n",
       "    <tr>\n",
       "      <th>4</th>\n",
       "      <td>P004</td>\n",
       "    </tr>\n",
       "    <tr>\n",
       "      <th>5</th>\n",
       "      <td>P005</td>\n",
       "    </tr>\n",
       "    <tr>\n",
       "      <th>6</th>\n",
       "      <td>P003</td>\n",
       "    </tr>\n",
       "    <tr>\n",
       "      <th>7</th>\n",
       "      <td>P006</td>\n",
       "    </tr>\n",
       "    <tr>\n",
       "      <th>8</th>\n",
       "      <td>P002</td>\n",
       "    </tr>\n",
       "  </tbody>\n",
       "</table>\n",
       "</div>"
      ],
      "text/plain": [
       "  product_ids\n",
       "0        P001\n",
       "1        P002\n",
       "2        P003\n",
       "3        P001\n",
       "4        P004\n",
       "5        P005\n",
       "6        P003\n",
       "7        P006\n",
       "8        P002"
      ]
     },
     "execution_count": 25,
     "metadata": {},
     "output_type": "execute_result"
    }
   ],
   "source": [
    "products_df"
   ]
  },
  {
   "cell_type": "code",
   "execution_count": 26,
   "id": "cec60145-fc7a-4ef3-be80-b4f6256b365a",
   "metadata": {},
   "outputs": [],
   "source": [
    "# Using `unique` to get unique product IDs\n",
    "unique_ids = products_df['product_ids'].unique()"
   ]
  },
  {
   "cell_type": "code",
   "execution_count": 27,
   "id": "a1f5335f-b43f-4ed6-8bd6-ad6ed638cb2e",
   "metadata": {},
   "outputs": [
    {
     "data": {
      "text/plain": [
       "array(['P001', 'P002', 'P003', 'P004', 'P005', 'P006'], dtype=object)"
      ]
     },
     "execution_count": 27,
     "metadata": {},
     "output_type": "execute_result"
    }
   ],
   "source": [
    "unique_ids"
   ]
  },
  {
   "cell_type": "code",
   "execution_count": 28,
   "id": "7db6fe58-03ad-48af-b143-d83d3971d851",
   "metadata": {},
   "outputs": [],
   "source": [
    "# Using `nunique` to get the number of unique product IDs\n",
    "num_unique_ids = products_df['product_ids'].nunique()"
   ]
  },
  {
   "cell_type": "code",
   "execution_count": 29,
   "id": "8088b306-cf2a-47ff-b94c-989c26bd64d1",
   "metadata": {},
   "outputs": [
    {
     "data": {
      "text/plain": [
       "6"
      ]
     },
     "execution_count": 29,
     "metadata": {},
     "output_type": "execute_result"
    }
   ],
   "source": [
    "num_unique_ids"
   ]
  },
  {
   "cell_type": "markdown",
   "id": "08049a23-3c9d-4ad4-82b3-255aac70b95b",
   "metadata": {},
   "source": [
    "## Handling Duplicates\n",
    "\n",
    "\n",
    "> *Duplicates* in data refer to two or more rows that are identical across all columns, or, depending on the context, identical in a subset of columns, which can lead to redundancy and inaccuracies in data analysis and interpretation. The presence of duplicates is a common data cleaning issue, as duplicated data can distort descriptive statistics and data visualisations, leading to inaccurate insights and misinformed decisions. For instance, duplicate entries can artificially inflate the count of a category, skewing measures of central tendency like the mean and median, and affecting the distribution of data in visual representations.\n",
    "Duplicates can either be *exact*, where a row is identical to another row across all columns, or *fuzzy*, which is where the two rows differ in some columns, but appear to describe the same entity. \n",
    "\n",
    "Exact duplicates are trivial to handle in `Pandas`. You can find all the duplicated rows in a `DataFrame` using the `.duplicated()` method, or drop them using the `drop_duplicates()` method. Run the two code blocks below to generate some example duplicate data, and then use the `drop_duplicates()` method to drop the duplicate rows."
   ]
  },
  {
   "cell_type": "code",
   "execution_count": 30,
   "id": "12ea25c2-7ee1-4738-bba1-0bce43f8b225",
   "metadata": {},
   "outputs": [
    {
     "data": {
      "text/html": [
       "<div>\n",
       "<style scoped>\n",
       "    .dataframe tbody tr th:only-of-type {\n",
       "        vertical-align: middle;\n",
       "    }\n",
       "\n",
       "    .dataframe tbody tr th {\n",
       "        vertical-align: top;\n",
       "    }\n",
       "\n",
       "    .dataframe thead th {\n",
       "        text-align: right;\n",
       "    }\n",
       "</style>\n",
       "<table border=\"1\" class=\"dataframe\">\n",
       "  <thead>\n",
       "    <tr style=\"text-align: right;\">\n",
       "      <th></th>\n",
       "      <th>Name</th>\n",
       "      <th>Age</th>\n",
       "      <th>Phone</th>\n",
       "      <th>Email</th>\n",
       "    </tr>\n",
       "  </thead>\n",
       "  <tbody>\n",
       "    <tr>\n",
       "      <th>0</th>\n",
       "      <td>Alice</td>\n",
       "      <td>28</td>\n",
       "      <td>123-456</td>\n",
       "      <td>alice@email.com</td>\n",
       "    </tr>\n",
       "    <tr>\n",
       "      <th>1</th>\n",
       "      <td>Bob</td>\n",
       "      <td>34</td>\n",
       "      <td>456-789</td>\n",
       "      <td>bob@email.com</td>\n",
       "    </tr>\n",
       "    <tr>\n",
       "      <th>2</th>\n",
       "      <td>Charlie</td>\n",
       "      <td>45</td>\n",
       "      <td>789-012</td>\n",
       "      <td>charlie@email.com</td>\n",
       "    </tr>\n",
       "    <tr>\n",
       "      <th>3</th>\n",
       "      <td>Alice</td>\n",
       "      <td>28</td>\n",
       "      <td>123-456</td>\n",
       "      <td>alice@email.com</td>\n",
       "    </tr>\n",
       "    <tr>\n",
       "      <th>4</th>\n",
       "      <td>Eva</td>\n",
       "      <td>23</td>\n",
       "      <td>345-678</td>\n",
       "      <td>eva@email.com</td>\n",
       "    </tr>\n",
       "    <tr>\n",
       "      <th>5</th>\n",
       "      <td>Charlie</td>\n",
       "      <td>45</td>\n",
       "      <td>789-012</td>\n",
       "      <td>charlie@email.com</td>\n",
       "    </tr>\n",
       "  </tbody>\n",
       "</table>\n",
       "</div>"
      ],
      "text/plain": [
       "      Name  Age    Phone              Email\n",
       "0    Alice   28  123-456    alice@email.com\n",
       "1      Bob   34  456-789      bob@email.com\n",
       "2  Charlie   45  789-012  charlie@email.com\n",
       "3    Alice   28  123-456    alice@email.com\n",
       "4      Eva   23  345-678      eva@email.com\n",
       "5  Charlie   45  789-012  charlie@email.com"
      ]
     },
     "execution_count": 30,
     "metadata": {},
     "output_type": "execute_result"
    }
   ],
   "source": [
    "# Creating a sample dataframe\n",
    "data = {\n",
    "    'Name': ['Alice', 'Bob', 'Charlie', 'Alice', 'Eva', 'Charlie'],\n",
    "    'Age': [28, 34, 45, 28, 23, 45],\n",
    "    'Phone': ['123-456', '456-789', '789-012', '123-456', '345-678', '789-012'],\n",
    "    'Email': ['alice@email.com', 'bob@email.com', 'charlie@email.com', \n",
    "              'alice@email.com', 'eva@email.com', 'charlie@email.com']\n",
    "}\n",
    "duplicate_df = pd.DataFrame(data)\n",
    "duplicate_df"
   ]
  },
  {
   "cell_type": "markdown",
   "id": "bdfa1812-0e75-4e25-aa73-7ee96d6ac7bc",
   "metadata": {},
   "source": [
    "We can find and remove the exact duplicates in the `DataFrame` as follows:"
   ]
  },
  {
   "cell_type": "code",
   "execution_count": 31,
   "id": "aa13ef31-92c9-4605-8885-93d8a11b2a1d",
   "metadata": {},
   "outputs": [
    {
     "data": {
      "text/plain": [
       "0    False\n",
       "1    False\n",
       "2    False\n",
       "3     True\n",
       "4    False\n",
       "5     True\n",
       "dtype: bool"
      ]
     },
     "execution_count": 31,
     "metadata": {},
     "output_type": "execute_result"
    }
   ],
   "source": [
    "duplicate_df.duplicated()"
   ]
  },
  {
   "cell_type": "code",
   "execution_count": 32,
   "id": "b9eab671-c5dd-4379-889f-3968c626e706",
   "metadata": {},
   "outputs": [
    {
     "data": {
      "text/html": [
       "<div>\n",
       "<style scoped>\n",
       "    .dataframe tbody tr th:only-of-type {\n",
       "        vertical-align: middle;\n",
       "    }\n",
       "\n",
       "    .dataframe tbody tr th {\n",
       "        vertical-align: top;\n",
       "    }\n",
       "\n",
       "    .dataframe thead th {\n",
       "        text-align: right;\n",
       "    }\n",
       "</style>\n",
       "<table border=\"1\" class=\"dataframe\">\n",
       "  <thead>\n",
       "    <tr style=\"text-align: right;\">\n",
       "      <th></th>\n",
       "      <th>Name</th>\n",
       "      <th>Age</th>\n",
       "      <th>Phone</th>\n",
       "      <th>Email</th>\n",
       "    </tr>\n",
       "  </thead>\n",
       "  <tbody>\n",
       "    <tr>\n",
       "      <th>0</th>\n",
       "      <td>Alice</td>\n",
       "      <td>28</td>\n",
       "      <td>123-456</td>\n",
       "      <td>alice@email.com</td>\n",
       "    </tr>\n",
       "    <tr>\n",
       "      <th>1</th>\n",
       "      <td>Bob</td>\n",
       "      <td>34</td>\n",
       "      <td>456-789</td>\n",
       "      <td>bob@email.com</td>\n",
       "    </tr>\n",
       "    <tr>\n",
       "      <th>2</th>\n",
       "      <td>Charlie</td>\n",
       "      <td>45</td>\n",
       "      <td>789-012</td>\n",
       "      <td>charlie@email.com</td>\n",
       "    </tr>\n",
       "    <tr>\n",
       "      <th>4</th>\n",
       "      <td>Eva</td>\n",
       "      <td>23</td>\n",
       "      <td>345-678</td>\n",
       "      <td>eva@email.com</td>\n",
       "    </tr>\n",
       "  </tbody>\n",
       "</table>\n",
       "</div>"
      ],
      "text/plain": [
       "      Name  Age    Phone              Email\n",
       "0    Alice   28  123-456    alice@email.com\n",
       "1      Bob   34  456-789      bob@email.com\n",
       "2  Charlie   45  789-012  charlie@email.com\n",
       "4      Eva   23  345-678      eva@email.com"
      ]
     },
     "execution_count": 32,
     "metadata": {},
     "output_type": "execute_result"
    }
   ],
   "source": [
    "no_duplicate_df = duplicate_df.drop_duplicates()\n",
    "no_duplicate_df"
   ]
  },
  {
   "cell_type": "code",
   "execution_count": 33,
   "id": "bd8c3e23-aa5c-4644-8dc0-a9585882ae70",
   "metadata": {},
   "outputs": [
    {
     "data": {
      "text/html": [
       "<div>\n",
       "<style scoped>\n",
       "    .dataframe tbody tr th:only-of-type {\n",
       "        vertical-align: middle;\n",
       "    }\n",
       "\n",
       "    .dataframe tbody tr th {\n",
       "        vertical-align: top;\n",
       "    }\n",
       "\n",
       "    .dataframe thead th {\n",
       "        text-align: right;\n",
       "    }\n",
       "</style>\n",
       "<table border=\"1\" class=\"dataframe\">\n",
       "  <thead>\n",
       "    <tr style=\"text-align: right;\">\n",
       "      <th></th>\n",
       "      <th>First_Name</th>\n",
       "      <th>Last_Name</th>\n",
       "      <th>Age</th>\n",
       "      <th>Phone</th>\n",
       "      <th>Email</th>\n",
       "    </tr>\n",
       "  </thead>\n",
       "  <tbody>\n",
       "    <tr>\n",
       "      <th>0</th>\n",
       "      <td>Alice</td>\n",
       "      <td>Smith</td>\n",
       "      <td>28</td>\n",
       "      <td>123-456</td>\n",
       "      <td>alice@email.com</td>\n",
       "    </tr>\n",
       "    <tr>\n",
       "      <th>1</th>\n",
       "      <td>Alice</td>\n",
       "      <td>Smith</td>\n",
       "      <td>34</td>\n",
       "      <td>456-789</td>\n",
       "      <td>alice@smith.com</td>\n",
       "    </tr>\n",
       "    <tr>\n",
       "      <th>2</th>\n",
       "      <td>Alice</td>\n",
       "      <td>Smith</td>\n",
       "      <td>45</td>\n",
       "      <td>123-456</td>\n",
       "      <td>alice@theinternet.com</td>\n",
       "    </tr>\n",
       "    <tr>\n",
       "      <th>3</th>\n",
       "      <td>Alice</td>\n",
       "      <td>Smith</td>\n",
       "      <td>45</td>\n",
       "      <td>123-456</td>\n",
       "      <td>Alice@theinternet.com</td>\n",
       "    </tr>\n",
       "  </tbody>\n",
       "</table>\n",
       "</div>"
      ],
      "text/plain": [
       "  First_Name Last_Name  Age    Phone                  Email\n",
       "0      Alice     Smith   28  123-456        alice@email.com\n",
       "1      Alice     Smith   34  456-789        alice@smith.com\n",
       "2      Alice     Smith   45  123-456  alice@theinternet.com\n",
       "3      Alice     Smith   45  123-456  Alice@theinternet.com"
      ]
     },
     "execution_count": 33,
     "metadata": {},
     "output_type": "execute_result"
    }
   ],
   "source": [
    "data = {\n",
    "    'First_Name': ['Alice', 'Alice', 'Alice',  'Alice'],\n",
    "    'Last_Name': ['Smith', 'Smith', 'Smith', 'Smith'],\n",
    "    'Age': [28, 34, 45, 45],\n",
    "    'Phone': ['123-456', '456-789', '123-456', '123-456'],\n",
    "    'Email': ['alice@email.com', 'alice@smith.com', \n",
    "              'alice@theinternet.com',  'Alice@theinternet.com']\n",
    "}\n",
    "\n",
    "fuzzy_duplicates_df = pd.DataFrame(data)\n",
    "fuzzy_duplicates_df"
   ]
  },
  {
   "cell_type": "markdown",
   "id": "e4b8fde1-668e-4d17-a426-98d13c0b4630",
   "metadata": {},
   "source": [
    "In this case, each column is a partial match for all the other columns. Handling this kind of partial (**fuzzy**) matching requires consideration of what each column represents. For example the name `Alice Smith` is relatively common in English-speaking countries, so we should not assume that all of the entries are the same person. Meanwhile ages can be mistyped, and it's even possible that there are multiple people called Alice Smith at the same address, sharing the same phone number. On the other hand row IDs `2` and `3` are probably the same person, given that the only difference is the capitalisation in the `Email` column.\n",
    "\n",
    "How you choose to handle **fuzzy** duplicates depends on your analysis goals. In some cases it might make sense to take a conservative approach to avoid losing data unnecessarily, whereas in other cases it might be necessary to apply more stringent measures to avoid duplicates. You will also need to decide whether to simply drop the **fuzzy** duplicates you identify, or average the values of certain columns (e.g. a product price column).\n",
    "\n",
    "Generally, the more columns you have for reference, the easier it is to determine whether a partial match is a duplicate. There are also software tools to help you, for example this python [library](https://pypi.org/project/fuzzywuzzy/) that uses the [Levenshtein Distance](https://en.wikipedia.org/wiki/Levenshtein_distance) to calculate the differences between strings.\n",
    "### Using GroupBy to Handle Duplicates\n",
    "\n",
    "\n",
    "\n",
    "> In certain scenarios involving fuzzy duplicates, simply dropping the duplicates might not be sufficient. We may want to average the results of certain columns of interest to avoid biasing the data. This can be achieved using the `groupby()` method. It allows us to group data by certain criteria and then apply aggregate functions like `mean()`, `max()`, or `first()`.\n",
    "\n",
    "\n",
    "#### Example: Aggregating Customer Reviews\n",
    "\n",
    "Imagine a dataset of customer reviews where the same customer might have submitted multiple reviews for the same product, possibly with slight variations in their contact details. Our goal is to consolidate these reviews to maintain one entry per customer per product.\n"
   ]
  },
  {
   "cell_type": "code",
   "execution_count": 35,
   "id": "594517eb-7c08-4e61-9d03-406665db743a",
   "metadata": {},
   "outputs": [
    {
     "data": {
      "text/html": [
       "<div>\n",
       "<style scoped>\n",
       "    .dataframe tbody tr th:only-of-type {\n",
       "        vertical-align: middle;\n",
       "    }\n",
       "\n",
       "    .dataframe tbody tr th {\n",
       "        vertical-align: top;\n",
       "    }\n",
       "\n",
       "    .dataframe thead th {\n",
       "        text-align: right;\n",
       "    }\n",
       "</style>\n",
       "<table border=\"1\" class=\"dataframe\">\n",
       "  <thead>\n",
       "    <tr style=\"text-align: right;\">\n",
       "      <th></th>\n",
       "      <th>CustomerID</th>\n",
       "      <th>ProductID</th>\n",
       "      <th>ReviewScore</th>\n",
       "      <th>CustomerEmail</th>\n",
       "    </tr>\n",
       "  </thead>\n",
       "  <tbody>\n",
       "    <tr>\n",
       "      <th>0</th>\n",
       "      <td>C01</td>\n",
       "      <td>101</td>\n",
       "      <td>4</td>\n",
       "      <td>customer1@email.com</td>\n",
       "    </tr>\n",
       "    <tr>\n",
       "      <th>1</th>\n",
       "      <td>C01</td>\n",
       "      <td>101</td>\n",
       "      <td>5</td>\n",
       "      <td>customer1@domain.com</td>\n",
       "    </tr>\n",
       "    <tr>\n",
       "      <th>2</th>\n",
       "      <td>C02</td>\n",
       "      <td>102</td>\n",
       "      <td>3</td>\n",
       "      <td>customer2@email.com</td>\n",
       "    </tr>\n",
       "    <tr>\n",
       "      <th>3</th>\n",
       "      <td>C02</td>\n",
       "      <td>102</td>\n",
       "      <td>3</td>\n",
       "      <td>customer2@domain.com</td>\n",
       "    </tr>\n",
       "    <tr>\n",
       "      <th>4</th>\n",
       "      <td>C03</td>\n",
       "      <td>103</td>\n",
       "      <td>4</td>\n",
       "      <td>customer3@email.com</td>\n",
       "    </tr>\n",
       "  </tbody>\n",
       "</table>\n",
       "</div>"
      ],
      "text/plain": [
       "  CustomerID  ProductID  ReviewScore         CustomerEmail\n",
       "0        C01        101            4   customer1@email.com\n",
       "1        C01        101            5  customer1@domain.com\n",
       "2        C02        102            3   customer2@email.com\n",
       "3        C02        102            3  customer2@domain.com\n",
       "4        C03        103            4   customer3@email.com"
      ]
     },
     "execution_count": 35,
     "metadata": {},
     "output_type": "execute_result"
    }
   ],
   "source": [
    "\n",
    "\n",
    "# Sample review data\n",
    "data = {\n",
    "    'CustomerID': ['C01', 'C01', 'C02', 'C02', 'C03'],\n",
    "    'ProductID': [101, 101, 102, 102, 103],\n",
    "    'ReviewScore': [4, 5, 3, 3, 4],\n",
    "    'CustomerEmail': ['customer1@email.com', 'customer1@domain.com', 'customer2@email.com', 'customer2@domain.com', 'customer3@email.com']\n",
    "}\n",
    "reviews_df = pd.DataFrame(data)\n",
    "\n",
    "reviews_df"
   ]
  },
  {
   "cell_type": "code",
   "execution_count": 36,
   "id": "a8a0d1ca-69f3-4787-b22b-e067e069c94d",
   "metadata": {},
   "outputs": [
    {
     "data": {
      "text/html": [
       "<div>\n",
       "<style scoped>\n",
       "    .dataframe tbody tr th:only-of-type {\n",
       "        vertical-align: middle;\n",
       "    }\n",
       "\n",
       "    .dataframe tbody tr th {\n",
       "        vertical-align: top;\n",
       "    }\n",
       "\n",
       "    .dataframe thead th {\n",
       "        text-align: right;\n",
       "    }\n",
       "</style>\n",
       "<table border=\"1\" class=\"dataframe\">\n",
       "  <thead>\n",
       "    <tr style=\"text-align: right;\">\n",
       "      <th></th>\n",
       "      <th></th>\n",
       "      <th>ReviewScore</th>\n",
       "    </tr>\n",
       "    <tr>\n",
       "      <th>CustomerID</th>\n",
       "      <th>ProductID</th>\n",
       "      <th></th>\n",
       "    </tr>\n",
       "  </thead>\n",
       "  <tbody>\n",
       "    <tr>\n",
       "      <th>C01</th>\n",
       "      <th>101</th>\n",
       "      <td>4.5</td>\n",
       "    </tr>\n",
       "    <tr>\n",
       "      <th>C02</th>\n",
       "      <th>102</th>\n",
       "      <td>3.0</td>\n",
       "    </tr>\n",
       "    <tr>\n",
       "      <th>C03</th>\n",
       "      <th>103</th>\n",
       "      <td>4.0</td>\n",
       "    </tr>\n",
       "  </tbody>\n",
       "</table>\n",
       "</div>"
      ],
      "text/plain": [
       "                      ReviewScore\n",
       "CustomerID ProductID             \n",
       "C01        101                4.5\n",
       "C02        102                3.0\n",
       "C03        103                4.0"
      ]
     },
     "execution_count": 36,
     "metadata": {},
     "output_type": "execute_result"
    }
   ],
   "source": [
    "\n",
    "# Grouping by CustomerID and ProductID, then taking the highest review score\n",
    "aggregated_reviews = reviews_df.groupby(['CustomerID', 'ProductID']).agg({'ReviewScore': 'mean'})\n",
    "\n",
    "aggregated_reviews"
   ]
  },
  {
   "cell_type": "markdown",
   "id": "86038bc8-d942-45d1-85b5-95c1a71f9951",
   "metadata": {},
   "source": [
    "\n",
    "\n",
    "\n",
    "In this code block, we've grouped the reviews by both `CustomerID` and `ProductID`. We then used the `agg()` function to keep only the highest review score for each customer-product pair. This approach ensures that we have a unique, representative review score for each product from each customer, reducing redundancy while preserving crucial information.\n",
    "\n",
    "\n",
    "### Understanding the `agg` Function\n",
    "\n",
    ">The `agg` function is a tool for performing aggregate operations on data. It stands for 'aggregate' and is used to apply one or more operations over the specified axis. This function is particularly useful in scenarios involving `groupby` operations. It allows you to apply a function or a list of function names to be executed along one axis of the `DataFrame` (by default the `0` or row axis).\n",
    "\n",
    "\n",
    "\n",
    "When used with a single function, `agg` applies that function to all columns. Here we use it with the keyword argument `'sum'` , to apply the `sum` method to all columns.\n"
   ]
  },
  {
   "cell_type": "code",
   "execution_count": 42,
   "id": "dc83a213-b6da-4eb7-90f0-4c8ebbe37696",
   "metadata": {},
   "outputs": [
    {
     "name": "stdout",
     "output_type": "stream",
     "text": [
      "Original dataframe:\n",
      "   A  B\n",
      "0  1  2\n",
      "1  3  4\n",
      "\n",
      "Result of using the `agg` function with `sum`:\n"
     ]
    },
    {
     "data": {
      "text/plain": [
       "A    4\n",
       "B    6\n",
       "dtype: int64"
      ]
     },
     "execution_count": 42,
     "metadata": {},
     "output_type": "execute_result"
    }
   ],
   "source": [
    "df = pd.DataFrame([[1, 2], [3, 4]], columns=[\"A\", \"B\"])\n",
    "\n",
    "print(\"Original dataframe:\")\n",
    "print(df)\n",
    "# Applying a single aggregate function\n",
    "result = df.agg('sum')\n",
    "print(\"\\nResult of using the `agg` function with `sum`:\")\n",
    "result\n"
   ]
  },
  {
   "cell_type": "markdown",
   "id": "4d7fe1d3-54b4-4982-98ba-145d9df73fe3",
   "metadata": {},
   "source": [
    "## Categorical Data\n",
    "\n",
    "> Categorical columns are those in which the values are drawn from a predefined set of categories. Examples include the possible colour schemes of a product like a laptop, the country of residence of a customer, or the manufacturer of a car.  We will learn more about the different types of categories elsewhere in this course. \n",
    "\n",
    "The primary aim in cleaning categorical data is to modify the column so that each real world entity has only one corresponding unique value in the column. If you know something about the data the column is describing, you can get an idea of whether the column needs to be cleaned to meet this requirement.\n",
    "\n",
    "For example, when dealing with countries, there should be somewhere in the region of 193 to 237 possible entries, depending on the definition of the word \"country\" that is being used. It is possible for the same country to go by multiple names in your column, in which case it would be helpful to regularise the names such that each country is represented by only a single value in the column. \n",
    "\n",
    "Look at the `DataFrame` below. The column `postal region` contains the country names `UK`, `England`, `Wales`, `Cymru` and `Scotland`, among others. For the purposes of the cost of sending mail, these are all one region, the `United Kingdom`. It would therefore be preferable to set them all to the same value. As with missing values, we can fix this representation with the `.replace()` method\n"
   ]
  },
  {
   "cell_type": "code",
   "execution_count": 45,
   "id": "d6ebdfd5-0734-4771-8787-9d4975b39bb1",
   "metadata": {},
   "outputs": [
    {
     "data": {
      "text/html": [
       "<div>\n",
       "<style scoped>\n",
       "    .dataframe tbody tr th:only-of-type {\n",
       "        vertical-align: middle;\n",
       "    }\n",
       "\n",
       "    .dataframe tbody tr th {\n",
       "        vertical-align: top;\n",
       "    }\n",
       "\n",
       "    .dataframe thead th {\n",
       "        text-align: right;\n",
       "    }\n",
       "</style>\n",
       "<table border=\"1\" class=\"dataframe\">\n",
       "  <thead>\n",
       "    <tr style=\"text-align: right;\">\n",
       "      <th></th>\n",
       "      <th>Customer Name</th>\n",
       "      <th>State</th>\n",
       "    </tr>\n",
       "  </thead>\n",
       "  <tbody>\n",
       "    <tr>\n",
       "      <th>0</th>\n",
       "      <td>Caroline</td>\n",
       "      <td>Benue</td>\n",
       "    </tr>\n",
       "    <tr>\n",
       "      <th>1</th>\n",
       "      <td>Obinna</td>\n",
       "      <td>Anambra</td>\n",
       "    </tr>\n",
       "    <tr>\n",
       "      <th>2</th>\n",
       "      <td>Michael</td>\n",
       "      <td>Imo</td>\n",
       "    </tr>\n",
       "    <tr>\n",
       "      <th>3</th>\n",
       "      <td>Clementina</td>\n",
       "      <td>Abuja</td>\n",
       "    </tr>\n",
       "    <tr>\n",
       "      <th>4</th>\n",
       "      <td>George</td>\n",
       "      <td>Abia</td>\n",
       "    </tr>\n",
       "    <tr>\n",
       "      <th>5</th>\n",
       "      <td>Esther</td>\n",
       "      <td>Lagos</td>\n",
       "    </tr>\n",
       "    <tr>\n",
       "      <th>6</th>\n",
       "      <td>Mercy</td>\n",
       "      <td>Osun</td>\n",
       "    </tr>\n",
       "  </tbody>\n",
       "</table>\n",
       "</div>"
      ],
      "text/plain": [
       "  Customer Name    State\n",
       "0      Caroline    Benue\n",
       "1        Obinna  Anambra\n",
       "2       Michael      Imo\n",
       "3    Clementina    Abuja\n",
       "4        George     Abia\n",
       "5        Esther    Lagos\n",
       "6         Mercy     Osun"
      ]
     },
     "execution_count": 45,
     "metadata": {},
     "output_type": "execute_result"
    }
   ],
   "source": [
    "# Creating a sample dataframe\n",
    "data = {\n",
    "    'Customer Name': ['Caroline', 'Obinna', 'Michael', 'Clementina', 'George', 'Esther', 'Mercy'],\n",
    "    'State': ['Benue', 'Anambra', 'Imo', 'Abuja', 'Abia', 'Lagos', 'Osun']\n",
    "}\n",
    "df = pd.DataFrame(data)\n",
    "df"
   ]
  },
  {
   "cell_type": "code",
   "execution_count": 46,
   "id": "f0208fcb-0660-4ed7-97a8-8dd34efc32ae",
   "metadata": {},
   "outputs": [
    {
     "data": {
      "text/html": [
       "<div>\n",
       "<style scoped>\n",
       "    .dataframe tbody tr th:only-of-type {\n",
       "        vertical-align: middle;\n",
       "    }\n",
       "\n",
       "    .dataframe tbody tr th {\n",
       "        vertical-align: top;\n",
       "    }\n",
       "\n",
       "    .dataframe thead th {\n",
       "        text-align: right;\n",
       "    }\n",
       "</style>\n",
       "<table border=\"1\" class=\"dataframe\">\n",
       "  <thead>\n",
       "    <tr style=\"text-align: right;\">\n",
       "      <th></th>\n",
       "      <th>Customer Name</th>\n",
       "      <th>State</th>\n",
       "    </tr>\n",
       "  </thead>\n",
       "  <tbody>\n",
       "    <tr>\n",
       "      <th>0</th>\n",
       "      <td>Caroline</td>\n",
       "      <td>Middle Belt</td>\n",
       "    </tr>\n",
       "    <tr>\n",
       "      <th>1</th>\n",
       "      <td>Obinna</td>\n",
       "      <td>East</td>\n",
       "    </tr>\n",
       "    <tr>\n",
       "      <th>2</th>\n",
       "      <td>Michael</td>\n",
       "      <td>East</td>\n",
       "    </tr>\n",
       "    <tr>\n",
       "      <th>3</th>\n",
       "      <td>Clementina</td>\n",
       "      <td>Middle Belt</td>\n",
       "    </tr>\n",
       "    <tr>\n",
       "      <th>4</th>\n",
       "      <td>George</td>\n",
       "      <td>East</td>\n",
       "    </tr>\n",
       "    <tr>\n",
       "      <th>5</th>\n",
       "      <td>Esther</td>\n",
       "      <td>West</td>\n",
       "    </tr>\n",
       "    <tr>\n",
       "      <th>6</th>\n",
       "      <td>Mercy</td>\n",
       "      <td>West</td>\n",
       "    </tr>\n",
       "  </tbody>\n",
       "</table>\n",
       "</div>"
      ],
      "text/plain": [
       "  Customer Name        State\n",
       "0      Caroline  Middle Belt\n",
       "1        Obinna         East\n",
       "2       Michael         East\n",
       "3    Clementina  Middle Belt\n",
       "4        George         East\n",
       "5        Esther         West\n",
       "6         Mercy         West"
      ]
     },
     "execution_count": 46,
     "metadata": {},
     "output_type": "execute_result"
    }
   ],
   "source": [
    "state_mapping ={\n",
    "    'Benue': 'Middle Belt',\n",
    "    'Anambra': 'East',\n",
    "    'Imo': 'East',\n",
    "    'Abuja': 'Middle Belt',\n",
    "    'Abia': 'East',\n",
    "    'Lagos': 'West',\n",
    "    'Osun': 'West'\n",
    "}\n",
    "\n",
    "df['State'] = df['State'].replace(state_mapping)\n",
    "\n",
    "df"
   ]
  },
  {
   "cell_type": "markdown",
   "id": "8d362b12-83ed-4435-9914-482bc3816fd3",
   "metadata": {},
   "source": [
    "### Creating Categorical Columns from Continuous Data\n",
    "\n",
    "Continuous variables are those which can take any value on a spectrum. For example the price of an item can potentially take any value greater than zero, usually with a granularity of 1 penny. You might meet instances in your dataset where you might want to generate new categories based on continuous data.  This can be achieved through a process called *binning*, which means dividing the spectrum of possible values into regions, known as **bins**. \n",
    "\n",
    "As an example, consider a `DataFrame` of flight routes, together with their distances in miles. An airline might want to divide them into `short haul`, `medium haul` and `long haul` based on threshold values. To achieve this, we can use the `cut()` method:"
   ]
  },
  {
   "cell_type": "code",
   "execution_count": 47,
   "id": "592799c1-e881-4f09-acd4-9e28b433f126",
   "metadata": {},
   "outputs": [],
   "source": [
    "# Creating a sample dataframe\n",
    "data = {\n",
    "    'Route': ['NYC-LON', 'LON-PAR', 'NYC-TOK', 'LON-SYD', 'PAR-BER'],\n",
    "    'Distance': [3461, 214, 6749, 10562, 546]\n",
    "}\n",
    "flights = pd.DataFrame(data)"
   ]
  },
  {
   "cell_type": "code",
   "execution_count": 48,
   "id": "2b346dd5-6ee9-4d2e-89a0-0fd9b5ec6498",
   "metadata": {},
   "outputs": [
    {
     "data": {
      "text/html": [
       "<div>\n",
       "<style scoped>\n",
       "    .dataframe tbody tr th:only-of-type {\n",
       "        vertical-align: middle;\n",
       "    }\n",
       "\n",
       "    .dataframe tbody tr th {\n",
       "        vertical-align: top;\n",
       "    }\n",
       "\n",
       "    .dataframe thead th {\n",
       "        text-align: right;\n",
       "    }\n",
       "</style>\n",
       "<table border=\"1\" class=\"dataframe\">\n",
       "  <thead>\n",
       "    <tr style=\"text-align: right;\">\n",
       "      <th></th>\n",
       "      <th>Route</th>\n",
       "      <th>Distance</th>\n",
       "    </tr>\n",
       "  </thead>\n",
       "  <tbody>\n",
       "    <tr>\n",
       "      <th>0</th>\n",
       "      <td>NYC-LON</td>\n",
       "      <td>3461</td>\n",
       "    </tr>\n",
       "    <tr>\n",
       "      <th>1</th>\n",
       "      <td>LON-PAR</td>\n",
       "      <td>214</td>\n",
       "    </tr>\n",
       "    <tr>\n",
       "      <th>2</th>\n",
       "      <td>NYC-TOK</td>\n",
       "      <td>6749</td>\n",
       "    </tr>\n",
       "    <tr>\n",
       "      <th>3</th>\n",
       "      <td>LON-SYD</td>\n",
       "      <td>10562</td>\n",
       "    </tr>\n",
       "    <tr>\n",
       "      <th>4</th>\n",
       "      <td>PAR-BER</td>\n",
       "      <td>546</td>\n",
       "    </tr>\n",
       "  </tbody>\n",
       "</table>\n",
       "</div>"
      ],
      "text/plain": [
       "     Route  Distance\n",
       "0  NYC-LON      3461\n",
       "1  LON-PAR       214\n",
       "2  NYC-TOK      6749\n",
       "3  LON-SYD     10562\n",
       "4  PAR-BER       546"
      ]
     },
     "execution_count": 48,
     "metadata": {},
     "output_type": "execute_result"
    }
   ],
   "source": [
    "flights"
   ]
  },
  {
   "cell_type": "code",
   "execution_count": 50,
   "id": "f95355bd-c4a9-4a2f-90f3-c8febb78059b",
   "metadata": {},
   "outputs": [],
   "source": [
    "# Defining the bin edges and labels\n",
    "bin_edges = [0, 1500, 4000, 12000]  # in miles\n",
    "bin_labels = ['short haul', 'medium haul', 'long haul']"
   ]
  },
  {
   "cell_type": "code",
   "execution_count": 51,
   "id": "99d72054-7324-4f08-987d-8f13c98513e7",
   "metadata": {},
   "outputs": [],
   "source": [
    "# Creating a new categorical column 'Flight Type' by binning the 'Distance' column\n",
    "flights['Flight Type'] = pd.cut(flights['Distance'], bins=bin_edges, labels=bin_labels, right=False)"
   ]
  },
  {
   "cell_type": "code",
   "execution_count": 52,
   "id": "0067d58d-517a-4c67-9730-6f7bdad724b6",
   "metadata": {},
   "outputs": [
    {
     "data": {
      "text/html": [
       "<div>\n",
       "<style scoped>\n",
       "    .dataframe tbody tr th:only-of-type {\n",
       "        vertical-align: middle;\n",
       "    }\n",
       "\n",
       "    .dataframe tbody tr th {\n",
       "        vertical-align: top;\n",
       "    }\n",
       "\n",
       "    .dataframe thead th {\n",
       "        text-align: right;\n",
       "    }\n",
       "</style>\n",
       "<table border=\"1\" class=\"dataframe\">\n",
       "  <thead>\n",
       "    <tr style=\"text-align: right;\">\n",
       "      <th></th>\n",
       "      <th>Route</th>\n",
       "      <th>Distance</th>\n",
       "      <th>Flight Type</th>\n",
       "    </tr>\n",
       "  </thead>\n",
       "  <tbody>\n",
       "    <tr>\n",
       "      <th>0</th>\n",
       "      <td>NYC-LON</td>\n",
       "      <td>3461</td>\n",
       "      <td>medium haul</td>\n",
       "    </tr>\n",
       "    <tr>\n",
       "      <th>1</th>\n",
       "      <td>LON-PAR</td>\n",
       "      <td>214</td>\n",
       "      <td>short haul</td>\n",
       "    </tr>\n",
       "    <tr>\n",
       "      <th>2</th>\n",
       "      <td>NYC-TOK</td>\n",
       "      <td>6749</td>\n",
       "      <td>long haul</td>\n",
       "    </tr>\n",
       "    <tr>\n",
       "      <th>3</th>\n",
       "      <td>LON-SYD</td>\n",
       "      <td>10562</td>\n",
       "      <td>long haul</td>\n",
       "    </tr>\n",
       "    <tr>\n",
       "      <th>4</th>\n",
       "      <td>PAR-BER</td>\n",
       "      <td>546</td>\n",
       "      <td>short haul</td>\n",
       "    </tr>\n",
       "  </tbody>\n",
       "</table>\n",
       "</div>"
      ],
      "text/plain": [
       "     Route  Distance  Flight Type\n",
       "0  NYC-LON      3461  medium haul\n",
       "1  LON-PAR       214   short haul\n",
       "2  NYC-TOK      6749    long haul\n",
       "3  LON-SYD     10562    long haul\n",
       "4  PAR-BER       546   short haul"
      ]
     },
     "execution_count": 52,
     "metadata": {},
     "output_type": "execute_result"
    }
   ],
   "source": [
    "flights"
   ]
  },
  {
   "cell_type": "markdown",
   "id": "cc7cb50a-0475-4402-86ec-0df7425f2f9e",
   "metadata": {},
   "source": [
    "In the above example example:\n",
    "- We create a `DataFrame` `flights` with columns `Route` and `Distance`, containing various flight routes and their distances in miles\n",
    "- We define the bin edges `bin_edges` and labels `bin_labels` to specify the ranges and labels for our new categorical data. Note that there is one more element in the `bin edges` list than the number of bins we need. The bin edges define the lower and upper bounds of each bin. So a short haul flight will be from `0` to `1500` miles in this case.\n",
    "- We use `pd.cut()` to create a new column `Flight Type` by binning the `Distance` column based on the defined bins and labels. The argument `right = False` is used to specify that the bins are *left-closed*, meaning that the left bin edge is included in the bin, but the right bin edge is not.\n",
    "- Finally, we display the original and modified `DataFrames` to observe the changes\n",
    "\n",
    "This approach allows you to categorise continuous data into discrete bins, simplifying analysis and enabling you to gain insights into the distribution and frequency of the data across different categories. This is particularly useful when you want to analyze or visualise your data at a higher or more generalised level than the raw, continuous data allows."
   ]
  },
  {
   "cell_type": "markdown",
   "id": "a48b2e90-44ca-4725-bd45-0eb8f7910962",
   "metadata": {},
   "source": [
    "## Key Takeaways\n",
    "\n",
    "- Use Pandas' `.str.strip()` method to remove whitespace from the start and end of strings in a dataset\n",
    "- Standardise case of categorical variables in Pandas using `.str.lower()` or `.str.upper()` methods\n",
    "- Use the `replace()` function in Pandas to correct incorrect values in a column\n",
    "- Use the `.replace()` method in Pandas to standardise values in a column, and `.astype('bool')` to convert the column to Boolean type\n",
    "- Regular expressions (regex) can be used in data cleaning to match and replace values in a column that don't adhere to a specific pattern\n",
    "- Use the `.replace()` method in Pandas to clean and regularise numeric data, including removing or replacing non-numeric characters\n",
    "- Use `unique` to get distinct values and `nunique` to count unique values in a Pandas series\n",
    "- In Pandas, use `.duplicated()` to find and `drop_duplicates()` to remove exact duplicates; handling fuzzy duplicates requires careful consideration of data context\n",
    "- Use Pandas' `groupby()` and `agg()` functions to consolidate fuzzy duplicates and reduce bias in data\n",
    "- The `agg` function in Pandas performs aggregate operations, often used with `groupby` on a specified axis of a `DataFrame`\n",
    "- Use the `.replace()` method to standardise categorical data, ensuring each category is represented by a single unique value\n",
    "- Binning in Pandas allows categorisation of continuous data into discrete bins using the `cut()` method, simplifying analysis and visualisation"
   ]
  },
  {
   "cell_type": "code",
   "execution_count": null,
   "id": "4888d05d-81ba-44b9-bc84-31eb018bce6a",
   "metadata": {},
   "outputs": [],
   "source": []
  }
 ],
 "metadata": {
  "kernelspec": {
   "display_name": "Python 3 (ipykernel)",
   "language": "python",
   "name": "python3"
  },
  "language_info": {
   "codemirror_mode": {
    "name": "ipython",
    "version": 3
   },
   "file_extension": ".py",
   "mimetype": "text/x-python",
   "name": "python",
   "nbconvert_exporter": "python",
   "pygments_lexer": "ipython3",
   "version": "3.11.5"
  }
 },
 "nbformat": 4,
 "nbformat_minor": 5
}
