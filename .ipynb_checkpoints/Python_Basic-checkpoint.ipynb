{
 "cells": [
  {
   "cell_type": "markdown",
   "id": "194601b3-fb67-4ed7-a314-a7ae991445fa",
   "metadata": {},
   "source": [
    "1. Python Syntax and Basics"
   ]
  },
  {
   "cell_type": "markdown",
   "id": "c3eaa2d8-c36b-4cf5-b564-d4f0ef267114",
   "metadata": {},
   "source": [
    "Comment"
   ]
  },
  {
   "cell_type": "code",
   "execution_count": 1,
   "id": "421d283c-4002-457c-9be2-ad147e56c943",
   "metadata": {},
   "outputs": [
    {
     "name": "stdout",
     "output_type": "stream",
     "text": [
      "Hello, World\n"
     ]
    }
   ],
   "source": [
    "# This is ccomment\n",
    "print(\"Hello, World\") # This prints a greeting"
   ]
  },
  {
   "cell_type": "code",
   "execution_count": 11,
   "id": "7af58dbf-de54-415b-9fb4-fee43d5c2bfd",
   "metadata": {},
   "outputs": [
    {
     "data": {
      "text/plain": [
       "'\\nThis iss a multiple line commen\\nin python\\n'"
      ]
     },
     "execution_count": 11,
     "metadata": {},
     "output_type": "execute_result"
    }
   ],
   "source": [
    "\"\"\"\n",
    "This iss a multiple line commen\n",
    "in python\n",
    "\"\"\""
   ]
  },
  {
   "cell_type": "markdown",
   "id": "649b7ff9-4edf-412b-a99b-d50f036e2f9a",
   "metadata": {},
   "source": [
    "Printing to the Console"
   ]
  },
  {
   "cell_type": "code",
   "execution_count": 5,
   "id": "d9e2a0a5-0bb6-478d-a64d-7e32f45df79a",
   "metadata": {},
   "outputs": [
    {
     "name": "stdout",
     "output_type": "stream",
     "text": [
      "My name is Chita Chiamaka\n"
     ]
    }
   ],
   "source": [
    "print(\"My name is Chita Chiamaka\")"
   ]
  },
  {
   "cell_type": "code",
   "execution_count": 6,
   "id": "ab1926af-e4d4-4291-8c44-5a3e63f653d3",
   "metadata": {},
   "outputs": [
    {
     "name": "stdout",
     "output_type": "stream",
     "text": [
      "My comment is Sofia De first\n"
     ]
    }
   ],
   "source": [
    "print('My comment is Sofia De first')"
   ]
  },
  {
   "cell_type": "markdown",
   "id": "fc7a65fa-8b9b-467c-b9aa-b9b1f198fec5",
   "metadata": {},
   "source": [
    "Variables aand Date Types"
   ]
  },
  {
   "cell_type": "code",
   "execution_count": 12,
   "id": "ed514164-f64b-40aa-9b67-92139fbc406c",
   "metadata": {},
   "outputs": [],
   "source": [
    "name = \"Chita\" # String\n",
    "age = 30 #Integer\n",
    "height = 5.5 # Float\n",
    "is_student = True # Boolean"
   ]
  },
  {
   "cell_type": "markdown",
   "id": "40f861c7-4f1f-43d2-8170-6d0252eedca9",
   "metadata": {},
   "source": [
    "Basic Operations"
   ]
  },
  {
   "cell_type": "markdown",
   "id": "f0fff150-968f-4308-bcad-cb9945248684",
   "metadata": {},
   "source": [
    "Arithmetic Operaions"
   ]
  },
  {
   "cell_type": "code",
   "execution_count": 13,
   "id": "691b20d5-babf-48a8-9171-fabbb19b2ca2",
   "metadata": {},
   "outputs": [
    {
     "name": "stdout",
     "output_type": "stream",
     "text": [
      "8\n"
     ]
    }
   ],
   "source": [
    "addition = 5+ 3\n",
    "print(addition)"
   ]
  },
  {
   "cell_type": "code",
   "execution_count": 14,
   "id": "b6749ad0-82f3-4e52-a824-53496f056952",
   "metadata": {},
   "outputs": [
    {
     "name": "stdout",
     "output_type": "stream",
     "text": [
      "75\n"
     ]
    }
   ],
   "source": [
    "multiplication = 25 * 3\n",
    "print(multiplication)"
   ]
  },
  {
   "cell_type": "code",
   "execution_count": 15,
   "id": "33fb2e5f-32ed-486e-a7c2-f596ac231a7d",
   "metadata": {},
   "outputs": [
    {
     "name": "stdout",
     "output_type": "stream",
     "text": [
      "24.0\n"
     ]
    }
   ],
   "source": [
    "division = 72 /3 \n",
    "print(division)"
   ]
  },
  {
   "cell_type": "code",
   "execution_count": 16,
   "id": "c8923893-ac9b-44a9-af33-63cf8ff85ecc",
   "metadata": {},
   "outputs": [
    {
     "name": "stdout",
     "output_type": "stream",
     "text": [
      "16\n"
     ]
    }
   ],
   "source": [
    "exponential = 2 ** 4\n",
    "print(exponential)"
   ]
  },
  {
   "cell_type": "markdown",
   "id": "adbade33-775b-4056-9a24-ed44da9abad2",
   "metadata": {},
   "source": [
    "String Operations"
   ]
  },
  {
   "cell_type": "code",
   "execution_count": 17,
   "id": "c933b65a-2df2-4d8b-a92f-cd292b59ed9a",
   "metadata": {},
   "outputs": [
    {
     "name": "stdout",
     "output_type": "stream",
     "text": [
      "Hello World\n"
     ]
    }
   ],
   "source": [
    "greeting = \"Hello\" + \" \" + \"World\" # Concatenation\n",
    "print(greeting)"
   ]
  },
  {
   "cell_type": "code",
   "execution_count": 18,
   "id": "142eb30f-60d9-4894-860c-97cae273701a",
   "metadata": {},
   "outputs": [
    {
     "name": "stdout",
     "output_type": "stream",
     "text": [
      "Chita Chiamaka\n"
     ]
    }
   ],
   "source": [
    "first_name = \"Chita\"\n",
    "last_name = \"Chiamaka\"\n",
    "fullname = first_name + \" \" + last_name\n",
    "print(fullname)"
   ]
  },
  {
   "cell_type": "code",
   "execution_count": 21,
   "id": "b7dbb68e-0b7d-411c-8e55-28fd4e211841",
   "metadata": {},
   "outputs": [
    {
     "name": "stdout",
     "output_type": "stream",
     "text": [
      "my name is Chita Chiamaka\n",
      "My name is Chita Chiamaka, Iam a programmer\n"
     ]
    }
   ],
   "source": [
    "print(\"my name is\", fullname)\n",
    "print(f\"My name is {fullname}, Iam a programmer\")"
   ]
  },
  {
   "cell_type": "code",
   "execution_count": 22,
   "id": "5de0e2be-3c9e-496f-ab67-1c8217046052",
   "metadata": {},
   "outputs": [
    {
     "name": "stdout",
     "output_type": "stream",
     "text": [
      "Hi!Hi!Hi!\n"
     ]
    }
   ],
   "source": [
    "echo = 'Hi!' * 3\n",
    "print(echo)"
   ]
  },
  {
   "cell_type": "markdown",
   "id": "caece62a-dd32-46ab-aa8f-22cc3989f9dd",
   "metadata": {},
   "source": [
    "Boolean Operations"
   ]
  },
  {
   "cell_type": "markdown",
   "id": "65de7eb6-054c-4c8b-8545-40a922f8012e",
   "metadata": {},
   "source": [
    "and, or and not"
   ]
  },
  {
   "cell_type": "code",
   "execution_count": 23,
   "id": "f6288d17-4bc0-4c23-8700-605e55f4c142",
   "metadata": {},
   "outputs": [],
   "source": [
    "result = True and False # False\n",
    "result = True or False # True\n",
    "result = not True # False"
   ]
  },
  {
   "cell_type": "markdown",
   "id": "e34b2271-7aa3-4c92-8cf1-a93ffd4488d8",
   "metadata": {},
   "source": [
    "Controls Structures"
   ]
  },
  {
   "cell_type": "markdown",
   "id": "fb49059a-d27e-4315-96d0-b02b6cc43b25",
   "metadata": {},
   "source": [
    "Conditional Statements(if, elif and else)"
   ]
  },
  {
   "cell_type": "code",
   "execution_count": 24,
   "id": "1cceae17-6a5e-42f6-a1d7-4dfaeed4488a",
   "metadata": {},
   "outputs": [
    {
     "name": "stdout",
     "output_type": "stream",
     "text": [
      "you are an adult, because your age is 18\n"
     ]
    }
   ],
   "source": [
    "age = 18\n",
    "if age >= 18:\n",
    "    print(f\"you are an adult, because your age is {age}\")\n",
    "elif age > 12:\n",
    "    print(f\"you are a teenager, because your age is {age}\")\n",
    "else:\n",
    "    print(f\"you are a child, because your age is {age}\")"
   ]
  },
  {
   "cell_type": "code",
   "execution_count": 25,
   "id": "8e2c44e7-df75-49d9-8d11-6a7b3b1292de",
   "metadata": {},
   "outputs": [
    {
     "name": "stdin",
     "output_type": "stream",
     "text": [
      "please enter your age:  21\n"
     ]
    },
    {
     "name": "stdout",
     "output_type": "stream",
     "text": [
      "you are an adult, because your age is 21\n"
     ]
    }
   ],
   "source": [
    "age = int(input(\"please enter your age: \"))\n",
    "if age >= 18:\n",
    "    print(f\"you are an adult, because your age is {age}\")\n",
    "elif age > 12:\n",
    "    print(f\"you are a teenager, because your age is {age}\")\n",
    "else:\n",
    "    print(f\"you are a child, because your age is {age}\")"
   ]
  },
  {
   "cell_type": "code",
   "execution_count": 26,
   "id": "810d2623-1490-478a-82f7-644f847133ef",
   "metadata": {},
   "outputs": [
    {
     "name": "stdout",
     "output_type": "stream",
     "text": [
      "PORA Academy\n"
     ]
    }
   ],
   "source": [
    "school_name = 'PORA Academy'\n",
    "print(school_name)"
   ]
  },
  {
   "cell_type": "code",
   "execution_count": 27,
   "id": "e23c3097-2702-4b99-8d9b-6aa659d7cc75",
   "metadata": {},
   "outputs": [
    {
     "name": "stdout",
     "output_type": "stream",
     "text": [
      "<class 'str'>\n"
     ]
    }
   ],
   "source": [
    "print(type(school_name))"
   ]
  },
  {
   "cell_type": "code",
   "execution_count": 28,
   "id": "6e004bc2-d684-44a6-af73-754bd80d354f",
   "metadata": {},
   "outputs": [
    {
     "name": "stdout",
     "output_type": "stream",
     "text": [
      "<class 'int'>\n"
     ]
    }
   ],
   "source": [
    "number = 12345\n",
    "print(type(number))"
   ]
  },
  {
   "cell_type": "code",
   "execution_count": 31,
   "id": "247b23d1-bcd1-4655-abb4-7d66e2ea61a5",
   "metadata": {},
   "outputs": [
    {
     "name": "stdout",
     "output_type": "stream",
     "text": [
      "<class 'float'>\n"
     ]
    }
   ],
   "source": [
    "decimal_number = 45.7890\n",
    "print(type(decimal_number))"
   ]
  },
  {
   "cell_type": "code",
   "execution_count": null,
   "id": "927f22f5-5004-498c-b543-6cd000afb984",
   "metadata": {},
   "outputs": [],
   "source": []
  }
 ],
 "metadata": {
  "kernelspec": {
   "display_name": "Python 3 (ipykernel)",
   "language": "python",
   "name": "python3"
  },
  "language_info": {
   "codemirror_mode": {
    "name": "ipython",
    "version": 3
   },
   "file_extension": ".py",
   "mimetype": "text/x-python",
   "name": "python",
   "nbconvert_exporter": "python",
   "pygments_lexer": "ipython3",
   "version": "3.12.7"
  }
 },
 "nbformat": 4,
 "nbformat_minor": 5
}
