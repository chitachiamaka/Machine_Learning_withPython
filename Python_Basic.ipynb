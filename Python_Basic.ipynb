{
 "cells": [
  {
   "cell_type": "markdown",
   "id": "194601b3-fb67-4ed7-a314-a7ae991445fa",
   "metadata": {},
   "source": [
    "1. Python Syntax and Basics"
   ]
  },
  {
   "cell_type": "markdown",
   "id": "c3eaa2d8-c36b-4cf5-b564-d4f0ef267114",
   "metadata": {},
   "source": [
    "Comment"
   ]
  },
  {
   "cell_type": "code",
   "execution_count": 1,
   "id": "421d283c-4002-457c-9be2-ad147e56c943",
   "metadata": {},
   "outputs": [
    {
     "name": "stdout",
     "output_type": "stream",
     "text": [
      "Hello, World\n"
     ]
    }
   ],
   "source": [
    "# This is ccomment\n",
    "print(\"Hello, World\") # This prints a greeting"
   ]
  },
  {
   "cell_type": "code",
   "execution_count": 11,
   "id": "7af58dbf-de54-415b-9fb4-fee43d5c2bfd",
   "metadata": {},
   "outputs": [
    {
     "data": {
      "text/plain": [
       "'\\nThis iss a multiple line commen\\nin python\\n'"
      ]
     },
     "execution_count": 11,
     "metadata": {},
     "output_type": "execute_result"
    }
   ],
   "source": [
    "\"\"\"\n",
    "This iss a multiple line commen\n",
    "in python\n",
    "\"\"\""
   ]
  },
  {
   "cell_type": "markdown",
   "id": "649b7ff9-4edf-412b-a99b-d50f036e2f9a",
   "metadata": {},
   "source": [
    "Printing to the Console"
   ]
  },
  {
   "cell_type": "code",
   "execution_count": 5,
   "id": "d9e2a0a5-0bb6-478d-a64d-7e32f45df79a",
   "metadata": {},
   "outputs": [
    {
     "name": "stdout",
     "output_type": "stream",
     "text": [
      "My name is Chita Chiamaka\n"
     ]
    }
   ],
   "source": [
    "print(\"My name is Chita Chiamaka\")"
   ]
  },
  {
   "cell_type": "code",
   "execution_count": 6,
   "id": "ab1926af-e4d4-4291-8c44-5a3e63f653d3",
   "metadata": {},
   "outputs": [
    {
     "name": "stdout",
     "output_type": "stream",
     "text": [
      "My comment is Sofia De first\n"
     ]
    }
   ],
   "source": [
    "print('My comment is Sofia De first')"
   ]
  },
  {
   "cell_type": "markdown",
   "id": "fc7a65fa-8b9b-467c-b9aa-b9b1f198fec5",
   "metadata": {},
   "source": [
    "Variables aand Date Types"
   ]
  },
  {
   "cell_type": "code",
   "execution_count": 12,
   "id": "ed514164-f64b-40aa-9b67-92139fbc406c",
   "metadata": {},
   "outputs": [],
   "source": [
    "name = \"Chita\" # String\n",
    "age = 30 #Integer\n",
    "height = 5.5 # Float\n",
    "is_student = True # Boolean"
   ]
  },
  {
   "cell_type": "markdown",
   "id": "40f861c7-4f1f-43d2-8170-6d0252eedca9",
   "metadata": {},
   "source": [
    "Basic Operations"
   ]
  },
  {
   "cell_type": "markdown",
   "id": "f0fff150-968f-4308-bcad-cb9945248684",
   "metadata": {},
   "source": [
    "Arithmetic Operaions"
   ]
  },
  {
   "cell_type": "code",
   "execution_count": 13,
   "id": "691b20d5-babf-48a8-9171-fabbb19b2ca2",
   "metadata": {},
   "outputs": [
    {
     "name": "stdout",
     "output_type": "stream",
     "text": [
      "8\n"
     ]
    }
   ],
   "source": [
    "addition = 5+ 3\n",
    "print(addition)"
   ]
  },
  {
   "cell_type": "code",
   "execution_count": 14,
   "id": "b6749ad0-82f3-4e52-a824-53496f056952",
   "metadata": {},
   "outputs": [
    {
     "name": "stdout",
     "output_type": "stream",
     "text": [
      "75\n"
     ]
    }
   ],
   "source": [
    "multiplication = 25 * 3\n",
    "print(multiplication)"
   ]
  },
  {
   "cell_type": "code",
   "execution_count": 15,
   "id": "33fb2e5f-32ed-486e-a7c2-f596ac231a7d",
   "metadata": {},
   "outputs": [
    {
     "name": "stdout",
     "output_type": "stream",
     "text": [
      "24.0\n"
     ]
    }
   ],
   "source": [
    "division = 72 /3 \n",
    "print(division)"
   ]
  },
  {
   "cell_type": "code",
   "execution_count": 16,
   "id": "c8923893-ac9b-44a9-af33-63cf8ff85ecc",
   "metadata": {},
   "outputs": [
    {
     "name": "stdout",
     "output_type": "stream",
     "text": [
      "16\n"
     ]
    }
   ],
   "source": [
    "exponential = 2 ** 4\n",
    "print(exponential)"
   ]
  },
  {
   "cell_type": "markdown",
   "id": "adbade33-775b-4056-9a24-ed44da9abad2",
   "metadata": {},
   "source": [
    "String Operations"
   ]
  },
  {
   "cell_type": "code",
   "execution_count": 17,
   "id": "c933b65a-2df2-4d8b-a92f-cd292b59ed9a",
   "metadata": {},
   "outputs": [
    {
     "name": "stdout",
     "output_type": "stream",
     "text": [
      "Hello World\n"
     ]
    }
   ],
   "source": [
    "greeting = \"Hello\" + \" \" + \"World\" # Concatenation\n",
    "print(greeting)"
   ]
  },
  {
   "cell_type": "code",
   "execution_count": 18,
   "id": "142eb30f-60d9-4894-860c-97cae273701a",
   "metadata": {},
   "outputs": [
    {
     "name": "stdout",
     "output_type": "stream",
     "text": [
      "Chita Chiamaka\n"
     ]
    }
   ],
   "source": [
    "first_name = \"Chita\"\n",
    "last_name = \"Chiamaka\"\n",
    "fullname = first_name + \" \" + last_name\n",
    "print(fullname)"
   ]
  },
  {
   "cell_type": "code",
   "execution_count": 21,
   "id": "b7dbb68e-0b7d-411c-8e55-28fd4e211841",
   "metadata": {},
   "outputs": [
    {
     "name": "stdout",
     "output_type": "stream",
     "text": [
      "my name is Chita Chiamaka\n",
      "My name is Chita Chiamaka, Iam a programmer\n"
     ]
    }
   ],
   "source": [
    "print(\"my name is\", fullname)\n",
    "print(f\"My name is {fullname}, Iam a programmer\")"
   ]
  },
  {
   "cell_type": "code",
   "execution_count": 22,
   "id": "5de0e2be-3c9e-496f-ab67-1c8217046052",
   "metadata": {},
   "outputs": [
    {
     "name": "stdout",
     "output_type": "stream",
     "text": [
      "Hi!Hi!Hi!\n"
     ]
    }
   ],
   "source": [
    "echo = 'Hi!' * 3\n",
    "print(echo)"
   ]
  },
  {
   "cell_type": "markdown",
   "id": "caece62a-dd32-46ab-aa8f-22cc3989f9dd",
   "metadata": {},
   "source": [
    "Boolean Operations"
   ]
  },
  {
   "cell_type": "markdown",
   "id": "65de7eb6-054c-4c8b-8545-40a922f8012e",
   "metadata": {},
   "source": [
    "and, or and not"
   ]
  },
  {
   "cell_type": "code",
   "execution_count": 23,
   "id": "f6288d17-4bc0-4c23-8700-605e55f4c142",
   "metadata": {},
   "outputs": [],
   "source": [
    "result = True and False # False\n",
    "result = True or False # True\n",
    "result = not True # False"
   ]
  },
  {
   "cell_type": "markdown",
   "id": "e34b2271-7aa3-4c92-8cf1-a93ffd4488d8",
   "metadata": {},
   "source": [
    "Controls Structures"
   ]
  },
  {
   "cell_type": "markdown",
   "id": "fb49059a-d27e-4315-96d0-b02b6cc43b25",
   "metadata": {},
   "source": [
    "Conditional Statements(if, elif and else)"
   ]
  },
  {
   "cell_type": "code",
   "execution_count": 24,
   "id": "1cceae17-6a5e-42f6-a1d7-4dfaeed4488a",
   "metadata": {},
   "outputs": [
    {
     "name": "stdout",
     "output_type": "stream",
     "text": [
      "you are an adult, because your age is 18\n"
     ]
    }
   ],
   "source": [
    "age = 18\n",
    "if age >= 18:\n",
    "    print(f\"you are an adult, because your age is {age}\")\n",
    "elif age > 12:\n",
    "    print(f\"you are a teenager, because your age is {age}\")\n",
    "else:\n",
    "    print(f\"you are a child, because your age is {age}\")"
   ]
  },
  {
   "cell_type": "code",
   "execution_count": 25,
   "id": "8e2c44e7-df75-49d9-8d11-6a7b3b1292de",
   "metadata": {},
   "outputs": [
    {
     "name": "stdin",
     "output_type": "stream",
     "text": [
      "please enter your age:  21\n"
     ]
    },
    {
     "name": "stdout",
     "output_type": "stream",
     "text": [
      "you are an adult, because your age is 21\n"
     ]
    }
   ],
   "source": [
    "age = int(input(\"please enter your age: \"))\n",
    "if age >= 18:\n",
    "    print(f\"you are an adult, because your age is {age}\")\n",
    "elif age > 12:\n",
    "    print(f\"you are a teenager, because your age is {age}\")\n",
    "else:\n",
    "    print(f\"you are a child, because your age is {age}\")"
   ]
  },
  {
   "cell_type": "code",
   "execution_count": 26,
   "id": "810d2623-1490-478a-82f7-644f847133ef",
   "metadata": {},
   "outputs": [
    {
     "name": "stdout",
     "output_type": "stream",
     "text": [
      "PORA Academy\n"
     ]
    }
   ],
   "source": [
    "school_name = 'PORA Academy'\n",
    "print(school_name)"
   ]
  },
  {
   "cell_type": "code",
   "execution_count": 27,
   "id": "e23c3097-2702-4b99-8d9b-6aa659d7cc75",
   "metadata": {},
   "outputs": [
    {
     "name": "stdout",
     "output_type": "stream",
     "text": [
      "<class 'str'>\n"
     ]
    }
   ],
   "source": [
    "print(type(school_name))"
   ]
  },
  {
   "cell_type": "code",
   "execution_count": 28,
   "id": "6e004bc2-d684-44a6-af73-754bd80d354f",
   "metadata": {},
   "outputs": [
    {
     "name": "stdout",
     "output_type": "stream",
     "text": [
      "<class 'int'>\n"
     ]
    }
   ],
   "source": [
    "number = 12345\n",
    "print(type(number))"
   ]
  },
  {
   "cell_type": "code",
   "execution_count": 31,
   "id": "247b23d1-bcd1-4655-abb4-7d66e2ea61a5",
   "metadata": {},
   "outputs": [
    {
     "name": "stdout",
     "output_type": "stream",
     "text": [
      "<class 'float'>\n"
     ]
    }
   ],
   "source": [
    "decimal_number = 45.7890\n",
    "print(type(decimal_number))"
   ]
  },
  {
   "cell_type": "markdown",
   "id": "d20c70d0-7532-4d0a-94dc-f077905d06cd",
   "metadata": {},
   "source": [
    "### Data Structures"
   ]
  },
  {
   "cell_type": "markdown",
   "id": "62f1b0c4-c8c5-403e-80fb-1fa8a3ef0987",
   "metadata": {},
   "source": [
    "'List': Is an order collection of items that can be of different types"
   ]
  },
  {
   "cell_type": "code",
   "execution_count": 32,
   "id": "4d329650-b35b-4ba7-8e11-ce3cd5890e1a",
   "metadata": {},
   "outputs": [
    {
     "name": "stdout",
     "output_type": "stream",
     "text": [
      "['apple', 'banana', 'cherry']\n"
     ]
    }
   ],
   "source": [
    "fruits = ['apple', 'banana', 'cherry']\n",
    "print(fruits)"
   ]
  },
  {
   "cell_type": "code",
   "execution_count": 33,
   "id": "9ecbafe7-c4d1-4f2c-aab5-80a552c5fa3f",
   "metadata": {},
   "outputs": [
    {
     "name": "stdout",
     "output_type": "stream",
     "text": [
      "<class 'list'>\n"
     ]
    }
   ],
   "source": [
    "print(type(fruits))"
   ]
  },
  {
   "cell_type": "code",
   "execution_count": 34,
   "id": "457591a8-b92d-4c8a-920f-2f2891db646a",
   "metadata": {},
   "outputs": [
    {
     "name": "stdout",
     "output_type": "stream",
     "text": [
      "The first element in my baskets of fruits is apple\n"
     ]
    }
   ],
   "source": [
    "print(f\"The first element in my baskets of fruits is {fruits[0]}\")"
   ]
  },
  {
   "cell_type": "code",
   "execution_count": 39,
   "id": "9ffcde95-dc31-467c-8c47-67d89fb0b21c",
   "metadata": {},
   "outputs": [
    {
     "name": "stdout",
     "output_type": "stream",
     "text": [
      "apple\n",
      "banana\n",
      "cherry\n",
      "cherry\n"
     ]
    }
   ],
   "source": [
    "print(fruits[0])\n",
    "print(fruits[1])\n",
    "print(fruits[2])\n",
    "print(fruits[-1])"
   ]
  },
  {
   "cell_type": "code",
   "execution_count": 40,
   "id": "74b7a331-ffe9-4de3-96b8-cae07ad3c077",
   "metadata": {},
   "outputs": [
    {
     "name": "stdout",
     "output_type": "stream",
     "text": [
      "banana\n"
     ]
    }
   ],
   "source": [
    "print(fruits[-2])"
   ]
  },
  {
   "cell_type": "code",
   "execution_count": 41,
   "id": "595d8b4c-db85-4633-86c2-905dd5bbc9a0",
   "metadata": {},
   "outputs": [
    {
     "name": "stdout",
     "output_type": "stream",
     "text": [
      "apple\n"
     ]
    }
   ],
   "source": [
    "print(fruits[-3])"
   ]
  },
  {
   "cell_type": "markdown",
   "id": "6faeca90-d037-4f16-9df3-3ea27c13ea16",
   "metadata": {},
   "source": [
    "### Slicing Lists"
   ]
  },
  {
   "cell_type": "code",
   "execution_count": 42,
   "id": "a4fde2b3-3730-4d02-aa27-e1601af34d6e",
   "metadata": {},
   "outputs": [
    {
     "name": "stdout",
     "output_type": "stream",
     "text": [
      "[2, 3, 4]\n",
      "[0, 1, 2, 3]\n",
      "[5, 6, 7, 8, 9, 10]\n"
     ]
    }
   ],
   "source": [
    "numbers = [0, 1, 2, 3, 4, 5, 6, 7, 8, 9, 10]\n",
    "print(numbers[2:5]) # output [1,2,3,4]\n",
    "print(numbers[:4]) # output [0,1,2,3]\n",
    "print(numbers[5:]) # output [5,6,7,8,9,10]"
   ]
  },
  {
   "cell_type": "markdown",
   "id": "62b0c1cb-07a8-4f8e-a075-8ff22517190c",
   "metadata": {},
   "source": [
    "### Modifying List"
   ]
  },
  {
   "cell_type": "code",
   "execution_count": 44,
   "id": "35663266-0619-409d-b067-94f82ed8dc88",
   "metadata": {},
   "outputs": [
    {
     "name": "stdout",
     "output_type": "stream",
     "text": [
      "['apple', 'banana', 'cherry']\n"
     ]
    }
   ],
   "source": [
    "print(fruits)"
   ]
  },
  {
   "cell_type": "code",
   "execution_count": 45,
   "id": "16296e90-bf17-4545-a355-0000625553c1",
   "metadata": {},
   "outputs": [
    {
     "name": "stdout",
     "output_type": "stream",
     "text": [
      "['apple', 'banana', 'cherry', 'Pear']\n"
     ]
    }
   ],
   "source": [
    "fruits.append('Pear')\n",
    "print(fruits)"
   ]
  },
  {
   "cell_type": "code",
   "execution_count": 48,
   "id": "b310f611-0547-42f4-8440-caa7af7f0b5b",
   "metadata": {},
   "outputs": [
    {
     "name": "stdout",
     "output_type": "stream",
     "text": [
      "['apple', 'Mango', 'Mango', 'banana', 'cherry', 'Pear']\n"
     ]
    }
   ],
   "source": [
    "fruits.insert(1,\"Mango\")\n",
    "print(fruits)"
   ]
  },
  {
   "cell_type": "code",
   "execution_count": 54,
   "id": "37fc56ef-c7e9-49ce-a5bf-4b99d77c5341",
   "metadata": {},
   "outputs": [
    {
     "name": "stdout",
     "output_type": "stream",
     "text": [
      "['Mango', 'Mango', 'banana', 'cherry', 'Pear']\n"
     ]
    }
   ],
   "source": [
    "print(fruits)"
   ]
  },
  {
   "cell_type": "code",
   "execution_count": 55,
   "id": "fcbeb6e2-fcd2-4be7-b4f1-fd0839ef23a6",
   "metadata": {},
   "outputs": [
    {
     "name": "stdout",
     "output_type": "stream",
     "text": [
      "['apple', 'Mango', 'Mango', 'banana', 'cherry', 'Pear']\n"
     ]
    }
   ],
   "source": [
    "fruits.insert(0,'apple')\n",
    "print(fruits)"
   ]
  },
  {
   "cell_type": "code",
   "execution_count": 57,
   "id": "967e3b83-c418-46c1-87ef-fa8139b5776d",
   "metadata": {},
   "outputs": [],
   "source": [
    "fruits.remove('apple')"
   ]
  },
  {
   "cell_type": "code",
   "execution_count": 58,
   "id": "4d3dbc37-3a80-4f6b-9d32-2bd5bc3ad5ef",
   "metadata": {},
   "outputs": [
    {
     "name": "stdout",
     "output_type": "stream",
     "text": [
      "['Mango', 'Mango', 'banana', 'cherry', 'Pear']\n"
     ]
    }
   ],
   "source": [
    "print(fruits)"
   ]
  },
  {
   "cell_type": "code",
   "execution_count": 60,
   "id": "8f15bda5-3ca9-4748-9ab9-0ffe87ec9056",
   "metadata": {},
   "outputs": [
    {
     "data": {
      "text/plain": [
       "'Pear'"
      ]
     },
     "execution_count": 60,
     "metadata": {},
     "output_type": "execute_result"
    }
   ],
   "source": [
    "fruits.pop()"
   ]
  },
  {
   "cell_type": "code",
   "execution_count": 62,
   "id": "579821f2-b54a-4519-9771-888aa3a40973",
   "metadata": {},
   "outputs": [],
   "source": [
    "fruits[0] = 'orange'"
   ]
  },
  {
   "cell_type": "code",
   "execution_count": 63,
   "id": "b848e0ff-20c8-4c88-ae71-0127910cdf21",
   "metadata": {},
   "outputs": [
    {
     "name": "stdout",
     "output_type": "stream",
     "text": [
      "['orange', 'Mango', 'banana', 'cherry']\n"
     ]
    }
   ],
   "source": [
    "print(fruits)"
   ]
  },
  {
   "cell_type": "code",
   "execution_count": 64,
   "id": "79cdfd7b-ea8d-4fea-8f57-873079803249",
   "metadata": {},
   "outputs": [
    {
     "name": "stdout",
     "output_type": "stream",
     "text": [
      "['orange', 'Mango', 'banana', 'cherry', 'grape', 'pineapple']\n"
     ]
    }
   ],
   "source": [
    "more_fruits = [\"grape\", \"pineapple\"]\n",
    "all_fruits = fruits + more_fruits\n",
    "print(all_fruits)"
   ]
  },
  {
   "cell_type": "markdown",
   "id": "94f37542-1c5d-4406-89f9-076daeab06f2",
   "metadata": {},
   "source": [
    "### for Loop"
   ]
  },
  {
   "cell_type": "code",
   "execution_count": 68,
   "id": "ba8bfc3d-40e5-42e8-90dc-78929c498ec0",
   "metadata": {},
   "outputs": [
    {
     "name": "stdout",
     "output_type": "stream",
     "text": [
      "orange\n",
      "Mango\n",
      "banana\n",
      "cherry\n",
      "grape\n",
      "pineapple\n"
     ]
    }
   ],
   "source": [
    "for fruits in all_fruits:\n",
    "    print(fruits)"
   ]
  },
  {
   "cell_type": "code",
   "execution_count": 65,
   "id": "6876bb38-8b7d-46ea-8a9d-4392998f6ee0",
   "metadata": {},
   "outputs": [
    {
     "name": "stdout",
     "output_type": "stream",
     "text": [
      "6\n"
     ]
    }
   ],
   "source": [
    "print(len(all_fruits))"
   ]
  },
  {
   "cell_type": "code",
   "execution_count": 69,
   "id": "814bbf6c-7541-4479-bf7e-8f4001da8332",
   "metadata": {},
   "outputs": [
    {
     "name": "stdout",
     "output_type": "stream",
     "text": [
      "Chidinma bring your plate to collect food\n",
      "Chiamaka bring your plate to collect food\n",
      "emeka bring your plate to collect food\n",
      "chima bring your plate to collect food\n",
      "chinedu bring your plate to collect food\n"
     ]
    }
   ],
   "source": [
    "enugu_mlr_brethren = ['Chidinma', 'Chiamaka', 'emeka', 'chima', 'chinedu']\n",
    "for brethren in enugu_mlr_brethren:\n",
    "    print(f\"{brethren} bring your plate to collect food\")"
   ]
  },
  {
   "cell_type": "code",
   "execution_count": 70,
   "id": "3edd0b35-5dae-4c38-b082-a66749f4321f",
   "metadata": {},
   "outputs": [
    {
     "name": "stdout",
     "output_type": "stream",
     "text": [
      "0\n",
      "1\n",
      "2\n",
      "3\n",
      "4\n"
     ]
    }
   ],
   "source": [
    "# Loop using  rangen()\n",
    "for i in range (5):\n",
    "    print(i)"
   ]
  },
  {
   "cell_type": "code",
   "execution_count": 71,
   "id": "ac0cdb72-a572-4c9c-85c3-12460b4e042f",
   "metadata": {},
   "outputs": [
    {
     "name": "stdout",
     "output_type": "stream",
     "text": [
      "c\n",
      "h\n",
      "i\n",
      "a\n",
      "m\n",
      "a\n",
      "k\n",
      "a\n"
     ]
    }
   ],
   "source": [
    "for char in \"chiamaka\":\n",
    "    print(char)"
   ]
  },
  {
   "cell_type": "markdown",
   "id": "c3035908-aafb-4e94-9198-505187ab9363",
   "metadata": {},
   "source": [
    "### Tuples"
   ]
  },
  {
   "cell_type": "markdown",
   "id": "16e50391-858e-453f-b390-903f15134850",
   "metadata": {},
   "source": [
    "Tuple are similar to list, but tuples are imutable, it cannot change"
   ]
  },
  {
   "cell_type": "code",
   "execution_count": 74,
   "id": "7e700be0-2f77-45bf-953b-633b1d124f63",
   "metadata": {},
   "outputs": [
    {
     "name": "stdout",
     "output_type": "stream",
     "text": [
      "<class 'tuple'>\n"
     ]
    }
   ],
   "source": [
    "gender = (\"male\", \"female\")\n",
    "print(type(gender))"
   ]
  },
  {
   "cell_type": "code",
   "execution_count": 75,
   "id": "00979a2c-1bac-4ca3-a03d-dbab15120671",
   "metadata": {},
   "outputs": [
    {
     "name": "stdout",
     "output_type": "stream",
     "text": [
      "<class 'tuple'>\n"
     ]
    }
   ],
   "source": [
    "dimensions = (1920, 1080)\n",
    "print(type(dimensions))"
   ]
  },
  {
   "cell_type": "markdown",
   "id": "5732a307-49aa-4327-aebb-1a7f42dde8f6",
   "metadata": {},
   "source": [
    "### 'Dictionaries' : key-value"
   ]
  },
  {
   "cell_type": "code",
   "execution_count": 76,
   "id": "4d4a0eb8-23ec-407b-8f90-21343f6880bf",
   "metadata": {},
   "outputs": [],
   "source": [
    "student = {\n",
    "    \"name\": \"Chita\",\n",
    "    \"age\": 31,\n",
    "    \"course\": \"Machine Learning\",\n",
    "    \"gender\": \"female\",\n",
    "    \"location\": \"Onitsha\"\n",
    "}"
   ]
  },
  {
   "cell_type": "code",
   "execution_count": 77,
   "id": "f5b45605-7371-4f61-bfd5-e7e874db5ffb",
   "metadata": {},
   "outputs": [
    {
     "name": "stdout",
     "output_type": "stream",
     "text": [
      "{'name': 'Chita', 'age': 31, 'course': 'Machine Learning', 'gender': 'female', 'location': 'Onitsha'}\n"
     ]
    }
   ],
   "source": [
    "print(student)"
   ]
  },
  {
   "cell_type": "code",
   "execution_count": 78,
   "id": "f2a8abbb-78de-412d-8cc1-658342165b35",
   "metadata": {},
   "outputs": [
    {
     "name": "stdout",
     "output_type": "stream",
     "text": [
      "Chita\n"
     ]
    }
   ],
   "source": [
    "print(student[\"name\"])"
   ]
  },
  {
   "cell_type": "code",
   "execution_count": 80,
   "id": "819d5eb3-fbf2-4e45-a37d-a438c2e8a6b0",
   "metadata": {},
   "outputs": [
    {
     "name": "stdout",
     "output_type": "stream",
     "text": [
      "Chita age is 31 \n"
     ]
    }
   ],
   "source": [
    "print(f\"{student[\"name\"]} age is {student[\"age\"]} \")"
   ]
  },
  {
   "cell_type": "markdown",
   "id": "85a21703-b41b-479a-85c7-568ef36f80ba",
   "metadata": {},
   "source": [
    "### Set"
   ]
  },
  {
   "cell_type": "markdown",
   "id": "f94bd38e-41e2-4603-b32b-d19649dac1d5",
   "metadata": {},
   "source": [
    "A Set is an unorder collection of unique element"
   ]
  },
  {
   "cell_type": "code",
   "execution_count": 81,
   "id": "7fba3f37-75cd-45a4-bab5-a15ae0c46a85",
   "metadata": {},
   "outputs": [
    {
     "name": "stdout",
     "output_type": "stream",
     "text": [
      "{1, 2, 3, 4, 5}\n"
     ]
    }
   ],
   "source": [
    "unique_numbers = {1, 2, 3, 4, 4,5, 5, 5}\n",
    "print(unique_numbers)"
   ]
  },
  {
   "cell_type": "code",
   "execution_count": 82,
   "id": "59c37a23-0935-4a70-aa86-3cbec29ec6f3",
   "metadata": {},
   "outputs": [
    {
     "name": "stdout",
     "output_type": "stream",
     "text": [
      "<class 'set'>\n"
     ]
    }
   ],
   "source": [
    "print(type(unique_numbers))"
   ]
  },
  {
   "cell_type": "markdown",
   "id": "4ee89fd9-2a67-4eb3-878c-9f1e5e5b0465",
   "metadata": {},
   "source": [
    "### While Loop"
   ]
  },
  {
   "cell_type": "markdown",
   "id": "c58c0a62-d4b9-4796-b268-a0a6d5952fa2",
   "metadata": {},
   "source": [
    " ### while condition:\n",
    "   ### do something\n",
    "    ###  when to stop"
   ]
  },
  {
   "cell_type": "code",
   "execution_count": 85,
   "id": "43d9814a-7d44-4803-be13-567245aa47ee",
   "metadata": {},
   "outputs": [
    {
     "name": "stdout",
     "output_type": "stream",
     "text": [
      "0\n",
      "1\n",
      "2\n",
      "3\n",
      "4\n"
     ]
    }
   ],
   "source": [
    "count = 0\n",
    "while count < 5:\n",
    "    print(count)\n",
    "    count += 1 # count = count +1"
   ]
  },
  {
   "cell_type": "code",
   "execution_count": 89,
   "id": "95055093-2cd0-4a0a-80fa-6249ae191e12",
   "metadata": {},
   "outputs": [
    {
     "name": "stdin",
     "output_type": "stream",
     "text": [
      "Type 'exit' to quit:  kkk\n"
     ]
    },
    {
     "name": "stdout",
     "output_type": "stream",
     "text": [
      "you typedkkk\n"
     ]
    },
    {
     "name": "stdin",
     "output_type": "stream",
     "text": [
      "Type 'exit' to quit:   kjj\n"
     ]
    },
    {
     "name": "stdout",
     "output_type": "stream",
     "text": [
      "you typed kjj\n"
     ]
    },
    {
     "name": "stdin",
     "output_type": "stream",
     "text": [
      "Type 'exit' to quit:  exit\n"
     ]
    },
    {
     "name": "stdout",
     "output_type": "stream",
     "text": [
      "you typedexit\n"
     ]
    }
   ],
   "source": [
    "response = \"\"\n",
    "while response != \"exit\":\n",
    "    response = input(\"Type 'exit' to quit: \")\n",
    "    print(\"you typed\" + response)"
   ]
  },
  {
   "cell_type": "code",
   "execution_count": null,
   "id": "12373045-20a7-408b-a07b-d200c1541a32",
   "metadata": {},
   "outputs": [],
   "source": []
  }
 ],
 "metadata": {
  "kernelspec": {
   "display_name": "Python 3 (ipykernel)",
   "language": "python",
   "name": "python3"
  },
  "language_info": {
   "codemirror_mode": {
    "name": "ipython",
    "version": 3
   },
   "file_extension": ".py",
   "mimetype": "text/x-python",
   "name": "python",
   "nbconvert_exporter": "python",
   "pygments_lexer": "ipython3",
   "version": "3.12.7"
  }
 },
 "nbformat": 4,
 "nbformat_minor": 5
}
